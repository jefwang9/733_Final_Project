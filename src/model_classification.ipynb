{
 "cells": [
  {
   "cell_type": "code",
   "execution_count": 128,
   "metadata": {},
   "outputs": [],
   "source": [
    "import pandas as pd\n",
    "from pandas import DataFrame\n",
    "import matplotlib.pyplot as plt\n",
    "import seaborn as sns\n",
    "from torch import nn\n",
    "import torch\n",
    "import numpy as np\n",
    "from torch.autograd import Variable \n",
    "from sys import *\n",
    "from subprocess import *\n",
    "import os\n"
   ]
  },
  {
   "cell_type": "code",
   "execution_count": 129,
   "metadata": {},
   "outputs": [
    {
     "name": "stdout",
     "output_type": "stream",
     "text": [
      "Index(['Unnamed: 0', 'Departure', 'Return', 'Bike', 'Departure station',\n",
      "       'Return station', 'Membership type', 'Covered distance (m)',\n",
      "       'Duration (sec.)', 'Departure battery voltage (mV)',\n",
      "       'Return battery voltage (mV)', 'Departure temperature (C)',\n",
      "       'Return temperature (C)', 'Stopover duration (sec.)',\n",
      "       'Number of stopovers', 'postal_code_x', 'Departure lat',\n",
      "       'Departure long', 'postal_code_y', 'Return lat', 'Return long'],\n",
      "      dtype='object')\n"
     ]
    }
   ],
   "source": [
    "mobi_data = pd.read_csv(\"../data/Mobi_System_Data_2020.csv\", compression='zip').dropna()\n",
    "geo_data = pd.read_csv('../data/geocodings.csv',index_col=0)\n",
    "data = mobi_data.merge(geo_data.rename({'lat':'Departure lat','long':'Departure long'},axis=1),left_on='Departure station',right_on='address').drop('address',axis=1)\n",
    "data = data.merge(geo_data.rename({'lat':'Return lat','long':'Return long'},axis=1),left_on='Return station',right_on='address').drop('address',axis=1)\n",
    "print(data.columns)\n",
    "data[\"time\"] = pd.to_datetime(data[\"Departure\"], format=\"%Y-%m-%d %H:%M\")\n",
    "# data[\"hour\"] = data[\"time\"].dt.hour\n",
    "# data[\"day\"] = data[\"time\"].dt.day\n",
    "# data[\"dayofweek\"] = data[\"time\"].dt.dayofweek\n",
    "# data[\"month\"] = data[\"time\"].dt.month\n",
    "# data[\"year\"] = data[\"time\"].dt.year\n",
    "stations = pd.read_csv(\"../data/stations.csv\")\n",
    "max_lat, min_lat = stations[\"lat\"].max(), stations[\"lat\"].min()\n",
    "max_long, min_long = stations[\"long\"].max(), stations[\"long\"].min()"
   ]
  },
  {
   "cell_type": "code",
   "execution_count": 130,
   "metadata": {},
   "outputs": [],
   "source": [
    "def generate_time_df(start_time, period):\n",
    "    # predict_data = pd.DataFrame(data={\n",
    "    #     \"time\": [],\n",
    "    #     \"lat\": [],\n",
    "    #     \"long\": [],\n",
    "    #     \"parks\": [],\n",
    "    #     \"stops\": [],\n",
    "    #     \"population\": [],\n",
    "    #     \"station\": []})\n",
    "    # for row in stations.iterrows():\n",
    "    #     time = pd.date_range(start_time, periods=peroid, freq='H')\n",
    "\n",
    "    #     station_data = pd.DataFrame(data={\"time\": time})\n",
    "    #     station_data[\"lat\"] = (row[1][\"lat\"] - min_lat) / (max_lat - min_lat)\n",
    "    #     station_data[\"long\"] = (row[1][\"long\"] - min_long) / (max_long - min_long)\n",
    "    #     station_data[\"station\"] = row[1][\"station\"]\n",
    "    #     station_data[\"parks\"] = row[1][\"parks\"]\n",
    "    #     station_data[\"stops\"] = row[1][\"stops\"]\n",
    "    #     station_data[\"population\"] = row[1][\"population\"]\n",
    "    #     station_data[\"bike_ways\"] = row[1][\"bike_ways\"]\n",
    "        \n",
    "    #     predict_data = pd.concat([predict_data, station_data])\n",
    "    time_series = pd.date_range(start_time, periods=period, freq='H')\n",
    "    predict_data = pd.DataFrame(data={\"time\": time_series})\n",
    "    predict_data = predict_data.merge(stations, how=\"cross\")\n",
    "    predict_data[\"lat\"] = (predict_data[\"lat\"] - min_lat) / (max_lat - min_lat)\n",
    "    predict_data[\"long\"] = (predict_data[\"long\"] - min_long) / (max_long - min_long)\n",
    "    \n",
    "    return predict_data\n"
   ]
  },
  {
   "cell_type": "code",
   "execution_count": 131,
   "metadata": {},
   "outputs": [],
   "source": [
    "features = [\"month\", \"dayofweek\", \"hour\", \"lat\", \"long\", \"parks\", \"stops\", \"population\", \"bike_ways\"]\n",
    "counts_data_departure = data.groupby([\"time\", \"Departure lat\", \"Departure long\", \"Departure station\"]).size().reset_index(name='counts')\n",
    "counts_data_departure = counts_data_departure.rename(columns={\"Departure lat\": \"lat\", \"Departure long\": \"long\", \"Departure station\": \"station\"})\n",
    "\n",
    "departure_time_df = generate_time_df('2020-01-01', 8760)\n",
    "\n",
    "train_data_departure = departure_time_df.merge(\n",
    "    counts_data_departure[[\"time\", \"station\", \"counts\"]], \n",
    "    how=\"left\", \n",
    "    on=[\"time\", \"station\"])\n",
    "train_data_departure[\"counts\"] = train_data_departure[\"counts\"].fillna(0.00001)\n",
    "\n",
    "# train_data_departure[\"month\"] = train_data_departure[\"month\"] / 12\n",
    "# train_data_departure[\"day\"] = train_data_departure[\"day\"] / 7\n",
    "# train_data_departure[\"hour\"] = train_data_departure[\"hour\"] / 23\n",
    "    \n",
    "\n"
   ]
  },
  {
   "cell_type": "code",
   "execution_count": 132,
   "metadata": {},
   "outputs": [],
   "source": [
    "counts_data_return = data.loc[:, [\"time\", \"Return lat\", \"Return long\", \"Return station\", \"Duration (sec.)\"]].rename(columns={\"Duration (sec.)\": \"duration\"})\n",
    "counts_data_return[\"duration\"] = (counts_data_return[\"duration\"] / 3600).astype(int)\n",
    "counts_data_return[\"time\"] = counts_data_return[\"time\"] + pd.to_timedelta(counts_data_return[\"duration\"], unit=\"H\")\n",
    "# counts_data_return[\"Duration (sec.)\"] = (counts_data_return[\"Duration (sec.)\"] / 3600).astype(int)\n",
    "# counts_data_return[\"hour\"] = counts_data_return[\"hour\"] + counts_data_return[\"Duration (sec.)\"]\n",
    "# counts_data_return[\"day\"] = counts_data_return[\"day\"] + (counts_data_return[\"hour\"] / 24).astype(int)\n",
    "# counts_data_return[\"dayofweek\"] = counts_data_return[\"dayofweek\"] + (counts_data_return[\"hour\"] / 24).astype(int)\n",
    "# counts_data_return[\"hour\"] = counts_data_return[\"hour\"].mod(24)\n",
    "counts_data_return = counts_data_return.drop(columns=[\"duration\"])\n",
    "counts_data_return = counts_data_return.groupby([\"time\", \"Return lat\", \"Return long\", \"Return station\"]).size().reset_index(name='counts')\n",
    "counts_data_return = counts_data_return.rename(columns={\"Return lat\": \"lat\", \"Return long\": \"long\", \"Return station\": \"station\"})\n",
    "return_time_df = generate_time_df('2020-01-01', 8760)\n",
    "train_data_return = return_time_df.merge(\n",
    "    counts_data_return[[\"time\", \"station\", \"counts\"]], \n",
    "    how=\"left\", \n",
    "    on=[\"time\", \"station\"])\n",
    "train_data_return[\"counts\"] = train_data_return[\"counts\"].fillna(0.00001)\n",
    "\n",
    "# train_data_return[\"month\"] = train_data_return[\"month\"] / 12\n",
    "# train_data_return[\"day\"] = train_data_return[\"day\"] / 7\n",
    "# train_data_return[\"hour\"] = train_data_return[\"hour\"] / 23"
   ]
  },
  {
   "cell_type": "code",
   "execution_count": 133,
   "metadata": {},
   "outputs": [
    {
     "name": "stdout",
     "output_type": "stream",
     "text": [
      "549209.2231999997\n",
      "549864.2163500001\n"
     ]
    }
   ],
   "source": [
    "print(train_data_return[\"counts\"].sum())\n",
    "print(train_data_departure[\"counts\"].sum())"
   ]
  },
  {
   "cell_type": "code",
   "execution_count": 134,
   "metadata": {},
   "outputs": [
    {
     "name": "stdout",
     "output_type": "stream",
     "text": [
      "34949 157146 37855\n"
     ]
    }
   ],
   "source": [
    "train_data = train_data_departure.loc[:, [\"time\", \"station\", \"counts\"]].rename(columns={\"counts\": \"counts_departure\"})\n",
    "train_data[\"counts_return\"] = train_data_return[\"counts\"]\n",
    "# train_data[\"ratio\"] = train_data_departure[\"counts\"] / train_data_return[\"counts\"]\n",
    "train_data[\"hour\"] = train_data[\"time\"].dt.hour\n",
    "\n",
    "conditions = [\n",
    "    (train_data[\"hour\"] <= 6) & (train_data[\"hour\"] >= 22),\n",
    "    (train_data[\"hour\"] >= 7) & (train_data[\"hour\"] <= 11),\n",
    "    (train_data[\"hour\"] >= 12) & (train_data[\"hour\"] <= 21)\n",
    "]\n",
    "choices = [0, 0.5, 1]\n",
    "train_data[\"hour\"] = np.select(conditions, choices, default=0)\n",
    "train_data[\"month\"] = train_data[\"time\"].dt.month\n",
    "train_data[\"day\"] = train_data[\"time\"].dt.day\n",
    "train_data[\"dayofweek\"] = train_data[\"time\"].dt.dayofweek\n",
    "train_data = train_data.groupby([\"month\", \"day\", \"dayofweek\", \"hour\", \"station\"]).sum().reset_index()\n",
    "train_data = train_data.merge(stations, on=\"station\", how=\"left\")\n",
    "train_data[\"lat\"] = (train_data[\"lat\"] - min_lat) / (max_lat - min_lat)\n",
    "train_data[\"long\"] = (train_data[\"long\"] - min_long) / (max_long - min_long)\n",
    "train_data[\"ratio\"] = train_data[\"counts_departure\"] / train_data[\"counts_return\"]\n",
    "# print(train_data)\n",
    "# train_data = train_data.groupby([\"month\", \"dayofweek\", \"day\", \"hour\", \"lat\", \"long\", \"parks\", \"stops\", \"population\", \"bike_ways\"]).sum()\n",
    "# print(train_data[\"hour\"])\n",
    "\n",
    "conditions = [\n",
    "    train_data[\"ratio\"] <= 0.5,\n",
    "    (train_data[\"ratio\"] > 0.5) & (train_data[\"ratio\"] < 2.0),\n",
    "    train_data[\"ratio\"] >= 2.0\n",
    "]\n",
    "choices = [0, 1, 2]\n",
    "train_data[\"class\"] = np.select(conditions, choices, default=1)\n",
    "train_data[\"month\"] = train_data[\"month\"] / 12\n",
    "train_data[\"dayofweek\"] = train_data[\"dayofweek\"] / 6\n",
    "# train_data[\"hour\"] = train_data[\"hour\"] / 23\n",
    "\n",
    "num_1 = train_data.loc[train_data[\"class\"] == 0].shape[0]\n",
    "num_2 = train_data.loc[train_data[\"class\"] == 1].shape[0]\n",
    "num_3 = train_data.loc[train_data[\"class\"] == 2].shape[0]\n",
    "x = train_data[features]\n",
    "y = train_data[\"class\"]\n",
    "print(num_1, num_2, num_3)"
   ]
  },
  {
   "cell_type": "code",
   "execution_count": 135,
   "metadata": {},
   "outputs": [],
   "source": [
    "from xgboost import XGBClassifier\n",
    "model = XGBClassifier(use_label_encoder=False, eval_metric=\"mlogloss\")\n",
    "model = model.fit(x, y)"
   ]
  },
  {
   "cell_type": "code",
   "execution_count": 150,
   "metadata": {},
   "outputs": [],
   "source": [
    "time_series = pd.date_range('2022-05-01', periods=168, freq='H')\n",
    "prediction = pd.DataFrame(data={\"time\": time_series})\n",
    "\n",
    "prediction[\"hour\"] = prediction[\"time\"].dt.hour\n",
    "\n",
    "conditions = [\n",
    "    (prediction[\"hour\"] <= 6) & (prediction[\"hour\"] >= 22),\n",
    "    (prediction[\"hour\"] >= 7) & (prediction[\"hour\"] <= 11),\n",
    "    (prediction[\"hour\"] >= 12) & (prediction[\"hour\"] <= 21)\n",
    "]\n",
    "choices = [0, 0.5, 1]\n",
    "prediction[\"hour\"] = np.select(conditions, choices, default=0)\n",
    "\n",
    "prediction[\"month\"] = prediction[\"time\"].dt.month\n",
    "prediction[\"dayofweek\"] = prediction[\"time\"].dt.dayofweek\n",
    "prediction[\"day\"] = prediction[\"time\"].dt.day\n",
    "prediction = prediction.drop(columns=[\"time\"]).drop_duplicates()\n",
    "prediction = prediction.merge(stations, how=\"cross\")\n",
    "prediction[\"lat\"] = (prediction[\"lat\"] - min_lat) / (max_lat - min_lat)\n",
    "prediction[\"long\"] = (prediction[\"long\"] - min_long) / (max_long - min_long)\n",
    "\n",
    "\n",
    "# prediction[\"hour\"] = prediction[\"hour\"] / 23\n",
    "# prediction = prediction[features].drop_duplicates()\n",
    "prediction[\"month\"] = prediction[\"month\"] / 12\n",
    "prediction[\"dayofweek\"] = prediction[\"dayofweek\"] / 6\n",
    "# print(difference)\n",
    "prediction[\"class\"] = model.predict(prediction[features])"
   ]
  },
  {
   "cell_type": "code",
   "execution_count": 161,
   "metadata": {},
   "outputs": [
    {
     "name": "stdout",
     "output_type": "stream",
     "text": [
      "(105, 14) (100, 14)\n"
     ]
    }
   ],
   "source": [
    "plenty_bikes = prediction.loc[prediction[\"class\"] == 0]\n",
    "lack_bikes = prediction.loc[prediction[\"class\"] == 2]\n",
    "print(plenty_bikes.shape, lack_bikes.shape)\n"
   ]
  }
 ],
 "metadata": {
  "interpreter": {
   "hash": "6201843772fd9857aa519d927ec692354182860add5b8d93783d514dd2c767d8"
  },
  "kernelspec": {
   "display_name": "Python 3.7.11 ('CMPT733A1')",
   "language": "python",
   "name": "python3"
  },
  "language_info": {
   "codemirror_mode": {
    "name": "ipython",
    "version": 3
   },
   "file_extension": ".py",
   "mimetype": "text/x-python",
   "name": "python",
   "nbconvert_exporter": "python",
   "pygments_lexer": "ipython3",
   "version": "3.7.11"
  },
  "orig_nbformat": 4
 },
 "nbformat": 4,
 "nbformat_minor": 2
}
