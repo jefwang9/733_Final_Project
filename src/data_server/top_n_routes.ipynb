{
 "cells": [
  {
   "cell_type": "code",
   "execution_count": 1,
   "metadata": {},
   "outputs": [],
   "source": [
    "import pandas as pd"
   ]
  },
  {
   "cell_type": "code",
   "execution_count": 2,
   "metadata": {},
   "outputs": [],
   "source": [
    "def get_useful_columns(df):\n",
    "    new_df = df[[\"Departure\", \"Return\", \"Departure station\", \"Return station\"]]\n",
    "    return new_df"
   ]
  },
  {
   "cell_type": "code",
   "execution_count": 3,
   "metadata": {},
   "outputs": [],
   "source": [
    "def process_df():\n",
    "    dfs = []\n",
    "    \n",
    "    for y in range(2017, 2022):\n",
    "        tmp_df = pd.read_csv(f\"../../data/Mobi_System_data_{y}.csv\", compression='zip')\n",
    "        dfs.append(get_useful_columns(tmp_df))\n",
    "    \n",
    "    df = pd.concat(dfs)\n",
    "    df[\"Departure\"] = pd.to_datetime(df[\"Departure\"], errors=\"coerce\")\n",
    "    df[\"Return\"] = pd.to_datetime(df[\"Return\"], errors=\"coerce\")\n",
    "    df.dropna(inplace=True)\n",
    "\n",
    "    df[\"DepartureYear\"] = df[\"Departure\"].dt.year\n",
    "    df[\"DepartureMonth\"] = df[\"Departure\"].dt.month\n",
    "    df[\"ReturnYear\"] = df[\"Return\"].dt.year\n",
    "    df[\"ReturnMonth\"] = df[\"Return\"].dt.month\n",
    "    df.drop(columns=[\"Departure\", \"Return\"], inplace=True)\n",
    "    \n",
    "    return df"
   ]
  },
  {
   "cell_type": "code",
   "execution_count": 4,
   "metadata": {},
   "outputs": [],
   "source": [
    "df = process_df()"
   ]
  },
  {
   "cell_type": "code",
   "execution_count": 9,
   "metadata": {},
   "outputs": [],
   "source": [
    "def get_routes(df, top_n, month, year):\n",
    "    df = df[(df[\"DepartureMonth\"] == month) & (df[\"ReturnMonth\"] == month)]\n",
    "    df = df[(df[\"DepartureYear\"] == year) & (df[\"ReturnYear\"] == year)]\n",
    "    \n",
    "    df = df.groupby([\"Departure station\", \"Return station\"]).size().reset_index(name=\"Count\")\n",
    "    df = df.sort_values(by=\"Count\", ascending=False).set_index(\"Count\")\n",
    "    df = df.head(top_n)\n",
    "    return df.to_dict()"
   ]
  },
  {
   "cell_type": "code",
   "execution_count": 10,
   "metadata": {},
   "outputs": [
    {
     "data": {
      "text/plain": [
       "{'Departure station': {109: '0035 Coal Harbour Community Centre',\n",
       "  82: '0093 Chilco & Robson',\n",
       "  62: '0187 Bute & Davie',\n",
       "  58: '0050 Bute & Comox'},\n",
       " 'Return station': {109: '0035 Coal Harbour Community Centre',\n",
       "  82: '0093 Chilco & Robson',\n",
       "  62: '0036 Bute & Robson',\n",
       "  58: '0032 Comox & Denman'}}"
      ]
     },
     "execution_count": 10,
     "metadata": {},
     "output_type": "execute_result"
    }
   ],
   "source": [
    "get_routes(df, 5, 3, 2017)"
   ]
  }
 ],
 "metadata": {
  "interpreter": {
   "hash": "22ae493f92d293a45c7d26c3ff5831394f43e19049df66ac7f903e1fc6b0addb"
  },
  "kernelspec": {
   "display_name": "Python 3.9.7 ('733')",
   "language": "python",
   "name": "python3"
  },
  "language_info": {
   "codemirror_mode": {
    "name": "ipython",
    "version": 3
   },
   "file_extension": ".py",
   "mimetype": "text/x-python",
   "name": "python",
   "nbconvert_exporter": "python",
   "pygments_lexer": "ipython3",
   "version": "3.9.7"
  },
  "orig_nbformat": 4
 },
 "nbformat": 4,
 "nbformat_minor": 2
}
