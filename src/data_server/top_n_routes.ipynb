{
 "cells": [
  {
   "cell_type": "code",
   "execution_count": 1,
   "metadata": {},
   "outputs": [],
   "source": [
    "import pandas as pd"
   ]
  },
  {
   "cell_type": "code",
   "execution_count": 2,
   "metadata": {},
   "outputs": [],
   "source": [
    "def merge_geo_coordinates(df):\n",
    "    geo = pd.read_csv(f\"../../data/geocodings.csv\")[[\"address\", \"lat\", \"long\"]]\n",
    "    \n",
    "    # Copying these two aren't expensive\n",
    "    return_geo = geo.rename(columns={\"address\": \"Return station\",\n",
    "                                     \"lat\": \"Return lat\",\n",
    "                                     \"long\": \"Return long\"})\n",
    "    depart_geo = geo.rename(columns={\"address\": \"Departure station\",\n",
    "                                     \"lat\": \"Departure lat\",\n",
    "                                     \"long\": \"Departure long\"})\n",
    "    \n",
    "    tmp_df = pd.merge(df, return_geo, on=\"Return station\", how=\"inner\")\n",
    "    res_df = pd.merge(tmp_df, depart_geo, on=\"Departure station\", how=\"inner\")\n",
    "    \n",
    "    return res_df.dropna()"
   ]
  },
  {
   "cell_type": "code",
   "execution_count": 3,
   "metadata": {},
   "outputs": [],
   "source": [
    "def get_useful_columns(df):\n",
    "    new_df = df[[\"Departure\", \"Return\", \"Departure station\", \"Return station\"]]\n",
    "    return new_df"
   ]
  },
  {
   "cell_type": "code",
   "execution_count": 4,
   "metadata": {},
   "outputs": [],
   "source": [
    "def process_df():\n",
    "    dfs = []\n",
    "    \n",
    "    for y in range(2017, 2022):\n",
    "        tmp_df = pd.read_csv(f\"../../data/Mobi_System_data_{y}.csv\", compression='zip')\n",
    "        dfs.append(get_useful_columns(tmp_df))\n",
    "    \n",
    "    df = pd.concat(dfs)\n",
    "    df[\"Departure\"] = pd.to_datetime(df[\"Departure\"], errors=\"coerce\")\n",
    "    df[\"Return\"] = pd.to_datetime(df[\"Return\"], errors=\"coerce\")\n",
    "    df.dropna(inplace=True)\n",
    "\n",
    "    df[\"DepartureYear\"] = df[\"Departure\"].dt.year\n",
    "    df[\"DepartureMonth\"] = df[\"Departure\"].dt.month\n",
    "    df[\"ReturnYear\"] = df[\"Return\"].dt.year\n",
    "    df[\"ReturnMonth\"] = df[\"Return\"].dt.month\n",
    "    df.drop(columns=[\"Departure\", \"Return\"], inplace=True)\n",
    "    \n",
    "    return df"
   ]
  },
  {
   "cell_type": "code",
   "execution_count": 5,
   "metadata": {},
   "outputs": [],
   "source": [
    "df = process_df()"
   ]
  },
  {
   "cell_type": "code",
   "execution_count": 6,
   "metadata": {},
   "outputs": [],
   "source": [
    "def get_routes(df, top_n, month, year):\n",
    "    df = df[(df[\"DepartureMonth\"] == month) & (df[\"ReturnMonth\"] == month)]\n",
    "    df = df[(df[\"DepartureYear\"] == year) & (df[\"ReturnYear\"] == year)]\n",
    "    \n",
    "    df.drop(columns=[\"DepartureMonth\", \"ReturnMonth\", \"DepartureYear\", \"ReturnYear\"], inplace=True)\n",
    "    df = merge_geo_coordinates(df)\n",
    "    \n",
    "    df = df.groupby([\"Departure station\", \"Return station\", \"Return lat\", \"Return long\", \"Departure lat\", \"Departure long\"])\\\n",
    "           .size()\\\n",
    "           .reset_index(name=\"Count\")\n",
    "    df = df.sort_values(by=\"Count\", ascending=False).set_index(\"Count\")\n",
    "    df = df.head(top_n)\n",
    "    return df.to_dict()"
   ]
  },
  {
   "cell_type": "code",
   "execution_count": 7,
   "metadata": {},
   "outputs": [
    {
     "data": {
      "text/plain": [
       "{'Departure station': {109: '0035 Coal Harbour Community Centre',\n",
       "  82: '0028 Davie & Beach',\n",
       "  62: '0187 Bute & Davie',\n",
       "  58: '0050 Bute & Comox'},\n",
       " 'Return station': {109: '0035 Coal Harbour Community Centre',\n",
       "  82: '0028 Davie & Beach',\n",
       "  62: '0036 Bute & Robson',\n",
       "  58: '0032 Comox & Denman'},\n",
       " 'Return lat': {109: 49.290419,\n",
       "  82: 49.28752799999999,\n",
       "  62: 49.28590800000001,\n",
       "  58: 49.288444},\n",
       " 'Return long': {109: -123.12581,\n",
       "  82: -123.142139,\n",
       "  62: -123.1271193,\n",
       "  58: -123.139203},\n",
       " 'Departure lat': {109: 49.290419,\n",
       "  82: 49.28752799999999,\n",
       "  62: 49.28222400000001,\n",
       "  58: 49.283343},\n",
       " 'Departure long': {109: -123.12581,\n",
       "  82: -123.142139,\n",
       "  62: -123.132778,\n",
       "  58: -123.1310991}}"
      ]
     },
     "execution_count": 7,
     "metadata": {},
     "output_type": "execute_result"
    }
   ],
   "source": [
    "get_routes(df, 5, 3, 2017)"
   ]
  }
 ],
 "metadata": {
  "interpreter": {
   "hash": "22ae493f92d293a45c7d26c3ff5831394f43e19049df66ac7f903e1fc6b0addb"
  },
  "kernelspec": {
   "display_name": "Python 3.9.7 ('733')",
   "language": "python",
   "name": "python3"
  },
  "language_info": {
   "codemirror_mode": {
    "name": "ipython",
    "version": 3
   },
   "file_extension": ".py",
   "mimetype": "text/x-python",
   "name": "python",
   "nbconvert_exporter": "python",
   "pygments_lexer": "ipython3",
   "version": "3.9.7"
  },
  "orig_nbformat": 4
 },
 "nbformat": 4,
 "nbformat_minor": 2
}
