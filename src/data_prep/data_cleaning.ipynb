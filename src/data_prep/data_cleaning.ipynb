{
 "cells": [
  {
   "cell_type": "code",
   "execution_count": 1,
   "metadata": {},
   "outputs": [],
   "source": [
    "import pandas as pd"
   ]
  },
  {
   "cell_type": "code",
   "execution_count": 2,
   "metadata": {},
   "outputs": [
    {
     "name": "stderr",
     "output_type": "stream",
     "text": [
      "/var/folders/6k/0gpmjss97nv98q25zl64tvyh0000gn/T/ipykernel_28295/1379609252.py:9: SettingWithCopyWarning: \n",
      "A value is trying to be set on a copy of a slice from a DataFrame.\n",
      "Try using .loc[row_indexer,col_indexer] = value instead\n",
      "\n",
      "See the caveats in the documentation: https://pandas.pydata.org/pandas-docs/stable/user_guide/indexing.html#returning-a-view-versus-a-copy\n",
      "  new_df[\"Coordinates\"] = df.apply(process_geom, axis=1)\n"
     ]
    }
   ],
   "source": [
    "# bike_ways.csv\n",
    "df = pd.read_csv(\"../../data/raw/bike_ways.csv\", sep=\";\")\n",
    "\n",
    "def process_geom(row):\n",
    "    geom = eval(row[\"Geom\"])\n",
    "    return pd.Series([geom[\"coordinates\"]])\n",
    "\n",
    "new_df = df[[\"Segment Length\"]]\n",
    "new_df[\"Coordinates\"] = df.apply(process_geom, axis=1)\n",
    "new_df.reset_index(inplace=True, drop=True)\n",
    "\n",
    "new_df.to_csv(\"../../data/processed/bike_ways.csv\")"
   ]
  },
  {
   "cell_type": "code",
   "execution_count": 3,
   "metadata": {},
   "outputs": [
    {
     "name": "stderr",
     "output_type": "stream",
     "text": [
      "/var/folders/6k/0gpmjss97nv98q25zl64tvyh0000gn/T/ipykernel_28295/684882665.py:5: SettingWithCopyWarning: \n",
      "A value is trying to be set on a copy of a slice from a DataFrame.\n",
      "Try using .loc[row_indexer,col_indexer] = value instead\n",
      "\n",
      "See the caveats in the documentation: https://pandas.pydata.org/pandas-docs/stable/user_guide/indexing.html#returning-a-view-versus-a-copy\n",
      "  new_df[\"Coordinates\"] = df.apply(lambda x: x[\"GoogleMapDest\"].split(\",\"), axis=1)\n"
     ]
    }
   ],
   "source": [
    "# parks.csv\n",
    "df = pd.read_csv(\"../../data/raw/parks.csv\", sep=\";\")\n",
    "\n",
    "new_df = df[[\"Hectare\"]]\n",
    "new_df[\"Coordinates\"] = df.apply(lambda x: x[\"GoogleMapDest\"].split(\",\"), axis=1)\n",
    "new_df.reset_index(inplace=True, drop=True)\n",
    "\n",
    "new_df.to_csv(\"../../data/processed/parks.csv\")"
   ]
  },
  {
   "cell_type": "code",
   "execution_count": null,
   "metadata": {},
   "outputs": [],
   "source": []
  }
 ],
 "metadata": {
  "interpreter": {
   "hash": "22ae493f92d293a45c7d26c3ff5831394f43e19049df66ac7f903e1fc6b0addb"
  },
  "kernelspec": {
   "display_name": "Python 3.9.7 ('733')",
   "language": "python",
   "name": "python3"
  },
  "language_info": {
   "name": "python",
   "version": "3.9.7"
  },
  "orig_nbformat": 4
 },
 "nbformat": 4,
 "nbformat_minor": 2
}
