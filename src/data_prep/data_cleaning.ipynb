{
 "cells": [
  {
   "cell_type": "code",
   "execution_count": 1,
   "metadata": {},
   "outputs": [],
   "source": [
    "import pandas as pd"
   ]
  },
  {
   "cell_type": "code",
   "execution_count": 2,
   "metadata": {},
   "outputs": [],
   "source": [
    "# Bike_ways.csv\n",
    "df = pd.read_csv(\"../../data/raw/bike_ways.csv\", sep=\";\")\n",
    "\n",
    "def process_geom(row):\n",
    "    geom = eval(row[\"Geom\"])\n",
    "    return pd.Series([geom[\"coordinates\"]])\n",
    "\n",
    "new_df = df[[\"Segment Length\"]]\n",
    "new_df[\"Coordinates\"] = df.apply(process_geom, axis=1)\n",
    "\n",
    "new_df.to_csv(\"../../data/processed/bike_ways.csv\")"
   ]
  }
 ],
 "metadata": {
  "interpreter": {
   "hash": "22ae493f92d293a45c7d26c3ff5831394f43e19049df66ac7f903e1fc6b0addb"
  },
  "kernelspec": {
   "display_name": "Python 3.9.7 ('733')",
   "language": "python",
   "name": "python3"
  },
  "language_info": {
   "name": "python",
   "version": "3.9.7"
  },
  "orig_nbformat": 4
 },
 "nbformat": 4,
 "nbformat_minor": 2
}
