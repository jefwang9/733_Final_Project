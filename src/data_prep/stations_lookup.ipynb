{
 "cells": [
  {
   "cell_type": "code",
   "execution_count": 3,
   "metadata": {},
   "outputs": [],
   "source": [
    "import pandas as pd\n",
    "from sys import *\n",
    "from subprocess import *\n",
    "import os"
   ]
  },
  {
   "cell_type": "code",
   "execution_count": 4,
   "metadata": {},
   "outputs": [
    {
     "name": "stdout",
     "output_type": "stream",
     "text": [
      "Index(['Unnamed: 0', 'Departure', 'Return', 'Bike', 'Departure station',\n",
      "       'Return station', 'Membership type', 'Covered distance (m)',\n",
      "       'Duration (sec.)', 'Departure battery voltage (mV)',\n",
      "       'Return battery voltage (mV)', 'Departure temperature (C)',\n",
      "       'Return temperature (C)', 'Stopover duration (sec.)',\n",
      "       'Number of stopovers', 'postal_code_x', 'Departure lat',\n",
      "       'Departure long', 'postal_code_y', 'Return lat', 'Return long'],\n",
      "      dtype='object')\n"
     ]
    }
   ],
   "source": [
    "mobi_data = pd.read_csv(\"../../data/Mobi_System_Data_2020.csv\", compression='zip').dropna()\n",
    "geo_data = pd.read_csv('../../data/geocodings.csv',index_col=0)\n",
    "data = mobi_data.merge(geo_data.rename({'lat':'Departure lat','long':'Departure long'},axis=1),left_on='Departure station',right_on='address').drop('address',axis=1)\n",
    "data = data.merge(geo_data.rename({'lat':'Return lat','long':'Return long'},axis=1),left_on='Return station',right_on='address').drop('address',axis=1)\n",
    "print(data.columns)\n",
    "data[\"time\"] = pd.to_datetime(data[\"Departure\"], format=\"%Y-%m-%d %H:%M:%S\")\n",
    "data[\"hour\"] = data[\"time\"].dt.hour\n",
    "data[\"day\"] = data[\"time\"].dt.day\n",
    "data[\"month\"] = data[\"time\"].dt.month\n",
    "data[\"year\"] = data[\"time\"].dt.year\n"
   ]
  },
  {
   "cell_type": "code",
   "execution_count": 5,
   "metadata": {},
   "outputs": [],
   "source": [
    "stations = data[[\"Departure lat\", \"Departure long\", \"Departure station\", \"postal_code_x\"]].drop_duplicates()\n",
    "stations = stations.rename(columns={\"Departure lat\": \"lat\", \"Departure long\": \"long\", \"Departure station\": \"station\", \"postal_code_x\": \"postal_code\"})\n",
    "stations = stations.loc[stations[\"postal_code\"].str.startswith(\"V\")]\n",
    "stations[\"postal_code\"] = stations[\"postal_code\"].str[0:3]"
   ]
  },
  {
   "cell_type": "code",
   "execution_count": 6,
   "metadata": {},
   "outputs": [],
   "source": [
    "def min_max_norm(series):\n",
    "    min = series.min()\n",
    "    max = series.max()\n",
    "    return (series - min) / (max - min)"
   ]
  },
  {
   "cell_type": "code",
   "execution_count": 7,
   "metadata": {},
   "outputs": [],
   "source": [
    "radius_parks = 500\n",
    "radius_stops = 500\n",
    "radius_bikeways = 500\n",
    "os.chdir(\"../data_server\")\n",
    "for s in stations.iterrows():\n",
    "    lat, long = s[1][0], s[1][1]\n",
    "    stations.loc[s[0], \"parks\"] = float(check_output([\"python\", \"data_processor.py\", \"parks\", str(long), str(lat), str(radius_parks)]))\n",
    "    # for p in parks.iterrows():\n",
    "    #     p_lat, p_long = p[1][0], p[1][1]\n",
    "    #     distance = haversine(lat, long, p_lat, p_long)\n",
    "    #     if distance < 0.5:\n",
    "    #         stations.loc[s[0], \"parks\"] = 1\n",
    "    #         break\n",
    "    stations.loc[s[0], \"stops\"] = float(check_output([\"python\", \"data_processor.py\", \"translink_stops\", str(long), str(lat), str(radius_stops)]))\n",
    "    # for t in translink_stops.iterrows():\n",
    "    #     t_lat, t_long = t[1][1], t[1][2]\n",
    "    #     distance = haversine(lat, long, t_lat, t_long)\n",
    "    #     if distance < 0.25:\n",
    "    #         stations.loc[s[0], \"stops\"] += 1\n",
    "    stations.loc[s[0], \"bike_ways\"] = float(check_output([\"python\", \"data_processor.py\", \"translink_stops\", str(long), str(lat), str(radius_bikeways)]))\n",
    "    postal_code = s[1][3]\n",
    "    p = check_output([\"python\", \"data_processor.py\", \"population\", postal_code])\n",
    "    stations.loc[s[0], \"population\"] = 0 if p == b\"Not found\\r\\n\" else float(p)\n",
    "    # search = population.loc[population[\"Geographic code\"] == postal_code]\n",
    "    # if search.shape[0] > 0:\n",
    "    #     stations.loc[s[0], \"population\"] = search.iloc[0, 2]\n",
    "    # else:\n",
    "    #     stations.loc[s[0], \"population\"] = 0\n",
    "max_p, min_p = stations[\"bike_ways\"].max(), stations[\"bike_ways\"].min()\n",
    "stations[\"parks\"] = min_max_norm(stations[\"parks\"])\n",
    "stations[\"stops\"] = min_max_norm(stations[\"stops\"])\n",
    "stations[\"bike_ways\"] = min_max_norm(stations[\"bike_ways\"])\n",
    "stations[\"population\"] = min_max_norm(stations[\"population\"])\n",
    "os.chdir(\"../\")\n",
    "stations.to_csv(\"../data/stations.csv\")"
   ]
  }
 ],
 "metadata": {
  "interpreter": {
   "hash": "957bddfe8fd335a1fe8264488f6b65de04e4bb5a6f224d9a47cb9560e47cf926"
  },
  "kernelspec": {
   "display_name": "Python 3.7.11 ('cmpt733')",
   "language": "python",
   "name": "python3"
  },
  "language_info": {
   "codemirror_mode": {
    "name": "ipython",
    "version": 3
   },
   "file_extension": ".py",
   "mimetype": "text/x-python",
   "name": "python",
   "nbconvert_exporter": "python",
   "pygments_lexer": "ipython3",
   "version": "3.7.11"
  },
  "orig_nbformat": 4
 },
 "nbformat": 4,
 "nbformat_minor": 2
}
