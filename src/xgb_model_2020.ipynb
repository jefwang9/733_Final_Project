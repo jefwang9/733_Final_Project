{
  "cells": [
    {
      "cell_type": "code",
      "execution_count": 1,
      "metadata": {
        "id": "jjvB72ZBw47g"
      },
      "outputs": [],
      "source": [
        "import pandas as pd\n",
        "from pandas import DataFrame\n",
        "import matplotlib.pyplot as plt\n",
        "import seaborn as sns\n",
        "from torch import nn\n",
        "import torch\n",
        "import numpy as np\n",
        "from torch.autograd import Variable \n",
        "from sys import *\n",
        "from subprocess import *\n",
        "import os"
      ]
    },
    {
      "cell_type": "code",
      "execution_count": null,
      "metadata": {
        "id": "A8lQypQSw47k",
        "outputId": "a47acb8a-69b8-434c-f00b-a8762b3cc20d"
      },
      "outputs": [
        {
          "name": "stdout",
          "output_type": "stream",
          "text": [
            "Collecting torch\n",
            "  Downloading torch-1.11.0-cp38-none-macosx_10_9_x86_64.whl (129.9 MB)\n",
            "\u001b[K     |████████████████████████████████| 129.9 MB 29 kB/s s eta 0:00:01\n",
            "\u001b[?25hRequirement already satisfied: typing-extensions in /Users/jevinwang/opt/anaconda3/lib/python3.8/site-packages (from torch) (3.10.0.2)\n",
            "Installing collected packages: torch\n",
            "Successfully installed torch-1.11.0\n"
          ]
        }
      ],
      "source": [
        "!pip install torch"
      ]
    },
    {
      "cell_type": "code",
      "execution_count": null,
      "metadata": {
        "id": "T2gUQhP1w47m",
        "outputId": "327380eb-78ad-4fb2-c33e-05cf3e286635"
      },
      "outputs": [
        {
          "name": "stdout",
          "output_type": "stream",
          "text": [
            "Index(['Unnamed: 0', 'Departure', 'Return', 'Bike', 'Departure station',\n",
            "       'Return station', 'Membership type', 'Covered distance (m)',\n",
            "       'Duration (sec.)', 'Departure battery voltage (mV)',\n",
            "       'Return battery voltage (mV)', 'Departure temperature (C)',\n",
            "       'Return temperature (C)', 'Stopover duration (sec.)',\n",
            "       'Number of stopovers', 'postal_code_x', 'Departure lat',\n",
            "       'Departure long', 'postal_code_y', 'Return lat', 'Return long'],\n",
            "      dtype='object')\n"
          ]
        }
      ],
      "source": [
        "mobi_data = pd.read_csv(\"../data/Mobi_System_Data_2020.csv\", compression='zip').dropna()\n",
        "geo_data = pd.read_csv('../data/geocodings.csv',index_col=0)\n",
        "data = mobi_data.merge(geo_data.rename({'lat':'Departure lat','long':'Departure long'},axis=1),left_on='Departure station',right_on='address').drop('address',axis=1)\n",
        "data = data.merge(geo_data.rename({'lat':'Return lat','long':'Return long'},axis=1),left_on='Return station',right_on='address').drop('address',axis=1)\n",
        "data.shape\n",
        "# data = data.loc[data[\"Departure postal code\"].str.startswith(\"V6\")]\n",
        "print(data.columns)\n",
        "data[\"time\"] = pd.to_datetime(data[\"Departure\"], format=\"%Y-%m-%d %H:%M:%S\")\n",
        "data[\"hour\"] = data[\"time\"].dt.hour\n",
        "data[\"day\"] = data[\"time\"].dt.dayofweek\n",
        "data[\"month\"] = data[\"time\"].dt.month\n",
        "data[\"year\"] = data[\"time\"].dt.year\n",
        "stations = pd.read_csv(\"../data/stations.csv\")\n",
        "max_lat, min_lat = stations[\"lat\"].max(), stations[\"lat\"].min()\n",
        "max_long, min_long = stations[\"long\"].max(), stations[\"long\"].min()"
      ]
    },
    {
      "cell_type": "code",
      "execution_count": null,
      "metadata": {
        "id": "sBtN8mENw47n"
      },
      "outputs": [],
      "source": [
        "import datetime\n",
        "def day_of_week(x):\n",
        "    times = str(x).split('-')\n",
        "    y = int(times[0])\n",
        "    m = int(times[1])\n",
        "    d = int(times[2].split(' ')[0])\n",
        "    return datetime.datetime(y, m, d).weekday()+1"
      ]
    },
    {
      "cell_type": "code",
      "execution_count": null,
      "metadata": {
        "id": "pUt6HvP2w47o"
      },
      "outputs": [],
      "source": [
        "data['day_of_week'] = data['Departure'].apply(day_of_week)"
      ]
    },
    {
      "cell_type": "code",
      "execution_count": null,
      "metadata": {
        "id": "YWAiP_Zfw47o"
      },
      "outputs": [],
      "source": [
        "def generate_time_df(start_time, peroid):\n",
        "    predict_data = pd.DataFrame(data={\n",
        "        \"month\": [], \n",
        "        \"day\": [], \n",
        "        \"hour\": [], \n",
        "        \"lat\": [],\n",
        "        \"long\": [],\n",
        "        \"parks\": [],\n",
        "        \"stops\": [],\n",
        "        \"population\": [],\n",
        "        \"station\": []})\n",
        "    for row in stations.iterrows():\n",
        "        time = pd.date_range(start_time, periods=peroid, freq='H')\n",
        "\n",
        "        station_data = pd.DataFrame(data={\"time\": time})\n",
        "        station_data[\"hour\"] = station_data[\"time\"].dt.hour\n",
        "        station_data[\"day\"] = station_data[\"time\"].dt.dayofweek\n",
        "        station_data[\"month\"] = station_data[\"time\"].dt.month\n",
        "        station_data[\"lat\"] = (row[1][\"lat\"] - min_lat) / (max_lat - min_lat)\n",
        "        station_data[\"long\"] = (row[1][\"long\"] - min_long) / (max_long - min_long)\n",
        "        station_data[\"station\"] = row[1][\"station\"]\n",
        "        station_data[\"parks\"] = row[1][\"parks\"]\n",
        "        station_data[\"stops\"] = row[1][\"stops\"]\n",
        "        station_data[\"population\"] = row[1][\"population\"]\n",
        "        station_data[\"bike_ways\"] = row[1][\"bike_ways\"]\n",
        "        station_data = station_data.drop(columns=[\"time\"])\n",
        "        \n",
        "        predict_data = pd.concat([predict_data, station_data])\n",
        "    \n",
        "    return predict_data\n"
      ]
    },
    {
      "cell_type": "code",
      "execution_count": null,
      "metadata": {
        "id": "3PceLAWIw47p"
      },
      "outputs": [],
      "source": [
        "def hour_transf(x):\n",
        "    if x >= 6 and x < 12:\n",
        "        return 'Morning'\n",
        "    elif x >= 12 and x < 18:\n",
        "        return 'Afternoon'\n",
        "    elif x >= 18 and x < 24:\n",
        "        return 'Evening'\n",
        "    else:\n",
        "        return 'Wee'"
      ]
    },
    {
      "cell_type": "code",
      "execution_count": null,
      "metadata": {
        "id": "qBuTjvL4w47r"
      },
      "outputs": [],
      "source": [
        "data['period'] = data['hour'].apply(hour_transf)"
      ]
    },
    {
      "cell_type": "code",
      "execution_count": null,
      "metadata": {
        "id": "jAuByTTow47r",
        "outputId": "9a9cb094-129f-4c67-e4e3-640214aa77c7"
      },
      "outputs": [
        {
          "data": {
            "text/plain": [
              "Afternoon    265529\n",
              "Evening      181508\n",
              "Morning      111384\n",
              "Wee           13151\n",
              "Name: period, dtype: int64"
            ]
          },
          "execution_count": 114,
          "metadata": {},
          "output_type": "execute_result"
        }
      ],
      "source": [
        "data['period'].value_counts()"
      ]
    },
    {
      "cell_type": "code",
      "execution_count": null,
      "metadata": {
        "id": "YLYvncCEw47s"
      },
      "outputs": [],
      "source": [
        "#features_departure = [\"month\", \"day\", \"hour\", \"lat\", \"long\", \"parks\", \"stops\", \"population\", \"bike_ways\"]\n",
        "counts_data_departure = data.groupby([\"month\", \"day_of_week\", \"period\", \"Departure lat\", \"Departure long\", \"Departure station\"]).size().reset_index(name='counts_departure')\n",
        "counts_data_departure = counts_data_departure.rename(columns={\"Departure lat\": \"lat\", \"Departure long\": \"long\", \"Departure station\": \"station\"})\n",
        "\n",
        "counts_data_return = data.groupby([\"month\", \"day_of_week\", \"period\", \"Return lat\", \"Return long\", \"Return station\"]).size().reset_index(name='counts_return')\n",
        "counts_data_return = counts_data_return.rename(columns={\"Return lat\": \"lat\", \"Return long\": \"long\", \"Return station\": \"station\"})\n"
      ]
    },
    {
      "cell_type": "code",
      "execution_count": null,
      "metadata": {
        "id": "niVxa5vfw47t",
        "outputId": "50ec1202-bed5-4472-b4a7-6f2954439890"
      },
      "outputs": [
        {
          "data": {
            "text/plain": [
              "(51832, 7)"
            ]
          },
          "execution_count": 116,
          "metadata": {},
          "output_type": "execute_result"
        }
      ],
      "source": [
        "counts_data_return.shape"
      ]
    },
    {
      "cell_type": "code",
      "execution_count": null,
      "metadata": {
        "id": "SdDYzrFDw47t",
        "outputId": "263593ff-343a-4000-9132-053c22c92d65"
      },
      "outputs": [
        {
          "data": {
            "text/plain": [
              "(52510, 7)"
            ]
          },
          "execution_count": 117,
          "metadata": {},
          "output_type": "execute_result"
        }
      ],
      "source": [
        "counts_data_departure.shape"
      ]
    },
    {
      "cell_type": "code",
      "execution_count": null,
      "metadata": {
        "id": "VvcGOcAFw47u"
      },
      "outputs": [],
      "source": [
        "merge_data = counts_data_return.merge(counts_data_departure[[\"month\", \"day_of_week\", \"period\", \"station\", \"lat\", \"long\", \"counts_departure\"]], how=\"right\", on=[\"month\", \"day_of_week\", \"period\", \"station\", \"lat\", \"long\"])\n",
        "merge_data.shape\n",
        "merge_data[\"counts_return\"] = merge_data[\"counts_return\"].fillna(0)"
      ]
    },
    {
      "cell_type": "code",
      "execution_count": null,
      "metadata": {
        "id": "9rTU224Pw47u",
        "outputId": "8084b8c2-706b-457f-82a3-b9b8c54ba95d"
      },
      "outputs": [
        {
          "data": {
            "text/html": [
              "<div>\n",
              "<style scoped>\n",
              "    .dataframe tbody tr th:only-of-type {\n",
              "        vertical-align: middle;\n",
              "    }\n",
              "\n",
              "    .dataframe tbody tr th {\n",
              "        vertical-align: top;\n",
              "    }\n",
              "\n",
              "    .dataframe thead th {\n",
              "        text-align: right;\n",
              "    }\n",
              "</style>\n",
              "<table border=\"1\" class=\"dataframe\">\n",
              "  <thead>\n",
              "    <tr style=\"text-align: right;\">\n",
              "      <th></th>\n",
              "      <th>month</th>\n",
              "      <th>day_of_week</th>\n",
              "      <th>period</th>\n",
              "      <th>lat</th>\n",
              "      <th>long</th>\n",
              "      <th>station</th>\n",
              "      <th>counts_return</th>\n",
              "      <th>counts_departure</th>\n",
              "    </tr>\n",
              "  </thead>\n",
              "  <tbody>\n",
              "    <tr>\n",
              "      <th>0</th>\n",
              "      <td>1</td>\n",
              "      <td>1</td>\n",
              "      <td>Afternoon</td>\n",
              "      <td>43.390667</td>\n",
              "      <td>-79.763537</td>\n",
              "      <td>0981 Workshop - Service Complete</td>\n",
              "      <td>0.0</td>\n",
              "      <td>2</td>\n",
              "    </tr>\n",
              "    <tr>\n",
              "      <th>1</th>\n",
              "      <td>1</td>\n",
              "      <td>1</td>\n",
              "      <td>Afternoon</td>\n",
              "      <td>44.231878</td>\n",
              "      <td>-76.485435</td>\n",
              "      <td>0215 Princess &amp; Union</td>\n",
              "      <td>5.0</td>\n",
              "      <td>2</td>\n",
              "    </tr>\n",
              "    <tr>\n",
              "      <th>2</th>\n",
              "      <td>1</td>\n",
              "      <td>1</td>\n",
              "      <td>Afternoon</td>\n",
              "      <td>44.821573</td>\n",
              "      <td>-64.237719</td>\n",
              "      <td>0281 Windsor &amp; 14th</td>\n",
              "      <td>2.0</td>\n",
              "      <td>1</td>\n",
              "    </tr>\n",
              "    <tr>\n",
              "      <th>3</th>\n",
              "      <td>1</td>\n",
              "      <td>1</td>\n",
              "      <td>Afternoon</td>\n",
              "      <td>45.514375</td>\n",
              "      <td>-73.811420</td>\n",
              "      <td>0177 Quebec &amp; 1st</td>\n",
              "      <td>17.0</td>\n",
              "      <td>7</td>\n",
              "    </tr>\n",
              "    <tr>\n",
              "      <th>4</th>\n",
              "      <td>1</td>\n",
              "      <td>1</td>\n",
              "      <td>Afternoon</td>\n",
              "      <td>49.140196</td>\n",
              "      <td>-122.313343</td>\n",
              "      <td>0192 7th &amp;  Alder</td>\n",
              "      <td>4.0</td>\n",
              "      <td>5</td>\n",
              "    </tr>\n",
              "  </tbody>\n",
              "</table>\n",
              "</div>"
            ],
            "text/plain": [
              "   month  day_of_week     period        lat        long  \\\n",
              "0      1            1  Afternoon  43.390667  -79.763537   \n",
              "1      1            1  Afternoon  44.231878  -76.485435   \n",
              "2      1            1  Afternoon  44.821573  -64.237719   \n",
              "3      1            1  Afternoon  45.514375  -73.811420   \n",
              "4      1            1  Afternoon  49.140196 -122.313343   \n",
              "\n",
              "                            station  counts_return  counts_departure  \n",
              "0  0981 Workshop - Service Complete            0.0                 2  \n",
              "1             0215 Princess & Union            5.0                 2  \n",
              "2               0281 Windsor & 14th            2.0                 1  \n",
              "3                 0177 Quebec & 1st           17.0                 7  \n",
              "4                 0192 7th &  Alder            4.0                 5  "
            ]
          },
          "execution_count": 119,
          "metadata": {},
          "output_type": "execute_result"
        }
      ],
      "source": [
        "merge_data.head()"
      ]
    },
    {
      "cell_type": "code",
      "execution_count": null,
      "metadata": {
        "id": "bWrENY-Ww47u"
      },
      "outputs": [],
      "source": [
        "# Label of y definition:\n",
        "# We design the rule for operation transfer bikes out or in or nothing to do:\n",
        "# 1: out: Return counts much more than depature counts, which means operator needs to transfer bikes from this station\n",
        "# 2: in: Departure counts much more than return counts, which means operator needs to put bikes to this station\n",
        "# 0: No need to transfer bikes to this station"
      ]
    },
    {
      "cell_type": "code",
      "execution_count": null,
      "metadata": {
        "id": "imirMq48w47v"
      },
      "outputs": [],
      "source": [
        "def label_cal(x):\n",
        "    if x['counts_return'] == 0 and x['counts_departure'] == 0:\n",
        "        return 0\n",
        "    elif x['counts_return'] == 0 and x['counts_departure'] >= 5:\n",
        "        return 2\n",
        "    elif x['counts_return'] == 0 and x['counts_departure'] < 5:\n",
        "        return 0\n",
        "    elif x['counts_departure'] == 0 and x['counts_return'] >= 5:\n",
        "        return 1\n",
        "    elif x['counts_departure'] == 0 and x['counts_return'] < 5:\n",
        "        return 0\n",
        "    elif x['counts_return'] / x['counts_departure'] > 2 and x['counts_return'] - x['counts_departure'] >= 5:\n",
        "        return 1\n",
        "    elif x['counts_departure'] / x['counts_return'] > 2 and x['counts_departure'] - x['counts_return'] >= 5:\n",
        "        return 2\n",
        "    else:\n",
        "        return 0"
      ]
    },
    {
      "cell_type": "code",
      "execution_count": null,
      "metadata": {
        "id": "poYfmZKDw47v",
        "outputId": "314419ce-d760-4f2e-9bbf-992197bb4845"
      },
      "outputs": [
        {
          "data": {
            "text/plain": [
              "month               0\n",
              "day_of_week         0\n",
              "period              0\n",
              "lat                 0\n",
              "long                0\n",
              "station             0\n",
              "counts_return       0\n",
              "counts_departure    0\n",
              "dtype: int64"
            ]
          },
          "execution_count": 121,
          "metadata": {},
          "output_type": "execute_result"
        }
      ],
      "source": [
        "merge_data.isnull().sum()"
      ]
    },
    {
      "cell_type": "code",
      "execution_count": null,
      "metadata": {
        "id": "6bQbu5Viw47w"
      },
      "outputs": [],
      "source": [
        "merge_data['label'] = merge_data.apply(label_cal,axis=1)"
      ]
    },
    {
      "cell_type": "code",
      "execution_count": null,
      "metadata": {
        "id": "Byzy1nBBw47w",
        "outputId": "a028b87d-ca2a-4dbd-b2cd-31bc5319732d"
      },
      "outputs": [
        {
          "data": {
            "text/plain": [
              "0    43510\n",
              "2     5230\n",
              "1     3770\n",
              "Name: label, dtype: int64"
            ]
          },
          "execution_count": 123,
          "metadata": {},
          "output_type": "execute_result"
        }
      ],
      "source": [
        "merge_data['label'].value_counts()"
      ]
    },
    {
      "cell_type": "code",
      "execution_count": null,
      "metadata": {
        "id": "x5jlx4v7w47x",
        "outputId": "ddcbff6e-da81-48a3-e4d5-918fc04abd24"
      },
      "outputs": [
        {
          "data": {
            "text/html": [
              "<div>\n",
              "<style scoped>\n",
              "    .dataframe tbody tr th:only-of-type {\n",
              "        vertical-align: middle;\n",
              "    }\n",
              "\n",
              "    .dataframe tbody tr th {\n",
              "        vertical-align: top;\n",
              "    }\n",
              "\n",
              "    .dataframe thead th {\n",
              "        text-align: right;\n",
              "    }\n",
              "</style>\n",
              "<table border=\"1\" class=\"dataframe\">\n",
              "  <thead>\n",
              "    <tr style=\"text-align: right;\">\n",
              "      <th></th>\n",
              "      <th>month</th>\n",
              "      <th>day_of_week</th>\n",
              "      <th>period</th>\n",
              "      <th>lat</th>\n",
              "      <th>long</th>\n",
              "      <th>station</th>\n",
              "      <th>counts_return</th>\n",
              "      <th>counts_departure</th>\n",
              "      <th>label</th>\n",
              "    </tr>\n",
              "  </thead>\n",
              "  <tbody>\n",
              "    <tr>\n",
              "      <th>0</th>\n",
              "      <td>1</td>\n",
              "      <td>1</td>\n",
              "      <td>Afternoon</td>\n",
              "      <td>43.390667</td>\n",
              "      <td>-79.763537</td>\n",
              "      <td>0981 Workshop - Service Complete</td>\n",
              "      <td>0.0</td>\n",
              "      <td>2</td>\n",
              "      <td>0</td>\n",
              "    </tr>\n",
              "    <tr>\n",
              "      <th>1</th>\n",
              "      <td>1</td>\n",
              "      <td>1</td>\n",
              "      <td>Afternoon</td>\n",
              "      <td>44.231878</td>\n",
              "      <td>-76.485435</td>\n",
              "      <td>0215 Princess &amp; Union</td>\n",
              "      <td>5.0</td>\n",
              "      <td>2</td>\n",
              "      <td>0</td>\n",
              "    </tr>\n",
              "    <tr>\n",
              "      <th>2</th>\n",
              "      <td>1</td>\n",
              "      <td>1</td>\n",
              "      <td>Afternoon</td>\n",
              "      <td>44.821573</td>\n",
              "      <td>-64.237719</td>\n",
              "      <td>0281 Windsor &amp; 14th</td>\n",
              "      <td>2.0</td>\n",
              "      <td>1</td>\n",
              "      <td>0</td>\n",
              "    </tr>\n",
              "    <tr>\n",
              "      <th>3</th>\n",
              "      <td>1</td>\n",
              "      <td>1</td>\n",
              "      <td>Afternoon</td>\n",
              "      <td>45.514375</td>\n",
              "      <td>-73.811420</td>\n",
              "      <td>0177 Quebec &amp; 1st</td>\n",
              "      <td>17.0</td>\n",
              "      <td>7</td>\n",
              "      <td>1</td>\n",
              "    </tr>\n",
              "    <tr>\n",
              "      <th>4</th>\n",
              "      <td>1</td>\n",
              "      <td>1</td>\n",
              "      <td>Afternoon</td>\n",
              "      <td>49.140196</td>\n",
              "      <td>-122.313343</td>\n",
              "      <td>0192 7th &amp;  Alder</td>\n",
              "      <td>4.0</td>\n",
              "      <td>5</td>\n",
              "      <td>0</td>\n",
              "    </tr>\n",
              "  </tbody>\n",
              "</table>\n",
              "</div>"
            ],
            "text/plain": [
              "   month  day_of_week     period        lat        long  \\\n",
              "0      1            1  Afternoon  43.390667  -79.763537   \n",
              "1      1            1  Afternoon  44.231878  -76.485435   \n",
              "2      1            1  Afternoon  44.821573  -64.237719   \n",
              "3      1            1  Afternoon  45.514375  -73.811420   \n",
              "4      1            1  Afternoon  49.140196 -122.313343   \n",
              "\n",
              "                            station  counts_return  counts_departure  label  \n",
              "0  0981 Workshop - Service Complete            0.0                 2      0  \n",
              "1             0215 Princess & Union            5.0                 2      0  \n",
              "2               0281 Windsor & 14th            2.0                 1      0  \n",
              "3                 0177 Quebec & 1st           17.0                 7      1  \n",
              "4                 0192 7th &  Alder            4.0                 5      0  "
            ]
          },
          "execution_count": 124,
          "metadata": {},
          "output_type": "execute_result"
        }
      ],
      "source": [
        "merge_data.head()"
      ]
    },
    {
      "cell_type": "code",
      "execution_count": null,
      "metadata": {
        "id": "iaVuY1r-w47x"
      },
      "outputs": [],
      "source": [
        ""
      ]
    },
    {
      "cell_type": "code",
      "execution_count": null,
      "metadata": {
        "id": "SeFzRuFiw47y"
      },
      "outputs": [],
      "source": [
        "departure_time_df = generate_time_df('2020-01-01', 8760)"
      ]
    },
    {
      "cell_type": "code",
      "execution_count": null,
      "metadata": {
        "id": "cVwnGb9lw47y"
      },
      "outputs": [],
      "source": [
        "departure_time_df['period'] = departure_time_df['hour'].apply(hour_transf)"
      ]
    },
    {
      "cell_type": "code",
      "execution_count": null,
      "metadata": {
        "id": "Omicl5z_w47z"
      },
      "outputs": [],
      "source": [
        "departure_time_df['day_of_week'] = departure_time_df['day'] + 1"
      ]
    },
    {
      "cell_type": "code",
      "execution_count": null,
      "metadata": {
        "id": "i6p0cqcqw47z",
        "outputId": "6f633163-1000-4c9d-fcdd-8157732b082a"
      },
      "outputs": [
        {
          "data": {
            "text/plain": [
              "(52510, 13)"
            ]
          },
          "execution_count": 165,
          "metadata": {},
          "output_type": "execute_result"
        }
      ],
      "source": [
        "train_data = departure_time_df[[\"month\", \"day_of_week\", \"period\", \"station\", \"bike_ways\",\"parks\",\"stops\",\"population\"]].drop_duplicates().merge(merge_data, how=\"right\", on=[\"month\", \"day_of_week\", \"period\", \"station\"])\n",
        "#train_data[\"counts\"] = train_data[\"counts\"].fillna(0)\n",
        "train_data.shape"
      ]
    },
    {
      "cell_type": "code",
      "execution_count": null,
      "metadata": {
        "id": "HIJe5bJKw47z",
        "outputId": "652562ee-c884-4867-eba8-52813d62c9c9"
      },
      "outputs": [
        {
          "data": {
            "text/plain": [
              "month                  0\n",
              "day_of_week            0\n",
              "period                 0\n",
              "station                0\n",
              "bike_ways           1995\n",
              "parks               1995\n",
              "stops               1995\n",
              "population          1995\n",
              "lat                    0\n",
              "long                   0\n",
              "counts_return          0\n",
              "counts_departure       0\n",
              "label                  0\n",
              "dtype: int64"
            ]
          },
          "execution_count": 166,
          "metadata": {},
          "output_type": "execute_result"
        }
      ],
      "source": [
        "train_data.isnull().sum()"
      ]
    },
    {
      "cell_type": "code",
      "execution_count": null,
      "metadata": {
        "id": "hpMcxkMKw470"
      },
      "outputs": [],
      "source": [
        "train_data.dropna().to_csv('data_2020_merged_xgbClassify.csv')"
      ]
    },
    {
      "cell_type": "code",
      "execution_count": 25,
      "metadata": {
        "colab": {
          "base_uri": "https://localhost:8080/"
        },
        "id": "0_DlKoTmw470",
        "outputId": "cbc21424-1470-4328-fea3-167fd174d429"
      },
      "outputs": [
        {
          "output_type": "execute_result",
          "data": {
            "text/plain": [
              "(50515, 14)"
            ]
          },
          "metadata": {},
          "execution_count": 25
        }
      ],
      "source": [
        "model_data = pd.read_csv('/content/data_2020_merged_xgbClassify.csv')\n",
        "model_data.shape"
      ]
    },
    {
      "cell_type": "code",
      "source": [
        "model_data.head()"
      ],
      "metadata": {
        "colab": {
          "base_uri": "https://localhost:8080/",
          "height": 426
        },
        "id": "9j1u3cBQz9Nm",
        "outputId": "d6d86477-445d-4cc4-bcf6-8cdcdf67be43"
      },
      "execution_count": 11,
      "outputs": [
        {
          "output_type": "execute_result",
          "data": {
            "text/plain": [
              "   Unnamed: 0  month  day_of_week     period               station  bike_ways  \\\n",
              "0           4    1.0          1.0  Afternoon     0192 7th &  Alder   0.000000   \n",
              "1           5    1.0          1.0  Afternoon    0282 14th & Fraser   0.161290   \n",
              "2           6    1.0          1.0  Afternoon  0179 11th & Kingsway   0.161290   \n",
              "3           7    1.0          1.0  Afternoon       0198 6th & Main   0.247312   \n",
              "4           8    1.0          1.0  Afternoon    0283 15th & Knight   0.139785   \n",
              "\n",
              "   parks     stops  population        lat        long  counts_return  \\\n",
              "0    0.0  0.000000    0.597601  49.140196 -122.313343            4.0   \n",
              "1    0.0  0.161290    0.701333  49.202455 -122.966572            5.0   \n",
              "2    0.0  0.161290    0.701333  49.214147 -122.938867            0.0   \n",
              "3    0.0  0.247312    0.701333  49.218888 -122.928148            5.0   \n",
              "4    0.5  0.139785    0.624532  49.256496 -123.075426            3.0   \n",
              "\n",
              "   counts_departure  label  \n",
              "0                 5      0  \n",
              "1                 2      0  \n",
              "2                 2      0  \n",
              "3                 4      0  \n",
              "4                 1      0  "
            ],
            "text/html": [
              "\n",
              "  <div id=\"df-5b00d017-bde1-47eb-ac24-2d56a32aacb6\">\n",
              "    <div class=\"colab-df-container\">\n",
              "      <div>\n",
              "<style scoped>\n",
              "    .dataframe tbody tr th:only-of-type {\n",
              "        vertical-align: middle;\n",
              "    }\n",
              "\n",
              "    .dataframe tbody tr th {\n",
              "        vertical-align: top;\n",
              "    }\n",
              "\n",
              "    .dataframe thead th {\n",
              "        text-align: right;\n",
              "    }\n",
              "</style>\n",
              "<table border=\"1\" class=\"dataframe\">\n",
              "  <thead>\n",
              "    <tr style=\"text-align: right;\">\n",
              "      <th></th>\n",
              "      <th>Unnamed: 0</th>\n",
              "      <th>month</th>\n",
              "      <th>day_of_week</th>\n",
              "      <th>period</th>\n",
              "      <th>station</th>\n",
              "      <th>bike_ways</th>\n",
              "      <th>parks</th>\n",
              "      <th>stops</th>\n",
              "      <th>population</th>\n",
              "      <th>lat</th>\n",
              "      <th>long</th>\n",
              "      <th>counts_return</th>\n",
              "      <th>counts_departure</th>\n",
              "      <th>label</th>\n",
              "    </tr>\n",
              "  </thead>\n",
              "  <tbody>\n",
              "    <tr>\n",
              "      <th>0</th>\n",
              "      <td>4</td>\n",
              "      <td>1.0</td>\n",
              "      <td>1.0</td>\n",
              "      <td>Afternoon</td>\n",
              "      <td>0192 7th &amp;  Alder</td>\n",
              "      <td>0.000000</td>\n",
              "      <td>0.0</td>\n",
              "      <td>0.000000</td>\n",
              "      <td>0.597601</td>\n",
              "      <td>49.140196</td>\n",
              "      <td>-122.313343</td>\n",
              "      <td>4.0</td>\n",
              "      <td>5</td>\n",
              "      <td>0</td>\n",
              "    </tr>\n",
              "    <tr>\n",
              "      <th>1</th>\n",
              "      <td>5</td>\n",
              "      <td>1.0</td>\n",
              "      <td>1.0</td>\n",
              "      <td>Afternoon</td>\n",
              "      <td>0282 14th &amp; Fraser</td>\n",
              "      <td>0.161290</td>\n",
              "      <td>0.0</td>\n",
              "      <td>0.161290</td>\n",
              "      <td>0.701333</td>\n",
              "      <td>49.202455</td>\n",
              "      <td>-122.966572</td>\n",
              "      <td>5.0</td>\n",
              "      <td>2</td>\n",
              "      <td>0</td>\n",
              "    </tr>\n",
              "    <tr>\n",
              "      <th>2</th>\n",
              "      <td>6</td>\n",
              "      <td>1.0</td>\n",
              "      <td>1.0</td>\n",
              "      <td>Afternoon</td>\n",
              "      <td>0179 11th &amp; Kingsway</td>\n",
              "      <td>0.161290</td>\n",
              "      <td>0.0</td>\n",
              "      <td>0.161290</td>\n",
              "      <td>0.701333</td>\n",
              "      <td>49.214147</td>\n",
              "      <td>-122.938867</td>\n",
              "      <td>0.0</td>\n",
              "      <td>2</td>\n",
              "      <td>0</td>\n",
              "    </tr>\n",
              "    <tr>\n",
              "      <th>3</th>\n",
              "      <td>7</td>\n",
              "      <td>1.0</td>\n",
              "      <td>1.0</td>\n",
              "      <td>Afternoon</td>\n",
              "      <td>0198 6th &amp; Main</td>\n",
              "      <td>0.247312</td>\n",
              "      <td>0.0</td>\n",
              "      <td>0.247312</td>\n",
              "      <td>0.701333</td>\n",
              "      <td>49.218888</td>\n",
              "      <td>-122.928148</td>\n",
              "      <td>5.0</td>\n",
              "      <td>4</td>\n",
              "      <td>0</td>\n",
              "    </tr>\n",
              "    <tr>\n",
              "      <th>4</th>\n",
              "      <td>8</td>\n",
              "      <td>1.0</td>\n",
              "      <td>1.0</td>\n",
              "      <td>Afternoon</td>\n",
              "      <td>0283 15th &amp; Knight</td>\n",
              "      <td>0.139785</td>\n",
              "      <td>0.5</td>\n",
              "      <td>0.139785</td>\n",
              "      <td>0.624532</td>\n",
              "      <td>49.256496</td>\n",
              "      <td>-123.075426</td>\n",
              "      <td>3.0</td>\n",
              "      <td>1</td>\n",
              "      <td>0</td>\n",
              "    </tr>\n",
              "  </tbody>\n",
              "</table>\n",
              "</div>\n",
              "      <button class=\"colab-df-convert\" onclick=\"convertToInteractive('df-5b00d017-bde1-47eb-ac24-2d56a32aacb6')\"\n",
              "              title=\"Convert this dataframe to an interactive table.\"\n",
              "              style=\"display:none;\">\n",
              "        \n",
              "  <svg xmlns=\"http://www.w3.org/2000/svg\" height=\"24px\"viewBox=\"0 0 24 24\"\n",
              "       width=\"24px\">\n",
              "    <path d=\"M0 0h24v24H0V0z\" fill=\"none\"/>\n",
              "    <path d=\"M18.56 5.44l.94 2.06.94-2.06 2.06-.94-2.06-.94-.94-2.06-.94 2.06-2.06.94zm-11 1L8.5 8.5l.94-2.06 2.06-.94-2.06-.94L8.5 2.5l-.94 2.06-2.06.94zm10 10l.94 2.06.94-2.06 2.06-.94-2.06-.94-.94-2.06-.94 2.06-2.06.94z\"/><path d=\"M17.41 7.96l-1.37-1.37c-.4-.4-.92-.59-1.43-.59-.52 0-1.04.2-1.43.59L10.3 9.45l-7.72 7.72c-.78.78-.78 2.05 0 2.83L4 21.41c.39.39.9.59 1.41.59.51 0 1.02-.2 1.41-.59l7.78-7.78 2.81-2.81c.8-.78.8-2.07 0-2.86zM5.41 20L4 18.59l7.72-7.72 1.47 1.35L5.41 20z\"/>\n",
              "  </svg>\n",
              "      </button>\n",
              "      \n",
              "  <style>\n",
              "    .colab-df-container {\n",
              "      display:flex;\n",
              "      flex-wrap:wrap;\n",
              "      gap: 12px;\n",
              "    }\n",
              "\n",
              "    .colab-df-convert {\n",
              "      background-color: #E8F0FE;\n",
              "      border: none;\n",
              "      border-radius: 50%;\n",
              "      cursor: pointer;\n",
              "      display: none;\n",
              "      fill: #1967D2;\n",
              "      height: 32px;\n",
              "      padding: 0 0 0 0;\n",
              "      width: 32px;\n",
              "    }\n",
              "\n",
              "    .colab-df-convert:hover {\n",
              "      background-color: #E2EBFA;\n",
              "      box-shadow: 0px 1px 2px rgba(60, 64, 67, 0.3), 0px 1px 3px 1px rgba(60, 64, 67, 0.15);\n",
              "      fill: #174EA6;\n",
              "    }\n",
              "\n",
              "    [theme=dark] .colab-df-convert {\n",
              "      background-color: #3B4455;\n",
              "      fill: #D2E3FC;\n",
              "    }\n",
              "\n",
              "    [theme=dark] .colab-df-convert:hover {\n",
              "      background-color: #434B5C;\n",
              "      box-shadow: 0px 1px 3px 1px rgba(0, 0, 0, 0.15);\n",
              "      filter: drop-shadow(0px 1px 2px rgba(0, 0, 0, 0.3));\n",
              "      fill: #FFFFFF;\n",
              "    }\n",
              "  </style>\n",
              "\n",
              "      <script>\n",
              "        const buttonEl =\n",
              "          document.querySelector('#df-5b00d017-bde1-47eb-ac24-2d56a32aacb6 button.colab-df-convert');\n",
              "        buttonEl.style.display =\n",
              "          google.colab.kernel.accessAllowed ? 'block' : 'none';\n",
              "\n",
              "        async function convertToInteractive(key) {\n",
              "          const element = document.querySelector('#df-5b00d017-bde1-47eb-ac24-2d56a32aacb6');\n",
              "          const dataTable =\n",
              "            await google.colab.kernel.invokeFunction('convertToInteractive',\n",
              "                                                     [key], {});\n",
              "          if (!dataTable) return;\n",
              "\n",
              "          const docLinkHtml = 'Like what you see? Visit the ' +\n",
              "            '<a target=\"_blank\" href=https://colab.research.google.com/notebooks/data_table.ipynb>data table notebook</a>'\n",
              "            + ' to learn more about interactive tables.';\n",
              "          element.innerHTML = '';\n",
              "          dataTable['output_type'] = 'display_data';\n",
              "          await google.colab.output.renderOutput(dataTable, element);\n",
              "          const docLink = document.createElement('div');\n",
              "          docLink.innerHTML = docLinkHtml;\n",
              "          element.appendChild(docLink);\n",
              "        }\n",
              "      </script>\n",
              "    </div>\n",
              "  </div>\n",
              "  "
            ]
          },
          "metadata": {},
          "execution_count": 11
        }
      ]
    },
    {
      "cell_type": "code",
      "source": [
        "dummy_periods = pd.get_dummies(model_data['period'])\n",
        "df = pd.merge(\n",
        "    left=model_data,\n",
        "    right=dummy_periods,\n",
        "    left_index=True,\n",
        "    right_index=True,\n",
        ")"
      ],
      "metadata": {
        "id": "xRWH-_5Cz9WT"
      },
      "execution_count": 29,
      "outputs": []
    },
    {
      "cell_type": "code",
      "source": [
        "df = df.drop(['station','period','counts_return','counts_departure','Unnamed: 0'], axis=1)"
      ],
      "metadata": {
        "id": "h9SAt9lz0qfb"
      },
      "execution_count": 30,
      "outputs": []
    },
    {
      "cell_type": "code",
      "execution_count": 3,
      "metadata": {
        "id": "Hq-OKPDYw470"
      },
      "outputs": [],
      "source": [
        "from xgboost.sklearn import XGBClassifier\n",
        "from sklearn.ensemble import GradientBoostingClassifier\n",
        "from sklearn.model_selection import train_test_split\n",
        "from sklearn.metrics import roc_auc_score,recall_score,precision_score\n",
        "import pandas as pd"
      ]
    },
    {
      "cell_type": "code",
      "source": [
        "xgbclf = XGBClassifier(base_score=0.5, booster='gbtree', colsample_bylevel=1,\n",
        "              colsample_bynode=1, colsample_bytree=1, gamma=0,\n",
        "              learning_rate=0.1, max_delta_step=0, max_depth=8,\n",
        "              min_child_weight=1, missing=None, n_estimators=100, n_jobs=1,\n",
        "              nthread=None, num_class=5, objective='multi:softprob',\n",
        "              random_state=0, reg_alpha=0, reg_lambda=1, scale_pos_weight=0.2,\n",
        "              seed=None, silent=None, subsample=1, verbosity=1)"
      ],
      "metadata": {
        "id": "u8-OWSVPxVds"
      },
      "execution_count": 21,
      "outputs": []
    },
    {
      "cell_type": "code",
      "source": [
        "data_y = df['label']\n",
        "data_x = df.drop(['label'], axis=1)"
      ],
      "metadata": {
        "id": "TzPRF2HWyxhv"
      },
      "execution_count": 31,
      "outputs": []
    },
    {
      "cell_type": "code",
      "source": [
        "X_train, X_validate, y_train, y_validate = train_test_split(data_x, data_y, test_size=0.2, random_state=100)"
      ],
      "metadata": {
        "id": "RgTpN1-BxruZ"
      },
      "execution_count": 32,
      "outputs": []
    },
    {
      "cell_type": "code",
      "source": [
        "X_train.shape, X_validate.shape, y_train.shape, y_validate.shape"
      ],
      "metadata": {
        "colab": {
          "base_uri": "https://localhost:8080/"
        },
        "id": "Ml7kqDh7xryc",
        "outputId": "0c076ea6-3097-4982-91d0-a4c718000643"
      },
      "execution_count": 33,
      "outputs": [
        {
          "output_type": "execute_result",
          "data": {
            "text/plain": [
              "((40412, 12), (10103, 12), (40412,), (10103,))"
            ]
          },
          "metadata": {},
          "execution_count": 33
        }
      ]
    },
    {
      "cell_type": "code",
      "source": [
        "#xgbclf_temp = XGBClassifier(**conf.xgbclf_params) \n",
        "eval_set_clf = [(X_train,y_train.values),(X_validate, y_validate)]\n",
        "xgbclf.fit(X_train, y_train.values, eval_set=eval_set_clf, verbose=True, early_stopping_rounds=100)"
      ],
      "metadata": {
        "colab": {
          "base_uri": "https://localhost:8080/"
        },
        "id": "jMpr34SoxVgI",
        "outputId": "d2e9f3f2-745f-4ada-f4a9-6c1122c39c36"
      },
      "execution_count": 34,
      "outputs": [
        {
          "output_type": "stream",
          "name": "stdout",
          "text": [
            "[0]\tvalidation_0-merror:0.139958\tvalidation_1-merror:0.142433\n",
            "Multiple eval metrics have been passed: 'validation_1-merror' will be used for early stopping.\n",
            "\n",
            "Will train until validation_1-merror hasn't improved in 100 rounds.\n",
            "[1]\tvalidation_0-merror:0.138672\tvalidation_1-merror:0.142235\n",
            "[2]\tvalidation_0-merror:0.138548\tvalidation_1-merror:0.142433\n",
            "[3]\tvalidation_0-merror:0.138746\tvalidation_1-merror:0.142136\n",
            "[4]\tvalidation_0-merror:0.138721\tvalidation_1-merror:0.142136\n",
            "[5]\tvalidation_0-merror:0.138127\tvalidation_1-merror:0.141938\n",
            "[6]\tvalidation_0-merror:0.13835\tvalidation_1-merror:0.142037\n",
            "[7]\tvalidation_0-merror:0.138202\tvalidation_1-merror:0.141245\n",
            "[8]\tvalidation_0-merror:0.137236\tvalidation_1-merror:0.141245\n",
            "[9]\tvalidation_0-merror:0.136568\tvalidation_1-merror:0.140156\n",
            "[10]\tvalidation_0-merror:0.136148\tvalidation_1-merror:0.140156\n",
            "[11]\tvalidation_0-merror:0.136197\tvalidation_1-merror:0.140057\n",
            "[12]\tvalidation_0-merror:0.135331\tvalidation_1-merror:0.138969\n",
            "[13]\tvalidation_0-merror:0.135059\tvalidation_1-merror:0.139167\n",
            "[14]\tvalidation_0-merror:0.135133\tvalidation_1-merror:0.13976\n",
            "[15]\tvalidation_0-merror:0.135282\tvalidation_1-merror:0.140354\n",
            "[16]\tvalidation_0-merror:0.134589\tvalidation_1-merror:0.139859\n",
            "[17]\tvalidation_0-merror:0.134416\tvalidation_1-merror:0.13976\n",
            "[18]\tvalidation_0-merror:0.134317\tvalidation_1-merror:0.139563\n",
            "[19]\tvalidation_0-merror:0.134044\tvalidation_1-merror:0.139068\n",
            "[20]\tvalidation_0-merror:0.133945\tvalidation_1-merror:0.13887\n",
            "[21]\tvalidation_0-merror:0.133376\tvalidation_1-merror:0.138276\n",
            "[22]\tvalidation_0-merror:0.133253\tvalidation_1-merror:0.138375\n",
            "[23]\tvalidation_0-merror:0.133055\tvalidation_1-merror:0.137979\n",
            "[24]\tvalidation_0-merror:0.132956\tvalidation_1-merror:0.137979\n",
            "[25]\tvalidation_0-merror:0.13303\tvalidation_1-merror:0.137979\n",
            "[26]\tvalidation_0-merror:0.13303\tvalidation_1-merror:0.13788\n",
            "[27]\tvalidation_0-merror:0.132708\tvalidation_1-merror:0.137583\n",
            "[28]\tvalidation_0-merror:0.13251\tvalidation_1-merror:0.137385\n",
            "[29]\tvalidation_0-merror:0.131966\tvalidation_1-merror:0.13689\n",
            "[30]\tvalidation_0-merror:0.13204\tvalidation_1-merror:0.136989\n",
            "[31]\tvalidation_0-merror:0.131916\tvalidation_1-merror:0.137385\n",
            "[32]\tvalidation_0-merror:0.131619\tvalidation_1-merror:0.136989\n",
            "[33]\tvalidation_0-merror:0.131545\tvalidation_1-merror:0.136593\n",
            "[34]\tvalidation_0-merror:0.131397\tvalidation_1-merror:0.136692\n",
            "[35]\tvalidation_0-merror:0.131397\tvalidation_1-merror:0.13689\n",
            "[36]\tvalidation_0-merror:0.131248\tvalidation_1-merror:0.136989\n",
            "[37]\tvalidation_0-merror:0.130877\tvalidation_1-merror:0.13689\n",
            "[38]\tvalidation_0-merror:0.130728\tvalidation_1-merror:0.136593\n",
            "[39]\tvalidation_0-merror:0.130531\tvalidation_1-merror:0.136494\n",
            "[40]\tvalidation_0-merror:0.130605\tvalidation_1-merror:0.136395\n",
            "[41]\tvalidation_0-merror:0.13058\tvalidation_1-merror:0.1359\n",
            "[42]\tvalidation_0-merror:0.130234\tvalidation_1-merror:0.135801\n",
            "[43]\tvalidation_0-merror:0.130135\tvalidation_1-merror:0.135504\n",
            "[44]\tvalidation_0-merror:0.130036\tvalidation_1-merror:0.135405\n",
            "[45]\tvalidation_0-merror:0.129937\tvalidation_1-merror:0.135207\n",
            "[46]\tvalidation_0-merror:0.129541\tvalidation_1-merror:0.135504\n",
            "[47]\tvalidation_0-merror:0.129244\tvalidation_1-merror:0.134811\n",
            "[48]\tvalidation_0-merror:0.129021\tvalidation_1-merror:0.134613\n",
            "[49]\tvalidation_0-merror:0.128724\tvalidation_1-merror:0.134613\n",
            "[50]\tvalidation_0-merror:0.128699\tvalidation_1-merror:0.13491\n",
            "[51]\tvalidation_0-merror:0.128625\tvalidation_1-merror:0.135009\n",
            "[52]\tvalidation_0-merror:0.128303\tvalidation_1-merror:0.13491\n",
            "[53]\tvalidation_0-merror:0.128056\tvalidation_1-merror:0.134811\n",
            "[54]\tvalidation_0-merror:0.127685\tvalidation_1-merror:0.134712\n",
            "[55]\tvalidation_0-merror:0.127462\tvalidation_1-merror:0.134712\n",
            "[56]\tvalidation_0-merror:0.126967\tvalidation_1-merror:0.134514\n",
            "[57]\tvalidation_0-merror:0.126695\tvalidation_1-merror:0.134514\n",
            "[58]\tvalidation_0-merror:0.126497\tvalidation_1-merror:0.134119\n",
            "[59]\tvalidation_0-merror:0.126274\tvalidation_1-merror:0.134119\n",
            "[60]\tvalidation_0-merror:0.125977\tvalidation_1-merror:0.134317\n",
            "[61]\tvalidation_0-merror:0.125854\tvalidation_1-merror:0.134416\n",
            "[62]\tvalidation_0-merror:0.125606\tvalidation_1-merror:0.134514\n",
            "[63]\tvalidation_0-merror:0.125309\tvalidation_1-merror:0.134811\n",
            "[64]\tvalidation_0-merror:0.125136\tvalidation_1-merror:0.134416\n",
            "[65]\tvalidation_0-merror:0.125111\tvalidation_1-merror:0.134119\n",
            "[66]\tvalidation_0-merror:0.124715\tvalidation_1-merror:0.134218\n",
            "[67]\tvalidation_0-merror:0.124443\tvalidation_1-merror:0.133921\n",
            "[68]\tvalidation_0-merror:0.124295\tvalidation_1-merror:0.133624\n",
            "[69]\tvalidation_0-merror:0.123924\tvalidation_1-merror:0.133723\n",
            "[70]\tvalidation_0-merror:0.123775\tvalidation_1-merror:0.133624\n",
            "[71]\tvalidation_0-merror:0.123849\tvalidation_1-merror:0.133525\n",
            "[72]\tvalidation_0-merror:0.123354\tvalidation_1-merror:0.133327\n",
            "[73]\tvalidation_0-merror:0.123231\tvalidation_1-merror:0.133525\n",
            "[74]\tvalidation_0-merror:0.123305\tvalidation_1-merror:0.133525\n",
            "[75]\tvalidation_0-merror:0.123231\tvalidation_1-merror:0.133129\n",
            "[76]\tvalidation_0-merror:0.12286\tvalidation_1-merror:0.133426\n",
            "[77]\tvalidation_0-merror:0.122439\tvalidation_1-merror:0.133129\n",
            "[78]\tvalidation_0-merror:0.122216\tvalidation_1-merror:0.13303\n",
            "[79]\tvalidation_0-merror:0.122216\tvalidation_1-merror:0.133525\n",
            "[80]\tvalidation_0-merror:0.121919\tvalidation_1-merror:0.133921\n",
            "[81]\tvalidation_0-merror:0.121845\tvalidation_1-merror:0.133624\n",
            "[82]\tvalidation_0-merror:0.121499\tvalidation_1-merror:0.133723\n",
            "[83]\tvalidation_0-merror:0.121301\tvalidation_1-merror:0.133723\n",
            "[84]\tvalidation_0-merror:0.120979\tvalidation_1-merror:0.133921\n",
            "[85]\tvalidation_0-merror:0.120905\tvalidation_1-merror:0.133921\n",
            "[86]\tvalidation_0-merror:0.120707\tvalidation_1-merror:0.133921\n",
            "[87]\tvalidation_0-merror:0.120336\tvalidation_1-merror:0.133426\n",
            "[88]\tvalidation_0-merror:0.120187\tvalidation_1-merror:0.133525\n",
            "[89]\tvalidation_0-merror:0.120014\tvalidation_1-merror:0.133327\n",
            "[90]\tvalidation_0-merror:0.119816\tvalidation_1-merror:0.133228\n",
            "[91]\tvalidation_0-merror:0.119519\tvalidation_1-merror:0.133624\n",
            "[92]\tvalidation_0-merror:0.119272\tvalidation_1-merror:0.133327\n",
            "[93]\tvalidation_0-merror:0.119123\tvalidation_1-merror:0.133327\n",
            "[94]\tvalidation_0-merror:0.118999\tvalidation_1-merror:0.133426\n",
            "[95]\tvalidation_0-merror:0.118876\tvalidation_1-merror:0.133327\n",
            "[96]\tvalidation_0-merror:0.118752\tvalidation_1-merror:0.133228\n",
            "[97]\tvalidation_0-merror:0.118653\tvalidation_1-merror:0.133228\n",
            "[98]\tvalidation_0-merror:0.118504\tvalidation_1-merror:0.133228\n",
            "[99]\tvalidation_0-merror:0.118207\tvalidation_1-merror:0.133327\n"
          ]
        },
        {
          "output_type": "execute_result",
          "data": {
            "text/plain": [
              "XGBClassifier(max_depth=8, num_class=5, objective='multi:softprob',\n",
              "              scale_pos_weight=0.2)"
            ]
          },
          "metadata": {},
          "execution_count": 34
        }
      ]
    },
    {
      "cell_type": "code",
      "source": [
        "# feature importance\n",
        "pd.DataFrame(xgbclf.feature_importances_,index=X_train.columns).sort_values(0,ascending=False)"
      ],
      "metadata": {
        "colab": {
          "base_uri": "https://localhost:8080/",
          "height": 425
        },
        "id": "huiXlj-FxVik",
        "outputId": "4ee2c750-4fa8-415d-f4ff-ab79a08c6e91"
      },
      "execution_count": 35,
      "outputs": [
        {
          "output_type": "execute_result",
          "data": {
            "text/plain": [
              "                    0\n",
              "Wee          0.189065\n",
              "Morning      0.185449\n",
              "long         0.104864\n",
              "lat          0.096827\n",
              "bike_ways    0.092169\n",
              "Evening      0.070841\n",
              "population   0.068734\n",
              "parks        0.062008\n",
              "Afternoon    0.056901\n",
              "month        0.037184\n",
              "day_of_week  0.035958\n",
              "stops        0.000000"
            ],
            "text/html": [
              "\n",
              "  <div id=\"df-ff0833bf-6860-4a13-9587-a76f9374a9bf\">\n",
              "    <div class=\"colab-df-container\">\n",
              "      <div>\n",
              "<style scoped>\n",
              "    .dataframe tbody tr th:only-of-type {\n",
              "        vertical-align: middle;\n",
              "    }\n",
              "\n",
              "    .dataframe tbody tr th {\n",
              "        vertical-align: top;\n",
              "    }\n",
              "\n",
              "    .dataframe thead th {\n",
              "        text-align: right;\n",
              "    }\n",
              "</style>\n",
              "<table border=\"1\" class=\"dataframe\">\n",
              "  <thead>\n",
              "    <tr style=\"text-align: right;\">\n",
              "      <th></th>\n",
              "      <th>0</th>\n",
              "    </tr>\n",
              "  </thead>\n",
              "  <tbody>\n",
              "    <tr>\n",
              "      <th>Wee</th>\n",
              "      <td>0.189065</td>\n",
              "    </tr>\n",
              "    <tr>\n",
              "      <th>Morning</th>\n",
              "      <td>0.185449</td>\n",
              "    </tr>\n",
              "    <tr>\n",
              "      <th>long</th>\n",
              "      <td>0.104864</td>\n",
              "    </tr>\n",
              "    <tr>\n",
              "      <th>lat</th>\n",
              "      <td>0.096827</td>\n",
              "    </tr>\n",
              "    <tr>\n",
              "      <th>bike_ways</th>\n",
              "      <td>0.092169</td>\n",
              "    </tr>\n",
              "    <tr>\n",
              "      <th>Evening</th>\n",
              "      <td>0.070841</td>\n",
              "    </tr>\n",
              "    <tr>\n",
              "      <th>population</th>\n",
              "      <td>0.068734</td>\n",
              "    </tr>\n",
              "    <tr>\n",
              "      <th>parks</th>\n",
              "      <td>0.062008</td>\n",
              "    </tr>\n",
              "    <tr>\n",
              "      <th>Afternoon</th>\n",
              "      <td>0.056901</td>\n",
              "    </tr>\n",
              "    <tr>\n",
              "      <th>month</th>\n",
              "      <td>0.037184</td>\n",
              "    </tr>\n",
              "    <tr>\n",
              "      <th>day_of_week</th>\n",
              "      <td>0.035958</td>\n",
              "    </tr>\n",
              "    <tr>\n",
              "      <th>stops</th>\n",
              "      <td>0.000000</td>\n",
              "    </tr>\n",
              "  </tbody>\n",
              "</table>\n",
              "</div>\n",
              "      <button class=\"colab-df-convert\" onclick=\"convertToInteractive('df-ff0833bf-6860-4a13-9587-a76f9374a9bf')\"\n",
              "              title=\"Convert this dataframe to an interactive table.\"\n",
              "              style=\"display:none;\">\n",
              "        \n",
              "  <svg xmlns=\"http://www.w3.org/2000/svg\" height=\"24px\"viewBox=\"0 0 24 24\"\n",
              "       width=\"24px\">\n",
              "    <path d=\"M0 0h24v24H0V0z\" fill=\"none\"/>\n",
              "    <path d=\"M18.56 5.44l.94 2.06.94-2.06 2.06-.94-2.06-.94-.94-2.06-.94 2.06-2.06.94zm-11 1L8.5 8.5l.94-2.06 2.06-.94-2.06-.94L8.5 2.5l-.94 2.06-2.06.94zm10 10l.94 2.06.94-2.06 2.06-.94-2.06-.94-.94-2.06-.94 2.06-2.06.94z\"/><path d=\"M17.41 7.96l-1.37-1.37c-.4-.4-.92-.59-1.43-.59-.52 0-1.04.2-1.43.59L10.3 9.45l-7.72 7.72c-.78.78-.78 2.05 0 2.83L4 21.41c.39.39.9.59 1.41.59.51 0 1.02-.2 1.41-.59l7.78-7.78 2.81-2.81c.8-.78.8-2.07 0-2.86zM5.41 20L4 18.59l7.72-7.72 1.47 1.35L5.41 20z\"/>\n",
              "  </svg>\n",
              "      </button>\n",
              "      \n",
              "  <style>\n",
              "    .colab-df-container {\n",
              "      display:flex;\n",
              "      flex-wrap:wrap;\n",
              "      gap: 12px;\n",
              "    }\n",
              "\n",
              "    .colab-df-convert {\n",
              "      background-color: #E8F0FE;\n",
              "      border: none;\n",
              "      border-radius: 50%;\n",
              "      cursor: pointer;\n",
              "      display: none;\n",
              "      fill: #1967D2;\n",
              "      height: 32px;\n",
              "      padding: 0 0 0 0;\n",
              "      width: 32px;\n",
              "    }\n",
              "\n",
              "    .colab-df-convert:hover {\n",
              "      background-color: #E2EBFA;\n",
              "      box-shadow: 0px 1px 2px rgba(60, 64, 67, 0.3), 0px 1px 3px 1px rgba(60, 64, 67, 0.15);\n",
              "      fill: #174EA6;\n",
              "    }\n",
              "\n",
              "    [theme=dark] .colab-df-convert {\n",
              "      background-color: #3B4455;\n",
              "      fill: #D2E3FC;\n",
              "    }\n",
              "\n",
              "    [theme=dark] .colab-df-convert:hover {\n",
              "      background-color: #434B5C;\n",
              "      box-shadow: 0px 1px 3px 1px rgba(0, 0, 0, 0.15);\n",
              "      filter: drop-shadow(0px 1px 2px rgba(0, 0, 0, 0.3));\n",
              "      fill: #FFFFFF;\n",
              "    }\n",
              "  </style>\n",
              "\n",
              "      <script>\n",
              "        const buttonEl =\n",
              "          document.querySelector('#df-ff0833bf-6860-4a13-9587-a76f9374a9bf button.colab-df-convert');\n",
              "        buttonEl.style.display =\n",
              "          google.colab.kernel.accessAllowed ? 'block' : 'none';\n",
              "\n",
              "        async function convertToInteractive(key) {\n",
              "          const element = document.querySelector('#df-ff0833bf-6860-4a13-9587-a76f9374a9bf');\n",
              "          const dataTable =\n",
              "            await google.colab.kernel.invokeFunction('convertToInteractive',\n",
              "                                                     [key], {});\n",
              "          if (!dataTable) return;\n",
              "\n",
              "          const docLinkHtml = 'Like what you see? Visit the ' +\n",
              "            '<a target=\"_blank\" href=https://colab.research.google.com/notebooks/data_table.ipynb>data table notebook</a>'\n",
              "            + ' to learn more about interactive tables.';\n",
              "          element.innerHTML = '';\n",
              "          dataTable['output_type'] = 'display_data';\n",
              "          await google.colab.output.renderOutput(dataTable, element);\n",
              "          const docLink = document.createElement('div');\n",
              "          docLink.innerHTML = docLinkHtml;\n",
              "          element.appendChild(docLink);\n",
              "        }\n",
              "      </script>\n",
              "    </div>\n",
              "  </div>\n",
              "  "
            ]
          },
          "metadata": {},
          "execution_count": 35
        }
      ]
    },
    {
      "cell_type": "code",
      "source": [
        "test = pd.read_csv('/content/202101_test.csv',index_col=0)\n",
        "test.shape"
      ],
      "metadata": {
        "colab": {
          "base_uri": "https://localhost:8080/"
        },
        "id": "IesvcD_-xVkj",
        "outputId": "54afaea0-e2c9-4802-ec49-06f5aa3f5d15"
      },
      "execution_count": 41,
      "outputs": [
        {
          "output_type": "execute_result",
          "data": {
            "text/plain": [
              "(3701, 13)"
            ]
          },
          "metadata": {},
          "execution_count": 41
        }
      ]
    },
    {
      "cell_type": "code",
      "source": [
        "from sklearn.metrics import classification_report"
      ],
      "metadata": {
        "id": "T1Thep6H78Wg"
      },
      "execution_count": 47,
      "outputs": []
    },
    {
      "cell_type": "code",
      "source": [
        "def print_precison_recall_f1(y_true, y_pre):\n",
        "    print(classification_report(y_true, y_pre))\n",
        "    f1 = round(f1_score(y_true, y_pre, average='macro'), 2)\n",
        "    p = round(precision_score(y_true, y_pre, average='macro'), 2)\n",
        "    r = round(recall_score(y_true, y_pre, average='macro'), 2)\n",
        "    print(\"Precision: {}, Recall: {}, F1: {} \".format(p, r, f1))"
      ],
      "metadata": {
        "id": "Y7S-JpGR78Y_"
      },
      "execution_count": 48,
      "outputs": []
    },
    {
      "cell_type": "code",
      "source": [
        "from sklearn.metrics import f1_score, precision_score, recall_score\n",
        "pre_y_test = xgbclf.predict(test.drop(['label'], axis=1))\n",
        "print_precison_recall_f1(test.label, pre_y_test)"
      ],
      "metadata": {
        "colab": {
          "base_uri": "https://localhost:8080/"
        },
        "id": "CHTL3cZr6_b2",
        "outputId": "0f4f01d9-6638-4d34-fac4-a7179aa8877a"
      },
      "execution_count": 49,
      "outputs": [
        {
          "output_type": "stream",
          "name": "stdout",
          "text": [
            "              precision    recall  f1-score   support\n",
            "\n",
            "           0       0.86      0.94      0.90      3049\n",
            "           1       0.53      0.22      0.31       297\n",
            "           2       0.52      0.36      0.43       355\n",
            "\n",
            "    accuracy                           0.83      3701\n",
            "   macro avg       0.64      0.51      0.55      3701\n",
            "weighted avg       0.80      0.83      0.81      3701\n",
            "\n",
            "Precision: 0.64, Recall: 0.51, F1: 0.55 \n"
          ]
        }
      ]
    },
    {
      "cell_type": "code",
      "source": [
        ""
      ],
      "metadata": {
        "id": "tR0BQO0TxVm0"
      },
      "execution_count": null,
      "outputs": []
    },
    {
      "cell_type": "code",
      "execution_count": null,
      "metadata": {
        "id": "xK89uGl4w470"
      },
      "outputs": [],
      "source": [
        ""
      ]
    },
    {
      "cell_type": "code",
      "execution_count": null,
      "metadata": {
        "id": "tkOMikXFw471"
      },
      "outputs": [],
      "source": [
        ""
      ]
    }
  ],
  "metadata": {
    "interpreter": {
      "hash": "6201843772fd9857aa519d927ec692354182860add5b8d93783d514dd2c767d8"
    },
    "kernelspec": {
      "display_name": "Python 3 (ipykernel)",
      "language": "python",
      "name": "python3"
    },
    "language_info": {
      "codemirror_mode": {
        "name": "ipython",
        "version": 3
      },
      "file_extension": ".py",
      "mimetype": "text/x-python",
      "name": "python",
      "nbconvert_exporter": "python",
      "pygments_lexer": "ipython3",
      "version": "3.8.12"
    },
    "colab": {
      "name": "model.ipynb",
      "provenance": [],
      "collapsed_sections": []
    }
  },
  "nbformat": 4,
  "nbformat_minor": 0
}