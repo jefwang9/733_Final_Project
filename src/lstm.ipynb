{
 "cells": [
  {
   "cell_type": "code",
   "execution_count": 1,
   "metadata": {},
   "outputs": [
    {
     "ename": "ModuleNotFoundError",
     "evalue": "No module named 'torch'",
     "output_type": "error",
     "traceback": [
      "\u001b[0;31m---------------------------------------------------------------------------\u001b[0m",
      "\u001b[0;31mModuleNotFoundError\u001b[0m                       Traceback (most recent call last)",
      "\u001b[0;32m/var/folders/2n/082nnsp112q6r95ps5ymmcr40000gn/T/ipykernel_99834/3595502153.py\u001b[0m in \u001b[0;36m<module>\u001b[0;34m\u001b[0m\n\u001b[1;32m      3\u001b[0m \u001b[0;32mimport\u001b[0m \u001b[0mmatplotlib\u001b[0m\u001b[0;34m.\u001b[0m\u001b[0mpyplot\u001b[0m \u001b[0;32mas\u001b[0m \u001b[0mplt\u001b[0m\u001b[0;34m\u001b[0m\u001b[0;34m\u001b[0m\u001b[0m\n\u001b[1;32m      4\u001b[0m \u001b[0;32mimport\u001b[0m \u001b[0mseaborn\u001b[0m \u001b[0;32mas\u001b[0m \u001b[0msns\u001b[0m\u001b[0;34m\u001b[0m\u001b[0;34m\u001b[0m\u001b[0m\n\u001b[0;32m----> 5\u001b[0;31m \u001b[0;32mfrom\u001b[0m \u001b[0mtorch\u001b[0m \u001b[0;32mimport\u001b[0m \u001b[0mnn\u001b[0m\u001b[0;34m\u001b[0m\u001b[0;34m\u001b[0m\u001b[0m\n\u001b[0m\u001b[1;32m      6\u001b[0m \u001b[0;32mimport\u001b[0m \u001b[0mtorch\u001b[0m\u001b[0;34m\u001b[0m\u001b[0;34m\u001b[0m\u001b[0m\n\u001b[1;32m      7\u001b[0m \u001b[0;32mimport\u001b[0m \u001b[0mnumpy\u001b[0m \u001b[0;32mas\u001b[0m \u001b[0mnp\u001b[0m\u001b[0;34m\u001b[0m\u001b[0;34m\u001b[0m\u001b[0m\n",
      "\u001b[0;31mModuleNotFoundError\u001b[0m: No module named 'torch'"
     ]
    }
   ],
   "source": [
    "import pandas as pd\n",
    "from pandas import DataFrame\n",
    "import matplotlib.pyplot as plt\n",
    "import seaborn as sns\n",
    "from torch import nn\n",
    "import torch\n",
    "import numpy as np\n",
    "from torch.autograd import Variable \n",
    "from tqdm import trange"
   ]
  },
  {
   "cell_type": "code",
   "execution_count": 2,
   "metadata": {},
   "outputs": [
    {
     "name": "stdout",
     "output_type": "stream",
     "text": [
      "Index(['Unnamed: 0', 'Departure', 'Return', 'Bike', 'Departure station',\n",
      "       'Return station', 'Membership type', 'Covered distance (m)',\n",
      "       'Duration (sec.)', 'Departure battery voltage (mV)',\n",
      "       'Return battery voltage (mV)', 'Departure temperature (C)',\n",
      "       'Return temperature (C)', 'Stopover duration (sec.)',\n",
      "       'Number of stopovers', 'postal_code_x', 'Departure lat',\n",
      "       'Departure long', 'postal_code_y', 'Return lat', 'Return long'],\n",
      "      dtype='object')\n"
     ]
    }
   ],
   "source": [
    "mobi_data = pd.read_csv(\"../data/Mobi_System_Data_2020.csv\", compression='zip').dropna()\n",
    "geo_data = pd.read_csv('../data/geocodings.csv',index_col=0)\n",
    "data = mobi_data.merge(geo_data.rename({'lat':'Departure lat','long':'Departure long'},axis=1),left_on='Departure station',right_on='address').drop('address',axis=1)\n",
    "data = data.merge(geo_data.rename({'lat':'Return lat','long':'Return long'},axis=1),left_on='Return station',right_on='address').drop('address',axis=1)\n",
    "data.shape\n",
    "# data = data.loc[data[\"Departure postal code\"].str.startswith(\"V6\")]\n",
    "print(data.columns)\n",
    "data[\"time\"] = pd.to_datetime(data[\"Departure\"], format=\"%Y-%m-%d %H:%M:%S\")\n",
    "data[\"hour\"] = data[\"time\"].dt.hour\n",
    "data[\"day\"] = data[\"time\"].dt.day\n",
    "data[\"month\"] = data[\"time\"].dt.month\n",
    "data[\"year\"] = data[\"time\"].dt.year\n",
    "\n",
    "# train_data = data[[\"year\", \"month\", \"day\", \"hour\", \"Departure lat\", \"Departure long\"]]\n",
    "features_departure = [\"month\", \"day\", \"hour\", \"Departure lat\", \"Departure long\"]\n",
    "counts_data = data.groupby([\"month\", \"day\", \"hour\", \"Departure lat\", \"Departure long\", \"Departure station\"]).size().reset_index(name='counts')\n",
    "\n",
    "device = torch.device(\"cuda\")\n",
    "\n",
    "\n"
   ]
  },
  {
   "cell_type": "code",
   "execution_count": 3,
   "metadata": {},
   "outputs": [
    {
     "name": "stdout",
     "output_type": "stream",
     "text": [
      "221\n",
      "            month       day      hour  Departure lat  Departure long  \\\n",
      "0        0.083333  0.032258  0.000000       0.693601        0.000627   \n",
      "1        0.083333  0.032258  0.043478       0.693601        0.000627   \n",
      "2        0.083333  0.032258  0.086957       0.693601        0.000627   \n",
      "3        0.083333  0.032258  0.130435       0.693601        0.000627   \n",
      "4        0.083333  0.032258  0.173913       0.693601        0.000627   \n",
      "...           ...       ...       ...            ...             ...   \n",
      "1935955  1.000000  0.967742  0.826087       0.284948        0.841722   \n",
      "1935956  1.000000  0.967742  0.869565       0.284948        0.841722   \n",
      "1935957  1.000000  0.967742  0.913043       0.284948        0.841722   \n",
      "1935958  1.000000  0.967742  0.956522       0.284948        0.841722   \n",
      "1935959  1.000000  0.967742  1.000000       0.284948        0.841722   \n",
      "\n",
      "                                Departure station  counts  \n",
      "0        0099 Vancouver Art Gallery - North Plaza     1.0  \n",
      "1        0099 Vancouver Art Gallery - North Plaza     0.0  \n",
      "2        0099 Vancouver Art Gallery - North Plaza     2.0  \n",
      "3        0099 Vancouver Art Gallery - North Plaza     1.0  \n",
      "4        0099 Vancouver Art Gallery - North Plaza     0.0  \n",
      "...                                           ...     ...  \n",
      "1935955             0985 Quebec Yard - To Service     0.0  \n",
      "1935956             0985 Quebec Yard - To Service     0.0  \n",
      "1935957             0985 Quebec Yard - To Service     0.0  \n",
      "1935958             0985 Quebec Yard - To Service     0.0  \n",
      "1935959             0985 Quebec Yard - To Service     0.0  \n",
      "\n",
      "[1935960 rows x 7 columns]\n"
     ]
    }
   ],
   "source": [
    "stations = data[[\"Departure lat\", \"Departure long\", \"Departure station\"]].drop_duplicates()\n",
    "max_lat, min_lat = stations[\"Departure lat\"].max(), stations[\"Departure lat\"].min()\n",
    "max_long, min_long = stations[\"Departure long\"].max(), stations[\"Departure long\"].min()\n",
    "batch = stations.shape[0]\n",
    "print(batch)\n",
    "predict_data_departure = pd.DataFrame(data={\n",
    "    \"month\": [], \n",
    "    \"day\": [], \n",
    "    \"hour\": [], \n",
    "    \"Departure lat\": [],\n",
    "    \"Departure long\": []})\n",
    "for row in stations.iterrows():\n",
    "    time = pd.date_range('2020-01-01', periods=8760, freq='H')\n",
    "\n",
    "    station_data = pd.DataFrame(data={\"time\": time})\n",
    "    station_data[\"hour\"] = station_data[\"time\"].dt.hour\n",
    "    station_data[\"day\"] = station_data[\"time\"].dt.day\n",
    "    station_data[\"month\"] = station_data[\"time\"].dt.month\n",
    "    station_data[\"Departure lat\"] = (row[1][\"Departure lat\"] - min_lat) / (max_lat - min_lat)\n",
    "    station_data[\"Departure long\"] = (row[1][\"Departure long\"] - min_long) / (max_long - min_long)\n",
    "    station_data[\"Departure station\"] = row[1][\"Departure station\"]\n",
    "    station_data = station_data.drop(columns=[\"time\"])\n",
    "    \n",
    "    predict_data_departure = pd.concat([predict_data_departure, station_data])\n",
    "\n",
    "train_data = predict_data_departure.merge(counts_data[[\"month\", \"day\", \"hour\", \"Departure station\", \"counts\"]], how=\"left\", left_on=[\"month\", \"day\", \"hour\", \"Departure station\"], right_on=[\"month\", \"day\", \"hour\", \"Departure station\"])\n",
    "train_data[\"counts\"] = train_data[\"counts\"].fillna(0)\n",
    "train_data[\"month\"] = train_data[\"month\"] / 12\n",
    "train_data[\"day\"] = train_data[\"day\"] / 31\n",
    "train_data[\"hour\"] = train_data[\"hour\"] / 23\n",
    "# train_data = train_data.sort_values(by=\"Departure station\")\n",
    "print(train_data)\n",
    "x = train_data[features_departure]\n",
    "y = train_data[\"counts\"]"
   ]
  },
  {
   "cell_type": "code",
   "execution_count": 4,
   "metadata": {},
   "outputs": [],
   "source": [
    "class LSTM(nn.Module):\n",
    "    def __init__(self, input_size=5, hidden_layer_size=20, output_size=1):\n",
    "        super().__init__()\n",
    "        self.hidden_layer_size = hidden_layer_size\n",
    "\n",
    "        self.lstm = nn.LSTM(input_size, hidden_layer_size, batch_first=True)\n",
    "\n",
    "        self.linear = nn.Linear(hidden_layer_size, output_size)\n",
    "\n",
    "        self.hidden_cell = (torch.zeros(1, 1, self.hidden_layer_size),\n",
    "                            torch.zeros(1, 1, self.hidden_layer_size))\n",
    "\n",
    "    def forward(self, input_seq):\n",
    "        lstm_out, self.hidden_cell = self.lstm(input_seq, self.hidden_cell)\n",
    "        predictions = self.linear(lstm_out)\n",
    "        return predictions"
   ]
  },
  {
   "cell_type": "code",
   "execution_count": 5,
   "metadata": {},
   "outputs": [
    {
     "name": "stderr",
     "output_type": "stream",
     "text": [
      "100%|██████████| 221/221 [01:43<00:00,  2.13it/s]\n"
     ]
    },
    {
     "name": "stdout",
     "output_type": "stream",
     "text": [
      "Loss: 0.764691403843631\n"
     ]
    },
    {
     "name": "stderr",
     "output_type": "stream",
     "text": [
      "100%|██████████| 221/221 [01:35<00:00,  2.31it/s]\n"
     ]
    },
    {
     "name": "stdout",
     "output_type": "stream",
     "text": [
      "Loss: 0.7287306280973119\n"
     ]
    },
    {
     "name": "stderr",
     "output_type": "stream",
     "text": [
      "100%|██████████| 221/221 [01:35<00:00,  2.32it/s]\n"
     ]
    },
    {
     "name": "stdout",
     "output_type": "stream",
     "text": [
      "Loss: 0.7090108825854654\n"
     ]
    },
    {
     "name": "stderr",
     "output_type": "stream",
     "text": [
      "100%|██████████| 221/221 [01:35<00:00,  2.32it/s]\n"
     ]
    },
    {
     "name": "stdout",
     "output_type": "stream",
     "text": [
      "Loss: 0.7034600599504569\n"
     ]
    },
    {
     "name": "stderr",
     "output_type": "stream",
     "text": [
      "100%|██████████| 221/221 [01:31<00:00,  2.41it/s]\n"
     ]
    },
    {
     "name": "stdout",
     "output_type": "stream",
     "text": [
      "Loss: 0.7031765959196096\n"
     ]
    },
    {
     "name": "stderr",
     "output_type": "stream",
     "text": [
      "100%|██████████| 221/221 [01:35<00:00,  2.32it/s]\n"
     ]
    },
    {
     "name": "stdout",
     "output_type": "stream",
     "text": [
      "Loss: 0.7028346174097372\n"
     ]
    },
    {
     "name": "stderr",
     "output_type": "stream",
     "text": [
      "100%|██████████| 221/221 [01:38<00:00,  2.24it/s]\n"
     ]
    },
    {
     "name": "stdout",
     "output_type": "stream",
     "text": [
      "Loss: 0.703387740535906\n"
     ]
    },
    {
     "name": "stderr",
     "output_type": "stream",
     "text": [
      "100%|██████████| 221/221 [01:36<00:00,  2.28it/s]\n"
     ]
    },
    {
     "name": "stdout",
     "output_type": "stream",
     "text": [
      "Loss: 0.7029192865914686\n"
     ]
    },
    {
     "name": "stderr",
     "output_type": "stream",
     "text": [
      "100%|██████████| 221/221 [01:33<00:00,  2.37it/s]\n"
     ]
    },
    {
     "name": "stdout",
     "output_type": "stream",
     "text": [
      "Loss: 0.7036798009101082\n"
     ]
    },
    {
     "name": "stderr",
     "output_type": "stream",
     "text": [
      "100%|██████████| 221/221 [01:32<00:00,  2.39it/s]\n"
     ]
    },
    {
     "name": "stdout",
     "output_type": "stream",
     "text": [
      "Loss: 0.7024271916977354\n"
     ]
    },
    {
     "name": "stderr",
     "output_type": "stream",
     "text": [
      "100%|██████████| 221/221 [01:38<00:00,  2.24it/s]\n"
     ]
    },
    {
     "name": "stdout",
     "output_type": "stream",
     "text": [
      "Loss: 0.7042933950006827\n"
     ]
    },
    {
     "name": "stderr",
     "output_type": "stream",
     "text": [
      "100%|██████████| 221/221 [01:35<00:00,  2.31it/s]\n"
     ]
    },
    {
     "name": "stdout",
     "output_type": "stream",
     "text": [
      "Loss: 0.7025699387072708\n"
     ]
    },
    {
     "name": "stderr",
     "output_type": "stream",
     "text": [
      "100%|██████████| 221/221 [01:33<00:00,  2.36it/s]\n"
     ]
    },
    {
     "name": "stdout",
     "output_type": "stream",
     "text": [
      "Loss: 0.7035756583970326\n"
     ]
    },
    {
     "name": "stderr",
     "output_type": "stream",
     "text": [
      "100%|██████████| 221/221 [01:35<00:00,  2.32it/s]\n"
     ]
    },
    {
     "name": "stdout",
     "output_type": "stream",
     "text": [
      "Loss: 0.7024996919658592\n"
     ]
    },
    {
     "name": "stderr",
     "output_type": "stream",
     "text": [
      "100%|██████████| 221/221 [01:31<00:00,  2.42it/s]\n"
     ]
    },
    {
     "name": "stdout",
     "output_type": "stream",
     "text": [
      "Loss: 0.7031211992894295\n"
     ]
    },
    {
     "name": "stderr",
     "output_type": "stream",
     "text": [
      "100%|██████████| 221/221 [01:42<00:00,  2.15it/s]\n"
     ]
    },
    {
     "name": "stdout",
     "output_type": "stream",
     "text": [
      "Loss: 0.7020991712479907\n"
     ]
    },
    {
     "name": "stderr",
     "output_type": "stream",
     "text": [
      "100%|██████████| 221/221 [01:38<00:00,  2.24it/s]\n"
     ]
    },
    {
     "name": "stdout",
     "output_type": "stream",
     "text": [
      "Loss: 0.7026675720593778\n"
     ]
    },
    {
     "name": "stderr",
     "output_type": "stream",
     "text": [
      "100%|██████████| 221/221 [01:35<00:00,  2.30it/s]\n"
     ]
    },
    {
     "name": "stdout",
     "output_type": "stream",
     "text": [
      "Loss: 0.7013670770110082\n"
     ]
    },
    {
     "name": "stderr",
     "output_type": "stream",
     "text": [
      "100%|██████████| 221/221 [01:38<00:00,  2.23it/s]\n"
     ]
    },
    {
     "name": "stdout",
     "output_type": "stream",
     "text": [
      "Loss: 0.7020356514748203\n"
     ]
    },
    {
     "name": "stderr",
     "output_type": "stream",
     "text": [
      "100%|██████████| 221/221 [01:38<00:00,  2.24it/s]"
     ]
    },
    {
     "name": "stdout",
     "output_type": "stream",
     "text": [
      "Loss: 0.6959114628854498\n"
     ]
    },
    {
     "name": "stderr",
     "output_type": "stream",
     "text": [
      "\n"
     ]
    }
   ],
   "source": [
    "train_x = torch.tensor(x.to_numpy()).float()\n",
    "train_y = torch.tensor(y.to_numpy()).float()\n",
    "l = train_x.shape[0]\n",
    "train_x = train_x.reshape((batch, int(l / batch), 5))\n",
    "train_y = train_y.reshape((batch, int(l / batch), 1))\n",
    "\n",
    "model = LSTM().to(device)\n",
    "criterion = nn.MSELoss()\n",
    "optimizer = torch.optim.Adam(model.parameters(), lr=1e-3)\n",
    "for e in range(20):\n",
    "    total_loss = 0\n",
    "    for b in trange(batch):\n",
    "        inputs = train_x[b:b+1, :, :].to(device)\n",
    "        outputs = train_y[b:b+1, :].to(device)\n",
    "        model.zero_grad()\n",
    "        model.hidden_cell = (torch.zeros(1, 1, model.hidden_layer_size).to(device), torch.zeros(1, 1, model.hidden_layer_size).to(device))\n",
    "        out = model(inputs)\n",
    "        loss = criterion(out, outputs)\n",
    "        loss.backward()\n",
    "        total_loss += loss.item()\n",
    "        optimizer.step()\n",
    "        # print(\"one_step\")\n",
    "    print('Loss:',total_loss / batch)"
   ]
  },
  {
   "cell_type": "code",
   "execution_count": 21,
   "metadata": {},
   "outputs": [
    {
     "data": {
      "text/plain": [
       "<AxesSubplot:title={'center':'# of Return for each hour'}, xlabel='hour'>"
      ]
     },
     "execution_count": 21,
     "metadata": {},
     "output_type": "execute_result"
    },
    {
     "data": {
      "image/png": "[encoded data removed]",
      "text/plain": [
       "<Figure size 1440x720 with 1 Axes>"
      ]
     },
     "metadata": {
      "needs_background": "light"
     },
     "output_type": "display_data"
    }
   ],
   "source": [
    "predict_data_departure = pd.DataFrame(data={\n",
    "    \"month\": [], \n",
    "    \"day\": [], \n",
    "    \"hour\": [], \n",
    "    \"Departure lat\": [],\n",
    "    \"Departure long\": [],})\n",
    "period = 168\n",
    "for row in stations.iterrows():\n",
    "    time = pd.date_range('2022-04-01', periods=period, freq='H')\n",
    "\n",
    "    station_data = pd.DataFrame(data={\"time\": time})\n",
    "    station_data[\"hour\"] = station_data[\"time\"].dt.hour / 23\n",
    "    station_data[\"day\"] = station_data[\"time\"].dt.day / 31\n",
    "    station_data[\"month\"] = station_data[\"time\"].dt.month / 12\n",
    "    station_data[\"Departure lat\"] = (row[1][\"Departure lat\"] - min_lat) / (max_lat - min_lat)\n",
    "    station_data[\"Departure long\"] = (row[1][\"Departure long\"] - min_long) / (max_long - min_long)\n",
    "    station_data[\"Departure station\"] = row[1][\"Departure station\"]\n",
    "    station_data = station_data.drop(columns=[\"time\"])\n",
    "    \n",
    "    predict_data_departure = pd.concat([predict_data_departure, station_data])\n",
    "predict_x = predict_data_departure[features_departure].to_numpy()\n",
    "tensor_x = torch.tensor(predict_x).float()\n",
    "tensor_x = tensor_x.reshape((batch, int(tensor_x.shape[0] / batch), 5))\n",
    "outs = np.zeros((batch, period))\n",
    "with torch.no_grad():\n",
    "    for b in range(batch):\n",
    "        input = tensor_x[b:b+1, :, :].to(device)\n",
    "        model.hidden = (torch.zeros(1, 1, model.hidden_layer_size).to(device), torch.zeros(1, 1, model.hidden_layer_size).to(device))\n",
    "        output = model(input)\n",
    "        outs[b, :] = torch.flatten(output).cpu()\n",
    "# print(output)\n",
    "predict_data_departure[\"counts\"] = outs.flatten()\n",
    "predict_data_departure[\"hour\"] = (predict_data_departure[\"hour\"] * 23).round()\n",
    "predict_data_departure = predict_data_departure[[\"hour\", \"counts\"]].groupby(\"hour\").sum()\n",
    "# print(predict_data_departure)\n",
    "predict_data_departure.plot(kind='bar', figsize=(20, 10), title=\"# of Return for each hour\")\n",
    "# predict_data_departure = predict_data_departure[[\"Departure station\", \"counts\"]].groupby(\"Departure station\").sum().sort_values(\"counts\")\n",
    "# print(predict_data_departure)\n",
    "# test = counts_data[[\"Departure station\", \"counts\"]].groupby(\"Departure station\").sum().sort_values(\"counts\")\n",
    "# print(test)"
   ]
  }
 ],
 "metadata": {
  "interpreter": {
   "hash": "6201843772fd9857aa519d927ec692354182860add5b8d93783d514dd2c767d8"
  },
  "kernelspec": {
   "display_name": "Python 3 (ipykernel)",
   "language": "python",
   "name": "python3"
  },
  "language_info": {
   "codemirror_mode": {
    "name": "ipython",
    "version": 3
   },
   "file_extension": ".py",
   "mimetype": "text/x-python",
   "name": "python",
   "nbconvert_exporter": "python",
   "pygments_lexer": "ipython3",
   "version": "3.8.12"
  }
 },
 "nbformat": 4,
 "nbformat_minor": 2
}
