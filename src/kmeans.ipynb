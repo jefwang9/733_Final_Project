{
 "cells": [
  {
   "cell_type": "code",
   "execution_count": 1,
   "id": "87f10146",
   "metadata": {},
   "outputs": [],
   "source": [
    "import pandas as pd\n",
    "import os\n",
    "import seaborn as sns\n",
    "import numpy as np\n",
    "import matplotlib.pyplot as plt\n",
    "from IPython.display import display, Markdown\n",
    "def displaymd(mdstr):\n",
    "    display(Markdown(mdstr))"
   ]
  },
  {
   "cell_type": "code",
   "execution_count": 2,
   "id": "a66389ba",
   "metadata": {},
   "outputs": [
    {
     "data": {
      "text/plain": [
       "(254, 4)"
      ]
     },
     "execution_count": 2,
     "metadata": {},
     "output_type": "execute_result"
    }
   ],
   "source": [
    "geo_data = pd.read_csv('../data/geocodings.csv',index_col=0)\n",
    "geo_data.shape"
   ]
  },
  {
   "cell_type": "code",
   "execution_count": 4,
   "id": "d76af2b6",
   "metadata": {},
   "outputs": [
    {
     "data": {
      "text/html": [
       "<div>\n",
       "<style scoped>\n",
       "    .dataframe tbody tr th:only-of-type {\n",
       "        vertical-align: middle;\n",
       "    }\n",
       "\n",
       "    .dataframe tbody tr th {\n",
       "        vertical-align: top;\n",
       "    }\n",
       "\n",
       "    .dataframe thead th {\n",
       "        text-align: right;\n",
       "    }\n",
       "</style>\n",
       "<table border=\"1\" class=\"dataframe\">\n",
       "  <thead>\n",
       "    <tr style=\"text-align: right;\">\n",
       "      <th></th>\n",
       "      <th>address</th>\n",
       "      <th>postal_code</th>\n",
       "      <th>lat</th>\n",
       "      <th>long</th>\n",
       "    </tr>\n",
       "  </thead>\n",
       "  <tbody>\n",
       "    <tr>\n",
       "      <th>0</th>\n",
       "      <td>0048 Comox &amp; Broughton</td>\n",
       "      <td>V6E4E1</td>\n",
       "      <td>49.285082</td>\n",
       "      <td>-123.134194</td>\n",
       "    </tr>\n",
       "    <tr>\n",
       "      <th>1</th>\n",
       "      <td>0002 Burrard Station</td>\n",
       "      <td>V6C0A4</td>\n",
       "      <td>49.285871</td>\n",
       "      <td>-123.121050</td>\n",
       "    </tr>\n",
       "    <tr>\n",
       "      <th>2</th>\n",
       "      <td>0093 Chilco &amp; Robson</td>\n",
       "      <td>V6G1E8</td>\n",
       "      <td>49.293257</td>\n",
       "      <td>-123.138563</td>\n",
       "    </tr>\n",
       "    <tr>\n",
       "      <th>3</th>\n",
       "      <td>0035 Coal Harbour Community Centre</td>\n",
       "      <td>V6C3S3</td>\n",
       "      <td>49.290419</td>\n",
       "      <td>-123.125810</td>\n",
       "    </tr>\n",
       "    <tr>\n",
       "      <th>4</th>\n",
       "      <td>0071 14th &amp; Granville</td>\n",
       "      <td>V6J2J4</td>\n",
       "      <td>49.259215</td>\n",
       "      <td>-123.142312</td>\n",
       "    </tr>\n",
       "  </tbody>\n",
       "</table>\n",
       "</div>"
      ],
      "text/plain": [
       "                              address postal_code        lat        long\n",
       "0              0048 Comox & Broughton      V6E4E1  49.285082 -123.134194\n",
       "1                0002 Burrard Station      V6C0A4  49.285871 -123.121050\n",
       "2                0093 Chilco & Robson      V6G1E8  49.293257 -123.138563\n",
       "3  0035 Coal Harbour Community Centre      V6C3S3  49.290419 -123.125810\n",
       "4               0071 14th & Granville      V6J2J4  49.259215 -123.142312"
      ]
     },
     "execution_count": 4,
     "metadata": {},
     "output_type": "execute_result"
    }
   ],
   "source": [
    "geo_data.head()"
   ]
  },
  {
   "cell_type": "code",
   "execution_count": 3,
   "id": "898a6af3",
   "metadata": {},
   "outputs": [
    {
     "data": {
      "text/plain": [
       "(572166, 14)"
      ]
     },
     "execution_count": 3,
     "metadata": {},
     "output_type": "execute_result"
    }
   ],
   "source": [
    "data_2020 = pd.read_csv('../data/Mobi_System_Data_2020.csv',compression='zip',index_col=0)\n",
    "data_2020.shape"
   ]
  },
  {
   "cell_type": "code",
   "execution_count": 4,
   "id": "95ed1db0",
   "metadata": {},
   "outputs": [
    {
     "data": {
      "text/html": [
       "<div>\n",
       "<style scoped>\n",
       "    .dataframe tbody tr th:only-of-type {\n",
       "        vertical-align: middle;\n",
       "    }\n",
       "\n",
       "    .dataframe tbody tr th {\n",
       "        vertical-align: top;\n",
       "    }\n",
       "\n",
       "    .dataframe thead th {\n",
       "        text-align: right;\n",
       "    }\n",
       "</style>\n",
       "<table border=\"1\" class=\"dataframe\">\n",
       "  <thead>\n",
       "    <tr style=\"text-align: right;\">\n",
       "      <th></th>\n",
       "      <th>address</th>\n",
       "      <th>dep_postal_code</th>\n",
       "      <th>dep_lat</th>\n",
       "      <th>dep_long</th>\n",
       "    </tr>\n",
       "  </thead>\n",
       "  <tbody>\n",
       "    <tr>\n",
       "      <th>0</th>\n",
       "      <td>0048 Comox &amp; Broughton</td>\n",
       "      <td>V6E4E1</td>\n",
       "      <td>49.285082</td>\n",
       "      <td>-123.134194</td>\n",
       "    </tr>\n",
       "    <tr>\n",
       "      <th>1</th>\n",
       "      <td>0002 Burrard Station</td>\n",
       "      <td>V6C0A4</td>\n",
       "      <td>49.285871</td>\n",
       "      <td>-123.121050</td>\n",
       "    </tr>\n",
       "    <tr>\n",
       "      <th>2</th>\n",
       "      <td>0093 Chilco &amp; Robson</td>\n",
       "      <td>V6G1E8</td>\n",
       "      <td>49.293257</td>\n",
       "      <td>-123.138563</td>\n",
       "    </tr>\n",
       "    <tr>\n",
       "      <th>3</th>\n",
       "      <td>0035 Coal Harbour Community Centre</td>\n",
       "      <td>V6C3S3</td>\n",
       "      <td>49.290419</td>\n",
       "      <td>-123.125810</td>\n",
       "    </tr>\n",
       "    <tr>\n",
       "      <th>4</th>\n",
       "      <td>0071 14th &amp; Granville</td>\n",
       "      <td>V6J2J4</td>\n",
       "      <td>49.259215</td>\n",
       "      <td>-123.142312</td>\n",
       "    </tr>\n",
       "  </tbody>\n",
       "</table>\n",
       "</div>"
      ],
      "text/plain": [
       "                              address dep_postal_code    dep_lat    dep_long\n",
       "0              0048 Comox & Broughton          V6E4E1  49.285082 -123.134194\n",
       "1                0002 Burrard Station          V6C0A4  49.285871 -123.121050\n",
       "2                0093 Chilco & Robson          V6G1E8  49.293257 -123.138563\n",
       "3  0035 Coal Harbour Community Centre          V6C3S3  49.290419 -123.125810\n",
       "4               0071 14th & Granville          V6J2J4  49.259215 -123.142312"
      ]
     },
     "execution_count": 4,
     "metadata": {},
     "output_type": "execute_result"
    }
   ],
   "source": [
    "geo_data.rename({'lat':'dep_lat','long':'dep_long','postal_code':'dep_postal_code'},axis=1).head()"
   ]
  },
  {
   "cell_type": "code",
   "execution_count": 21,
   "id": "80fc57d0",
   "metadata": {},
   "outputs": [
    {
     "data": {
      "text/plain": [
       "Departure                          0\n",
       "Return                            41\n",
       "Bike                              44\n",
       "Departure station                  0\n",
       "Return station                    56\n",
       "Membership type                   75\n",
       "Covered distance (m)               0\n",
       "Duration (sec.)                    0\n",
       "Departure battery voltage (mV)     0\n",
       "Return battery voltage (mV)        0\n",
       "Departure temperature (C)          0\n",
       "Return temperature (C)             0\n",
       "Stopover duration (sec.)           0\n",
       "Number of stopovers                0\n",
       "address                            0\n",
       "dep_postal_code                    0\n",
       "dep_lat                            0\n",
       "dep_long                           0\n",
       "dtype: int64"
      ]
     },
     "execution_count": 21,
     "metadata": {},
     "output_type": "execute_result"
    }
   ],
   "source": [
    "data_2020.merge(geo_data.rename({'lat':'dep_lat','long':'dep_long','postal_code':'dep_postal_code'},axis=1),left_on='Departure station',right_on='address').isnull().sum()"
   ]
  },
  {
   "cell_type": "code",
   "execution_count": 5,
   "id": "dcf320e7",
   "metadata": {},
   "outputs": [
    {
     "data": {
      "text/plain": [
       "(571648, 20)"
      ]
     },
     "execution_count": 5,
     "metadata": {},
     "output_type": "execute_result"
    }
   ],
   "source": [
    "merge_2020 = data_2020.merge(geo_data.rename({'lat':'dep_lat','long':'dep_long','postal_code':'dep_postal_code'},axis=1),left_on='Departure station',right_on='address').drop('address',axis=1)\n",
    "merge_2020 = merge_2020.merge(geo_data.rename({'lat':'return_lat','long':'return_long','postal_code':'return_postal_code'},axis=1),left_on='Return station',right_on='address').drop('address',axis=1)\n",
    "merge_2020.shape"
   ]
  },
  {
   "cell_type": "code",
   "execution_count": 6,
   "id": "040cfb0d",
   "metadata": {},
   "outputs": [
    {
     "data": {
      "text/html": [
       "<div>\n",
       "<style scoped>\n",
       "    .dataframe tbody tr th:only-of-type {\n",
       "        vertical-align: middle;\n",
       "    }\n",
       "\n",
       "    .dataframe tbody tr th {\n",
       "        vertical-align: top;\n",
       "    }\n",
       "\n",
       "    .dataframe thead th {\n",
       "        text-align: right;\n",
       "    }\n",
       "</style>\n",
       "<table border=\"1\" class=\"dataframe\">\n",
       "  <thead>\n",
       "    <tr style=\"text-align: right;\">\n",
       "      <th></th>\n",
       "      <th>Departure</th>\n",
       "      <th>Return</th>\n",
       "      <th>Bike</th>\n",
       "      <th>Departure station</th>\n",
       "      <th>Return station</th>\n",
       "      <th>Membership type</th>\n",
       "      <th>Covered distance (m)</th>\n",
       "      <th>Duration (sec.)</th>\n",
       "      <th>Departure battery voltage (mV)</th>\n",
       "      <th>Return battery voltage (mV)</th>\n",
       "      <th>Departure temperature (C)</th>\n",
       "      <th>Return temperature (C)</th>\n",
       "      <th>Stopover duration (sec.)</th>\n",
       "      <th>Number of stopovers</th>\n",
       "      <th>dep_postal_code</th>\n",
       "      <th>dep_lat</th>\n",
       "      <th>dep_long</th>\n",
       "      <th>return_postal_code</th>\n",
       "      <th>return_lat</th>\n",
       "      <th>return_long</th>\n",
       "    </tr>\n",
       "  </thead>\n",
       "  <tbody>\n",
       "    <tr>\n",
       "      <th>0</th>\n",
       "      <td>2020-02-01 0:00</td>\n",
       "      <td>2020-02-01 0:00</td>\n",
       "      <td>522.0</td>\n",
       "      <td>0099 Vancouver Art Gallery - North Plaza</td>\n",
       "      <td>0196 Drake &amp; Hornby</td>\n",
       "      <td>365 Plus</td>\n",
       "      <td>994.0</td>\n",
       "      <td>323</td>\n",
       "      <td>3881</td>\n",
       "      <td>4001</td>\n",
       "      <td>12</td>\n",
       "      <td>13</td>\n",
       "      <td>0</td>\n",
       "      <td>0</td>\n",
       "      <td>V6Z2H7</td>\n",
       "      <td>49.283227</td>\n",
       "      <td>-123.120523</td>\n",
       "      <td>V6Z0C5</td>\n",
       "      <td>49.277213</td>\n",
       "      <td>-123.129625</td>\n",
       "    </tr>\n",
       "    <tr>\n",
       "      <th>1</th>\n",
       "      <td>2020-01-31 18:00</td>\n",
       "      <td>2020-01-31 18:00</td>\n",
       "      <td>1027.0</td>\n",
       "      <td>0099 Vancouver Art Gallery - North Plaza</td>\n",
       "      <td>0196 Drake &amp; Hornby</td>\n",
       "      <td>365 Day Founding Standard</td>\n",
       "      <td>982.0</td>\n",
       "      <td>338</td>\n",
       "      <td>3930</td>\n",
       "      <td>4048</td>\n",
       "      <td>13</td>\n",
       "      <td>14</td>\n",
       "      <td>0</td>\n",
       "      <td>0</td>\n",
       "      <td>V6Z2H7</td>\n",
       "      <td>49.283227</td>\n",
       "      <td>-123.120523</td>\n",
       "      <td>V6Z0C5</td>\n",
       "      <td>49.277213</td>\n",
       "      <td>-123.129625</td>\n",
       "    </tr>\n",
       "    <tr>\n",
       "      <th>2</th>\n",
       "      <td>2020-01-31 0:00</td>\n",
       "      <td>2020-01-31 0:00</td>\n",
       "      <td>1885.0</td>\n",
       "      <td>0099 Vancouver Art Gallery - North Plaza</td>\n",
       "      <td>0196 Drake &amp; Hornby</td>\n",
       "      <td>365 Plus</td>\n",
       "      <td>988.0</td>\n",
       "      <td>307</td>\n",
       "      <td>3942</td>\n",
       "      <td>4064</td>\n",
       "      <td>8</td>\n",
       "      <td>9</td>\n",
       "      <td>0</td>\n",
       "      <td>0</td>\n",
       "      <td>V6Z2H7</td>\n",
       "      <td>49.283227</td>\n",
       "      <td>-123.120523</td>\n",
       "      <td>V6Z0C5</td>\n",
       "      <td>49.277213</td>\n",
       "      <td>-123.129625</td>\n",
       "    </tr>\n",
       "    <tr>\n",
       "      <th>3</th>\n",
       "      <td>2020-01-30 17:00</td>\n",
       "      <td>2020-01-30 17:00</td>\n",
       "      <td>491.0</td>\n",
       "      <td>0099 Vancouver Art Gallery - North Plaza</td>\n",
       "      <td>0196 Drake &amp; Hornby</td>\n",
       "      <td>365 Corporate Standard</td>\n",
       "      <td>1051.0</td>\n",
       "      <td>332</td>\n",
       "      <td>4037</td>\n",
       "      <td>4121</td>\n",
       "      <td>11</td>\n",
       "      <td>13</td>\n",
       "      <td>0</td>\n",
       "      <td>0</td>\n",
       "      <td>V6Z2H7</td>\n",
       "      <td>49.283227</td>\n",
       "      <td>-123.120523</td>\n",
       "      <td>V6Z0C5</td>\n",
       "      <td>49.277213</td>\n",
       "      <td>-123.129625</td>\n",
       "    </tr>\n",
       "    <tr>\n",
       "      <th>4</th>\n",
       "      <td>2020-01-29 0:00</td>\n",
       "      <td>2020-01-29 0:00</td>\n",
       "      <td>1076.0</td>\n",
       "      <td>0099 Vancouver Art Gallery - North Plaza</td>\n",
       "      <td>0196 Drake &amp; Hornby</td>\n",
       "      <td>365 Plus</td>\n",
       "      <td>990.0</td>\n",
       "      <td>329</td>\n",
       "      <td>3653</td>\n",
       "      <td>3803</td>\n",
       "      <td>9</td>\n",
       "      <td>10</td>\n",
       "      <td>0</td>\n",
       "      <td>0</td>\n",
       "      <td>V6Z2H7</td>\n",
       "      <td>49.283227</td>\n",
       "      <td>-123.120523</td>\n",
       "      <td>V6Z0C5</td>\n",
       "      <td>49.277213</td>\n",
       "      <td>-123.129625</td>\n",
       "    </tr>\n",
       "  </tbody>\n",
       "</table>\n",
       "</div>"
      ],
      "text/plain": [
       "          Departure            Return    Bike  \\\n",
       "0   2020-02-01 0:00   2020-02-01 0:00   522.0   \n",
       "1  2020-01-31 18:00  2020-01-31 18:00  1027.0   \n",
       "2   2020-01-31 0:00   2020-01-31 0:00  1885.0   \n",
       "3  2020-01-30 17:00  2020-01-30 17:00   491.0   \n",
       "4   2020-01-29 0:00   2020-01-29 0:00  1076.0   \n",
       "\n",
       "                          Departure station       Return station  \\\n",
       "0  0099 Vancouver Art Gallery - North Plaza  0196 Drake & Hornby   \n",
       "1  0099 Vancouver Art Gallery - North Plaza  0196 Drake & Hornby   \n",
       "2  0099 Vancouver Art Gallery - North Plaza  0196 Drake & Hornby   \n",
       "3  0099 Vancouver Art Gallery - North Plaza  0196 Drake & Hornby   \n",
       "4  0099 Vancouver Art Gallery - North Plaza  0196 Drake & Hornby   \n",
       "\n",
       "             Membership type  Covered distance (m)  Duration (sec.)  \\\n",
       "0                   365 Plus                 994.0              323   \n",
       "1  365 Day Founding Standard                 982.0              338   \n",
       "2                   365 Plus                 988.0              307   \n",
       "3     365 Corporate Standard                1051.0              332   \n",
       "4                   365 Plus                 990.0              329   \n",
       "\n",
       "   Departure battery voltage (mV)  Return battery voltage (mV)  \\\n",
       "0                            3881                         4001   \n",
       "1                            3930                         4048   \n",
       "2                            3942                         4064   \n",
       "3                            4037                         4121   \n",
       "4                            3653                         3803   \n",
       "\n",
       "   Departure temperature (C)  Return temperature (C)  \\\n",
       "0                         12                      13   \n",
       "1                         13                      14   \n",
       "2                          8                       9   \n",
       "3                         11                      13   \n",
       "4                          9                      10   \n",
       "\n",
       "   Stopover duration (sec.)  Number of stopovers dep_postal_code    dep_lat  \\\n",
       "0                         0                    0          V6Z2H7  49.283227   \n",
       "1                         0                    0          V6Z2H7  49.283227   \n",
       "2                         0                    0          V6Z2H7  49.283227   \n",
       "3                         0                    0          V6Z2H7  49.283227   \n",
       "4                         0                    0          V6Z2H7  49.283227   \n",
       "\n",
       "     dep_long return_postal_code  return_lat  return_long  \n",
       "0 -123.120523             V6Z0C5   49.277213  -123.129625  \n",
       "1 -123.120523             V6Z0C5   49.277213  -123.129625  \n",
       "2 -123.120523             V6Z0C5   49.277213  -123.129625  \n",
       "3 -123.120523             V6Z0C5   49.277213  -123.129625  \n",
       "4 -123.120523             V6Z0C5   49.277213  -123.129625  "
      ]
     },
     "execution_count": 6,
     "metadata": {},
     "output_type": "execute_result"
    }
   ],
   "source": [
    "merge_2020.head()"
   ]
  },
  {
   "cell_type": "code",
   "execution_count": 20,
   "id": "2931abdd",
   "metadata": {},
   "outputs": [
    {
     "data": {
      "text/plain": [
       "Departure                          8435\n",
       "Return                             8440\n",
       "Bike                               2053\n",
       "Departure station                   221\n",
       "Return station                      221\n",
       "Membership type                      22\n",
       "Covered distance (m)              10040\n",
       "Duration (sec.)                   13180\n",
       "Departure battery voltage (mV)      772\n",
       "Return battery voltage (mV)         798\n",
       "Departure temperature (C)            57\n",
       "Return temperature (C)               57\n",
       "Stopover duration (sec.)           3631\n",
       "Number of stopovers                  14\n",
       "dep_postal_code                     191\n",
       "dep_lat                             209\n",
       "dep_long                            209\n",
       "return_postal_code                  191\n",
       "return_lat                          209\n",
       "return_long                         209\n",
       "dtype: int64"
      ]
     },
     "execution_count": 20,
     "metadata": {},
     "output_type": "execute_result"
    }
   ],
   "source": [
    "merge_2020.nunique()"
   ]
  },
  {
   "cell_type": "code",
   "execution_count": 21,
   "id": "a1eface5",
   "metadata": {},
   "outputs": [
    {
     "data": {
      "text/plain": [
       "Departure                          0\n",
       "Return                             0\n",
       "Bike                              43\n",
       "Departure station                  0\n",
       "Return station                     0\n",
       "Membership type                   33\n",
       "Covered distance (m)               0\n",
       "Duration (sec.)                    0\n",
       "Departure battery voltage (mV)     0\n",
       "Return battery voltage (mV)        0\n",
       "Departure temperature (C)          0\n",
       "Return temperature (C)             0\n",
       "Stopover duration (sec.)           0\n",
       "Number of stopovers                0\n",
       "dep_postal_code                    0\n",
       "dep_lat                            0\n",
       "dep_long                           0\n",
       "return_postal_code                 0\n",
       "return_lat                         0\n",
       "return_long                        0\n",
       "dtype: int64"
      ]
     },
     "execution_count": 21,
     "metadata": {},
     "output_type": "execute_result"
    }
   ],
   "source": [
    "merge_2020.isnull().sum()"
   ]
  },
  {
   "cell_type": "code",
   "execution_count": 7,
   "id": "f65f14b2",
   "metadata": {},
   "outputs": [
    {
     "data": {
      "text/plain": [
       "(571572, 20)"
      ]
     },
     "execution_count": 7,
     "metadata": {},
     "output_type": "execute_result"
    }
   ],
   "source": [
    "# drop Na\n",
    "merge_2020 = merge_2020.dropna()\n",
    "merge_2020.shape"
   ]
  },
  {
   "cell_type": "code",
   "execution_count": 8,
   "id": "177dc7e7",
   "metadata": {},
   "outputs": [
    {
     "data": {
      "text/plain": [
       "(363749, 20)"
      ]
     },
     "execution_count": 8,
     "metadata": {},
     "output_type": "execute_result"
    }
   ],
   "source": [
    "v6 = merge_2020[merge_2020['return_postal_code'].str.startswith('V6')]\n",
    "v6 = v6[v6['dep_postal_code'].str.startswith('V6')]\n",
    "v6.shape"
   ]
  },
  {
   "cell_type": "code",
   "execution_count": 11,
   "id": "be103c98",
   "metadata": {},
   "outputs": [
    {
     "data": {
      "text/plain": [
       "Departure                          8216\n",
       "Return                             8233\n",
       "Bike                               2052\n",
       "Departure station                   128\n",
       "Return station                      128\n",
       "Membership type                      22\n",
       "Covered distance (m)               9470\n",
       "Duration (sec.)                   11464\n",
       "Departure battery voltage (mV)      743\n",
       "Return battery voltage (mV)         776\n",
       "Departure temperature (C)            54\n",
       "Return temperature (C)               54\n",
       "Stopover duration (sec.)           3014\n",
       "Number of stopovers                  14\n",
       "dep_postal_code                     106\n",
       "dep_lat                             122\n",
       "dep_long                            122\n",
       "return_postal_code                  106\n",
       "return_lat                          122\n",
       "return_long                         122\n",
       "dtype: int64"
      ]
     },
     "execution_count": 11,
     "metadata": {},
     "output_type": "execute_result"
    }
   ],
   "source": [
    "v6.nunique()"
   ]
  },
  {
   "cell_type": "code",
   "execution_count": 9,
   "id": "126d033f",
   "metadata": {},
   "outputs": [
    {
     "data": {
      "text/plain": [
       "(101738, 20)"
      ]
     },
     "execution_count": 9,
     "metadata": {},
     "output_type": "execute_result"
    }
   ],
   "source": [
    "v5 = merge_2020.loc[(merge_2020['return_postal_code'].str.startswith('V5')) | (merge_2020['return_postal_code'].str.startswith('V6'))]\n",
    "v5 = v5[v5['dep_postal_code'].str.startswith('V5')]\n",
    "v5.shape"
   ]
  },
  {
   "cell_type": "code",
   "execution_count": 10,
   "id": "01231388",
   "metadata": {},
   "outputs": [
    {
     "data": {
      "text/plain": [
       "(465487, 20)"
      ]
     },
     "execution_count": 10,
     "metadata": {},
     "output_type": "execute_result"
    }
   ],
   "source": [
    "v5v6 = v5.append(v6)\n",
    "v5v6.shape"
   ]
  },
  {
   "cell_type": "code",
   "execution_count": 39,
   "id": "4ce6d9c0",
   "metadata": {},
   "outputs": [
    {
     "data": {
      "text/plain": [
       "Departure                          8279\n",
       "Return                             8304\n",
       "Bike                               2052\n",
       "Departure station                   203\n",
       "Return station                      203\n",
       "Membership type                      22\n",
       "Covered distance (m)               9699\n",
       "Duration (sec.)                   12037\n",
       "Departure battery voltage (mV)      754\n",
       "Return battery voltage (mV)         790\n",
       "Departure temperature (C)            55\n",
       "Return temperature (C)               55\n",
       "Stopover duration (sec.)           3278\n",
       "Number of stopovers                  14\n",
       "dep_postal_code                     173\n",
       "dep_lat                             191\n",
       "dep_long                            191\n",
       "return_postal_code                  173\n",
       "return_lat                          191\n",
       "return_long                         191\n",
       "dtype: int64"
      ]
     },
     "execution_count": 39,
     "metadata": {},
     "output_type": "execute_result"
    }
   ],
   "source": [
    "v5v6.nunique()"
   ]
  },
  {
   "cell_type": "code",
   "execution_count": 80,
   "id": "80fc53ad",
   "metadata": {},
   "outputs": [
    {
     "data": {
      "image/png": "[encoded data removed]",
      "text/plain": [
       "<Figure size 432x288 with 1 Axes>"
      ]
     },
     "metadata": {
      "needs_background": "light"
     },
     "output_type": "display_data"
    }
   ],
   "source": [
    "# return station and departure station are the same basically\n",
    "plt.scatter(v5v6['return_long'], v5v6['return_lat'], c='g')\n",
    "#plt.scatter(v5v6['dep_long'], v5v6['dep_lat'], c='g',)\n",
    "plt.xlabel(\"LONG\")\n",
    "plt.ylabel(\"LAT\")\n",
    "plt.title('The Geo Info of Bike Station')\n",
    "plt.show()"
   ]
  },
  {
   "cell_type": "code",
   "execution_count": 11,
   "id": "3a96c00f",
   "metadata": {},
   "outputs": [],
   "source": [
    "from sklearn.cluster import KMeans\n",
    "from sklearn.preprocessing import StandardScaler"
   ]
  },
  {
   "cell_type": "code",
   "execution_count": 12,
   "id": "012b4106",
   "metadata": {},
   "outputs": [
    {
     "data": {
      "text/plain": [
       "(465487, 21)"
      ]
     },
     "execution_count": 12,
     "metadata": {},
     "output_type": "execute_result"
    }
   ],
   "source": [
    "v5v6['features'] = v5v6['return_long'].apply(lambda x : [x]) + v5v6['return_lat'].apply(lambda x : [x])\n",
    "v5v6.shape"
   ]
  },
  {
   "cell_type": "code",
   "execution_count": 14,
   "id": "7f5ebb57",
   "metadata": {},
   "outputs": [
    {
     "data": {
      "text/plain": [
       "367       [-123.1296251, 49.277213]\n",
       "368       [-123.1296251, 49.277213]\n",
       "735       [-123.1296251, 49.277213]\n",
       "736       [-123.1296251, 49.277213]\n",
       "1387      [-123.1296251, 49.277213]\n",
       "                    ...            \n",
       "571306     [-123.084746, 49.280852]\n",
       "571307     [-123.084746, 49.280852]\n",
       "571308     [-123.084746, 49.280852]\n",
       "571310     [-123.084746, 49.280852]\n",
       "571311     [-123.084746, 49.280852]\n",
       "Name: features, Length: 465487, dtype: object"
      ]
     },
     "execution_count": 14,
     "metadata": {},
     "output_type": "execute_result"
    }
   ],
   "source": [
    "v5v6['features']"
   ]
  },
  {
   "cell_type": "code",
   "execution_count": 13,
   "id": "628e4b6d",
   "metadata": {},
   "outputs": [],
   "source": [
    "scaler = StandardScaler()\n",
    "scaled_features = scaler.fit_transform(list(v5v6.features))"
   ]
  },
  {
   "cell_type": "code",
   "execution_count": 16,
   "id": "5c66bbb8",
   "metadata": {},
   "outputs": [],
   "source": [
    "X = list(v5v6['features'])\n",
    "kmeans = KMeans(n_clusters=3).fit(scaled_features)"
   ]
  },
  {
   "cell_type": "code",
   "execution_count": 17,
   "id": "a1f1c151",
   "metadata": {},
   "outputs": [
    {
     "data": {
      "text/plain": [
       "array([0, 0, 0, ..., 2, 2, 2], dtype=int32)"
      ]
     },
     "execution_count": 17,
     "metadata": {},
     "output_type": "execute_result"
    }
   ],
   "source": [
    "kmeans.labels_"
   ]
  },
  {
   "cell_type": "code",
   "execution_count": 82,
   "id": "43b15713",
   "metadata": {},
   "outputs": [],
   "source": [
    "df_kmeans_v5v6 = v5v6.copy()\n",
    "df_kmeans_v5v6['label'] = kmeans.labels_"
   ]
  },
  {
   "cell_type": "code",
   "execution_count": 83,
   "id": "3c199c80",
   "metadata": {},
   "outputs": [
    {
     "data": {
      "text/plain": [
       "1    190180\n",
       "2    166224\n",
       "0    109083\n",
       "Name: label, dtype: int64"
      ]
     },
     "execution_count": 83,
     "metadata": {},
     "output_type": "execute_result"
    }
   ],
   "source": [
    "df_kmeans_v5v6['label'].value_counts()"
   ]
  },
  {
   "cell_type": "code",
   "execution_count": 90,
   "id": "bf37f1e5",
   "metadata": {},
   "outputs": [],
   "source": [
    "df_kmeans_v5v6[['return_lat','return_long','Return station','label']].drop_duplicates().to_csv('station_clustering_2020.csv')"
   ]
  },
  {
   "cell_type": "code",
   "execution_count": 84,
   "id": "eaff6fc5",
   "metadata": {},
   "outputs": [
    {
     "data": {
      "image/png": "[encoded data removed]",
      "text/plain": [
       "<Figure size 432x288 with 1 Axes>"
      ]
     },
     "metadata": {
      "needs_background": "light"
     },
     "output_type": "display_data"
    }
   ],
   "source": [
    "sns.scatterplot(x='return_long', y='return_lat', hue='label', data=df_kmeans_v5v6)\n",
    "plt.xlabel(\"LONG\")\n",
    "plt.ylabel(\"LAT\")\n",
    "plt.title('3 Clusters with the Geo Info of Bike Station')\n",
    "plt.show()"
   ]
  },
  {
   "cell_type": "code",
   "execution_count": 57,
   "id": "403d2325",
   "metadata": {},
   "outputs": [
    {
     "data": {
      "text/plain": [
       "4    106760\n",
       "0    100514\n",
       "2     89487\n",
       "3     82711\n",
       "1     34073\n",
       "Name: label, dtype: int64"
      ]
     },
     "execution_count": 57,
     "metadata": {},
     "output_type": "execute_result"
    }
   ],
   "source": [
    "X = list(v5v6['features'])\n",
    "kmeans = KMeans(n_clusters=5).fit(scaled_features)\n",
    "df_kmeans_v5v6 = v5v6.copy()\n",
    "df_kmeans_v5v6['label'] = kmeans.labels_\n",
    "df_kmeans_v5v6['label'].value_counts()"
   ]
  },
  {
   "cell_type": "code",
   "execution_count": 58,
   "id": "cb018c80",
   "metadata": {},
   "outputs": [
    {
     "data": {
      "image/png": "[encoded data removed]",
      "text/plain": [
       "<Figure size 432x288 with 1 Axes>"
      ]
     },
     "metadata": {
      "needs_background": "light"
     },
     "output_type": "display_data"
    }
   ],
   "source": [
    "sns.scatterplot(x='return_long', y='return_lat', hue='label', data=df_kmeans_v5v6, palette=['green','orange','brown','dodgerblue','red'])\n",
    "plt.xlabel(\"LONG\")\n",
    "plt.ylabel(\"LAT\")\n",
    "plt.title('5 Clusters with the Geo Info of Bike Station')\n",
    "plt.show()"
   ]
  },
  {
   "cell_type": "code",
   "execution_count": 59,
   "id": "f889b698",
   "metadata": {},
   "outputs": [
    {
     "data": {
      "text/plain": [
       "0    81855\n",
       "6    78445\n",
       "1    72792\n",
       "5    55410\n",
       "2    50657\n",
       "7    27187\n",
       "3    25045\n",
       "4    22154\n",
       "Name: label, dtype: int64"
      ]
     },
     "execution_count": 59,
     "metadata": {},
     "output_type": "execute_result"
    }
   ],
   "source": [
    "X = list(v5v6['features'])\n",
    "kmeans = KMeans(n_clusters=8).fit(scaled_features)\n",
    "df_kmeans_v5v6 = v5v6.copy()\n",
    "df_kmeans_v5v6['label'] = kmeans.labels_\n",
    "df_kmeans_v5v6['label'].value_counts()"
   ]
  },
  {
   "cell_type": "code",
   "execution_count": 60,
   "id": "92604f01",
   "metadata": {},
   "outputs": [
    {
     "data": {
      "image/png": "[encoded data removed]",
      "text/plain": [
       "<Figure size 432x288 with 1 Axes>"
      ]
     },
     "metadata": {
      "needs_background": "light"
     },
     "output_type": "display_data"
    }
   ],
   "source": [
    "sns.scatterplot(x='return_long', y='return_lat', hue='label', data=df_kmeans_v5v6, \n",
    "                palette='RdYlBu')\n",
    "plt.xlabel(\"LONG\")\n",
    "plt.ylabel(\"LAT\")\n",
    "plt.title('8 Clusters with the Geo Info of Bike Station')\n",
    "plt.show()"
   ]
  },
  {
   "cell_type": "code",
   "execution_count": null,
   "id": "e153ec76",
   "metadata": {},
   "outputs": [],
   "source": []
  },
  {
   "cell_type": "markdown",
   "id": "b30d8337",
   "metadata": {},
   "source": [
    "## Choosing the appropriate number of K"
   ]
  },
  {
   "cell_type": "code",
   "execution_count": null,
   "id": "ecb84e41",
   "metadata": {},
   "outputs": [],
   "source": [
    "kmeans_kwargs = {\n",
    "\"init\": \"random\",\n",
    "\"n_init\": 10,\n",
    "\"max_iter\": 300,\n",
    "\"random_state\": 42,\n",
    "}\n",
    "\n",
    "# A list holds the SSE values for each k\n",
    "sse = []\n",
    "for k in range(1, 11):\n",
    "kmeans = KMeans(n_clusters=k, **kmeans_kwargs)\n",
    "kmeans.fit(scaled_features)\n",
    "sse.append(kmeans.inertia_)"
   ]
  },
  {
   "cell_type": "markdown",
   "id": "a1511480",
   "metadata": {},
   "source": [
    "## visualize the graph"
   ]
  },
  {
   "cell_type": "code",
   "execution_count": 30,
   "id": "33c34dae",
   "metadata": {},
   "outputs": [],
   "source": [
    "import networkx as nx\n",
    "import matplotlib.pyplot as plt "
   ]
  },
  {
   "cell_type": "code",
   "execution_count": 31,
   "id": "928b3e2e",
   "metadata": {},
   "outputs": [],
   "source": [
    "stations=nx.Graph()"
   ]
  },
  {
   "cell_type": "code",
   "execution_count": 179,
   "id": "0b53a22e",
   "metadata": {},
   "outputs": [],
   "source": [
    "df_kmeans_v5v6['return_pos'] = df_kmeans_v5v6['return_long']+df_kmeans_v5v6['return_lat']\n",
    "df_kmeans_v5v6['dep_pos'] = df_kmeans_v5v6['dep_long']+df_kmeans_v5v6['dep_lat']"
   ]
  },
  {
   "cell_type": "code",
   "execution_count": 181,
   "id": "5b231da6",
   "metadata": {},
   "outputs": [
    {
     "data": {
      "text/plain": [
       "return_pos\n",
       "-73.895558    1205\n",
       "-73.893667    1033\n",
       "-73.891131     428\n",
       "-73.889104    1969\n",
       "-73.889078     676\n",
       "              ... \n",
       "-73.789736     354\n",
       "-73.787207     267\n",
       "-73.785662     456\n",
       "-73.781278    1076\n",
       "-73.775308     639\n",
       "Name: dep_pos, Length: 191, dtype: int64"
      ]
     },
     "execution_count": 181,
     "metadata": {},
     "output_type": "execute_result"
    }
   ],
   "source": [
    "df_kmeans_v5v6.groupby('return_pos')['dep_pos'].count()"
   ]
  },
  {
   "cell_type": "code",
   "execution_count": null,
   "id": "ddb48610",
   "metadata": {},
   "outputs": [],
   "source": []
  },
  {
   "cell_type": "code",
   "execution_count": 180,
   "id": "e22b595c",
   "metadata": {},
   "outputs": [
    {
     "data": {
      "text/plain": [
       "return_lat            191\n",
       "return_long           191\n",
       "return_postal_code    173\n",
       "label                   3\n",
       "return_pos            191\n",
       "dep_pos               191\n",
       "dtype: int64"
      ]
     },
     "execution_count": 180,
     "metadata": {},
     "output_type": "execute_result"
    }
   ],
   "source": [
    "node = df_kmeans_v5v6[['return_lat','return_long','return_postal_code','label','return_pos','dep_pos']].drop_duplicates()\n",
    "node.nunique()"
   ]
  },
  {
   "cell_type": "code",
   "execution_count": null,
   "id": "2d229da3",
   "metadata": {},
   "outputs": [],
   "source": [
    "node.groupby('return_pos')['']"
   ]
  },
  {
   "cell_type": "code",
   "execution_count": null,
   "id": "e95ac269",
   "metadata": {},
   "outputs": [],
   "source": []
  },
  {
   "cell_type": "code",
   "execution_count": null,
   "id": "af757ffc",
   "metadata": {},
   "outputs": [],
   "source": []
  },
  {
   "cell_type": "code",
   "execution_count": 136,
   "id": "8e4d55d0",
   "metadata": {},
   "outputs": [],
   "source": [
    "node['lat_long'] = node['return_lat'].apply(lambda x :[x]) + node['return_long'].apply(lambda x: [x])"
   ]
  },
  {
   "cell_type": "code",
   "execution_count": 137,
   "id": "c78bb3ec",
   "metadata": {},
   "outputs": [],
   "source": [
    "c1 = node[node.label==0]\n",
    "c2 = node[node.label==1]\n",
    "c3 = node[node.label==2]"
   ]
  },
  {
   "cell_type": "code",
   "execution_count": null,
   "id": "554b55ba",
   "metadata": {},
   "outputs": [],
   "source": [
    "nlist1 = []\n",
    "for i in range(len(c1)):\n",
    "    nlist1.append(i)\n",
    "    stations.add_node(nlist1[i])"
   ]
  },
  {
   "cell_type": "code",
   "execution_count": 140,
   "id": "8d4654c8",
   "metadata": {},
   "outputs": [],
   "source": [
    "pos1 = dict(zip(nlist1,c1['lat_long']))\n",
    "pos2 = dict(zip(c2['return_long'],c2['return_lat']))\n",
    "pos3 = dict(zip(c3['return_long'],c3['return_lat']))"
   ]
  },
  {
   "cell_type": "code",
   "execution_count": 142,
   "id": "a0b38067",
   "metadata": {},
   "outputs": [],
   "source": [
    "nlist1 = []\n",
    "for i in range(len(c1)):\n",
    "    nlist1.append(i)\n",
    "    stations.add_node(nlist1[i])"
   ]
  },
  {
   "cell_type": "code",
   "execution_count": 159,
   "id": "6874841d",
   "metadata": {},
   "outputs": [
    {
     "name": "stderr",
     "output_type": "stream",
     "text": [
      "/var/folders/2n/082nnsp112q6r95ps5ymmcr40000gn/T/ipykernel_62981/649841845.py:3: UserWarning: FixedFormatter should only be used together with FixedLocator\n",
      "  ax.set_xticklabels([i+100 for i in range(1, 7)])\n"
     ]
    },
    {
     "data": {
      "image/png": "[encoded data removed]",
      "text/plain": [
       "<Figure size 432x288 with 1 Axes>"
      ]
     },
     "metadata": {},
     "output_type": "display_data"
    }
   ],
   "source": [
    "fig, ax = plt.subplots()\n",
    "ax.set_title('stations')\n",
    "ax.set_xticklabels([i+100 for i in range(1, 7)])\n",
    "nx.draw_networkx_nodes(stations,pos1,nlist1,node_size=20,node_color='r',ax=ax)\n",
    "#nx.draw_networkx_nodes(roads,npos,nnlist,node_size=20,node_color='g')\n",
    "rlabels=dict(zip(nlist1,nlist1))\n",
    "#nx.draw_networkx_labels(stations,pos1,rlabels,font_size=20)\n",
    "plt.show()"
   ]
  },
  {
   "cell_type": "code",
   "execution_count": null,
   "id": "60851f0a",
   "metadata": {},
   "outputs": [],
   "source": []
  },
  {
   "cell_type": "code",
   "execution_count": 40,
   "id": "0621f5a3",
   "metadata": {},
   "outputs": [
    {
     "data": {
      "text/plain": [
       "return_lat            191\n",
       "return_long           191\n",
       "return_postal_code    173\n",
       "label                   3\n",
       "dtype: int64"
      ]
     },
     "execution_count": 40,
     "metadata": {},
     "output_type": "execute_result"
    }
   ],
   "source": [
    "node = df_kmeans_v5v6[['return_lat','return_long','return_postal_code','label']].drop_duplicates()\n",
    "node.nunique()"
   ]
  },
  {
   "cell_type": "code",
   "execution_count": 38,
   "id": "ba570167",
   "metadata": {},
   "outputs": [
    {
     "data": {
      "text/plain": [
       "(191, 4)"
      ]
     },
     "execution_count": 38,
     "metadata": {},
     "output_type": "execute_result"
    }
   ],
   "source": [
    "node.drop_duplicates().shape"
   ]
  },
  {
   "cell_type": "code",
   "execution_count": 37,
   "id": "84bcf236",
   "metadata": {},
   "outputs": [
    {
     "data": {
      "text/html": [
       "<div>\n",
       "<style scoped>\n",
       "    .dataframe tbody tr th:only-of-type {\n",
       "        vertical-align: middle;\n",
       "    }\n",
       "\n",
       "    .dataframe tbody tr th {\n",
       "        vertical-align: top;\n",
       "    }\n",
       "\n",
       "    .dataframe thead th {\n",
       "        text-align: right;\n",
       "    }\n",
       "</style>\n",
       "<table border=\"1\" class=\"dataframe\">\n",
       "  <thead>\n",
       "    <tr style=\"text-align: right;\">\n",
       "      <th></th>\n",
       "      <th></th>\n",
       "      <th>return_postal_code</th>\n",
       "      <th>label</th>\n",
       "    </tr>\n",
       "    <tr>\n",
       "      <th>return_lat</th>\n",
       "      <th>return_long</th>\n",
       "      <th></th>\n",
       "      <th></th>\n",
       "    </tr>\n",
       "  </thead>\n",
       "  <tbody>\n",
       "    <tr>\n",
       "      <th>49.254667</th>\n",
       "      <th>-123.101389</th>\n",
       "      <td>668</td>\n",
       "      <td>668</td>\n",
       "    </tr>\n",
       "    <tr>\n",
       "      <th>49.256496</th>\n",
       "      <th>-123.075426</th>\n",
       "      <td>757</td>\n",
       "      <td>757</td>\n",
       "    </tr>\n",
       "    <tr>\n",
       "      <th>49.256679</th>\n",
       "      <th>-123.096607</th>\n",
       "      <td>339</td>\n",
       "      <td>339</td>\n",
       "    </tr>\n",
       "    <tr>\n",
       "      <th>49.256825</th>\n",
       "      <th>-123.105234</th>\n",
       "      <td>709</td>\n",
       "      <td>709</td>\n",
       "    </tr>\n",
       "    <tr>\n",
       "      <th>49.256857</th>\n",
       "      <th>-123.065646</th>\n",
       "      <td>1199</td>\n",
       "      <td>1199</td>\n",
       "    </tr>\n",
       "    <tr>\n",
       "      <th>...</th>\n",
       "      <th>...</th>\n",
       "      <td>...</td>\n",
       "      <td>...</td>\n",
       "    </tr>\n",
       "    <tr>\n",
       "      <th>49.295340</th>\n",
       "      <th>-123.150433</th>\n",
       "      <td>9649</td>\n",
       "      <td>9649</td>\n",
       "    </tr>\n",
       "    <tr>\n",
       "      <th>49.297769</th>\n",
       "      <th>-123.131478</th>\n",
       "      <td>9608</td>\n",
       "      <td>9608</td>\n",
       "    </tr>\n",
       "    <tr>\n",
       "      <th>49.298657</th>\n",
       "      <th>-123.121176</th>\n",
       "      <td>8069</td>\n",
       "      <td>8069</td>\n",
       "    </tr>\n",
       "    <tr>\n",
       "      <th>49.299292</th>\n",
       "      <th>-123.130281</th>\n",
       "      <td>1974</td>\n",
       "      <td>1974</td>\n",
       "    </tr>\n",
       "    <tr>\n",
       "      <th>49.301994</th>\n",
       "      <th>-123.156363</th>\n",
       "      <td>5573</td>\n",
       "      <td>5573</td>\n",
       "    </tr>\n",
       "  </tbody>\n",
       "</table>\n",
       "<p>191 rows × 2 columns</p>\n",
       "</div>"
      ],
      "text/plain": [
       "                        return_postal_code  label\n",
       "return_lat return_long                           \n",
       "49.254667  -123.101389                 668    668\n",
       "49.256496  -123.075426                 757    757\n",
       "49.256679  -123.096607                 339    339\n",
       "49.256825  -123.105234                 709    709\n",
       "49.256857  -123.065646                1199   1199\n",
       "...                                    ...    ...\n",
       "49.295340  -123.150433                9649   9649\n",
       "49.297769  -123.131478                9608   9608\n",
       "49.298657  -123.121176                8069   8069\n",
       "49.299292  -123.130281                1974   1974\n",
       "49.301994  -123.156363                5573   5573\n",
       "\n",
       "[191 rows x 2 columns]"
      ]
     },
     "execution_count": 37,
     "metadata": {},
     "output_type": "execute_result"
    }
   ],
   "source": [
    "node.groupby(['return_lat','return_long']).count()"
   ]
  },
  {
   "cell_type": "code",
   "execution_count": 168,
   "id": "ef44ffd4",
   "metadata": {},
   "outputs": [
    {
     "data": {
      "text/plain": [
       "(203,)"
      ]
     },
     "execution_count": 168,
     "metadata": {},
     "output_type": "execute_result"
    }
   ],
   "source": [
    "v5v6.groupby(['Return station'])['Departure station'].count().sort_values().shape"
   ]
  },
  {
   "cell_type": "code",
   "execution_count": 173,
   "id": "3e57f0c9",
   "metadata": {},
   "outputs": [
    {
     "data": {
      "text/html": [
       "<div>\n",
       "<style scoped>\n",
       "    .dataframe tbody tr th:only-of-type {\n",
       "        vertical-align: middle;\n",
       "    }\n",
       "\n",
       "    .dataframe tbody tr th {\n",
       "        vertical-align: top;\n",
       "    }\n",
       "\n",
       "    .dataframe thead th {\n",
       "        text-align: right;\n",
       "    }\n",
       "</style>\n",
       "<table border=\"1\" class=\"dataframe\">\n",
       "  <thead>\n",
       "    <tr style=\"text-align: right;\">\n",
       "      <th></th>\n",
       "      <th>Departure</th>\n",
       "      <th>Return</th>\n",
       "      <th>Bike</th>\n",
       "      <th>Departure station</th>\n",
       "      <th>Return station</th>\n",
       "      <th>Membership type</th>\n",
       "      <th>Covered distance (m)</th>\n",
       "      <th>Duration (sec.)</th>\n",
       "      <th>Departure battery voltage (mV)</th>\n",
       "      <th>Return battery voltage (mV)</th>\n",
       "      <th>...</th>\n",
       "      <th>Return temperature (C)</th>\n",
       "      <th>Stopover duration (sec.)</th>\n",
       "      <th>Number of stopovers</th>\n",
       "      <th>dep_postal_code</th>\n",
       "      <th>dep_lat</th>\n",
       "      <th>dep_long</th>\n",
       "      <th>return_postal_code</th>\n",
       "      <th>return_lat</th>\n",
       "      <th>return_long</th>\n",
       "      <th>features</th>\n",
       "    </tr>\n",
       "  </thead>\n",
       "  <tbody>\n",
       "    <tr>\n",
       "      <th>367</th>\n",
       "      <td>2020-01-27 21:00</td>\n",
       "      <td>2020-01-27 22:00</td>\n",
       "      <td>1149.0</td>\n",
       "      <td>0074 10th &amp; Main</td>\n",
       "      <td>0196 Drake &amp; Hornby</td>\n",
       "      <td>365 Day Pass Plus SALE</td>\n",
       "      <td>4318.0</td>\n",
       "      <td>1721</td>\n",
       "      <td>3761</td>\n",
       "      <td>3918</td>\n",
       "      <td>...</td>\n",
       "      <td>6</td>\n",
       "      <td>573</td>\n",
       "      <td>1</td>\n",
       "      <td>V5T1Z2</td>\n",
       "      <td>49.262141</td>\n",
       "      <td>-123.101961</td>\n",
       "      <td>V6Z0C5</td>\n",
       "      <td>49.277213</td>\n",
       "      <td>-123.129625</td>\n",
       "      <td>[-123.1296251, 49.277213]</td>\n",
       "    </tr>\n",
       "    <tr>\n",
       "      <th>368</th>\n",
       "      <td>2020-08-23 15:00</td>\n",
       "      <td>2020-08-23 15:00</td>\n",
       "      <td>1631.0</td>\n",
       "      <td>0074 10th &amp; Main</td>\n",
       "      <td>0196 Drake &amp; Hornby</td>\n",
       "      <td>30 Day Pass</td>\n",
       "      <td>4380.0</td>\n",
       "      <td>1376</td>\n",
       "      <td>3932</td>\n",
       "      <td>4035</td>\n",
       "      <td>...</td>\n",
       "      <td>24</td>\n",
       "      <td>0</td>\n",
       "      <td>0</td>\n",
       "      <td>V5T1Z2</td>\n",
       "      <td>49.262141</td>\n",
       "      <td>-123.101961</td>\n",
       "      <td>V6Z0C5</td>\n",
       "      <td>49.277213</td>\n",
       "      <td>-123.129625</td>\n",
       "      <td>[-123.1296251, 49.277213]</td>\n",
       "    </tr>\n",
       "    <tr>\n",
       "      <th>735</th>\n",
       "      <td>2020-01-21 10:00</td>\n",
       "      <td>2020-01-21 11:00</td>\n",
       "      <td>2000.0</td>\n",
       "      <td>0134 14th &amp; Main</td>\n",
       "      <td>0196 Drake &amp; Hornby</td>\n",
       "      <td>365 Day Pass Standard SALE</td>\n",
       "      <td>4429.0</td>\n",
       "      <td>1089</td>\n",
       "      <td>3705</td>\n",
       "      <td>3852</td>\n",
       "      <td>...</td>\n",
       "      <td>12</td>\n",
       "      <td>0</td>\n",
       "      <td>0</td>\n",
       "      <td>V5T3G3</td>\n",
       "      <td>49.258425</td>\n",
       "      <td>-123.100792</td>\n",
       "      <td>V6Z0C5</td>\n",
       "      <td>49.277213</td>\n",
       "      <td>-123.129625</td>\n",
       "      <td>[-123.1296251, 49.277213]</td>\n",
       "    </tr>\n",
       "    <tr>\n",
       "      <th>736</th>\n",
       "      <td>2020-08-23 15:00</td>\n",
       "      <td>2020-08-23 15:00</td>\n",
       "      <td>1697.0</td>\n",
       "      <td>0134 14th &amp; Main</td>\n",
       "      <td>0196 Drake &amp; Hornby</td>\n",
       "      <td>365 Standard</td>\n",
       "      <td>4882.0</td>\n",
       "      <td>1872</td>\n",
       "      <td>3950</td>\n",
       "      <td>4061</td>\n",
       "      <td>...</td>\n",
       "      <td>24</td>\n",
       "      <td>0</td>\n",
       "      <td>0</td>\n",
       "      <td>V5T3G3</td>\n",
       "      <td>49.258425</td>\n",
       "      <td>-123.100792</td>\n",
       "      <td>V6Z0C5</td>\n",
       "      <td>49.277213</td>\n",
       "      <td>-123.129625</td>\n",
       "      <td>[-123.1296251, 49.277213]</td>\n",
       "    </tr>\n",
       "    <tr>\n",
       "      <th>1387</th>\n",
       "      <td>2020-08-14 20:00</td>\n",
       "      <td>2020-08-14 21:00</td>\n",
       "      <td>144.0</td>\n",
       "      <td>0191 7th &amp; Laurel</td>\n",
       "      <td>0196 Drake &amp; Hornby</td>\n",
       "      <td>24 Hour</td>\n",
       "      <td>4116.0</td>\n",
       "      <td>1450</td>\n",
       "      <td>4150</td>\n",
       "      <td>4263</td>\n",
       "      <td>...</td>\n",
       "      <td>23</td>\n",
       "      <td>0</td>\n",
       "      <td>0</td>\n",
       "      <td>V5Z4C1</td>\n",
       "      <td>49.265018</td>\n",
       "      <td>-123.123852</td>\n",
       "      <td>V6Z0C5</td>\n",
       "      <td>49.277213</td>\n",
       "      <td>-123.129625</td>\n",
       "      <td>[-123.1296251, 49.277213]</td>\n",
       "    </tr>\n",
       "  </tbody>\n",
       "</table>\n",
       "<p>5 rows × 21 columns</p>\n",
       "</div>"
      ],
      "text/plain": [
       "             Departure            Return    Bike  Departure station  \\\n",
       "367   2020-01-27 21:00  2020-01-27 22:00  1149.0   0074 10th & Main   \n",
       "368   2020-08-23 15:00  2020-08-23 15:00  1631.0   0074 10th & Main   \n",
       "735   2020-01-21 10:00  2020-01-21 11:00  2000.0   0134 14th & Main   \n",
       "736   2020-08-23 15:00  2020-08-23 15:00  1697.0   0134 14th & Main   \n",
       "1387  2020-08-14 20:00  2020-08-14 21:00   144.0  0191 7th & Laurel   \n",
       "\n",
       "           Return station             Membership type  Covered distance (m)  \\\n",
       "367   0196 Drake & Hornby      365 Day Pass Plus SALE                4318.0   \n",
       "368   0196 Drake & Hornby                 30 Day Pass                4380.0   \n",
       "735   0196 Drake & Hornby  365 Day Pass Standard SALE                4429.0   \n",
       "736   0196 Drake & Hornby                365 Standard                4882.0   \n",
       "1387  0196 Drake & Hornby                     24 Hour                4116.0   \n",
       "\n",
       "      Duration (sec.)  Departure battery voltage (mV)  \\\n",
       "367              1721                            3761   \n",
       "368              1376                            3932   \n",
       "735              1089                            3705   \n",
       "736              1872                            3950   \n",
       "1387             1450                            4150   \n",
       "\n",
       "      Return battery voltage (mV)  ...  Return temperature (C)  \\\n",
       "367                          3918  ...                       6   \n",
       "368                          4035  ...                      24   \n",
       "735                          3852  ...                      12   \n",
       "736                          4061  ...                      24   \n",
       "1387                         4263  ...                      23   \n",
       "\n",
       "      Stopover duration (sec.)  Number of stopovers  dep_postal_code  \\\n",
       "367                        573                    1           V5T1Z2   \n",
       "368                          0                    0           V5T1Z2   \n",
       "735                          0                    0           V5T3G3   \n",
       "736                          0                    0           V5T3G3   \n",
       "1387                         0                    0           V5Z4C1   \n",
       "\n",
       "        dep_lat    dep_long  return_postal_code return_lat  return_long  \\\n",
       "367   49.262141 -123.101961              V6Z0C5  49.277213  -123.129625   \n",
       "368   49.262141 -123.101961              V6Z0C5  49.277213  -123.129625   \n",
       "735   49.258425 -123.100792              V6Z0C5  49.277213  -123.129625   \n",
       "736   49.258425 -123.100792              V6Z0C5  49.277213  -123.129625   \n",
       "1387  49.265018 -123.123852              V6Z0C5  49.277213  -123.129625   \n",
       "\n",
       "                       features  \n",
       "367   [-123.1296251, 49.277213]  \n",
       "368   [-123.1296251, 49.277213]  \n",
       "735   [-123.1296251, 49.277213]  \n",
       "736   [-123.1296251, 49.277213]  \n",
       "1387  [-123.1296251, 49.277213]  \n",
       "\n",
       "[5 rows x 21 columns]"
      ]
     },
     "execution_count": 173,
     "metadata": {},
     "output_type": "execute_result"
    }
   ],
   "source": [
    "v5v6.head()"
   ]
  },
  {
   "cell_type": "code",
   "execution_count": 175,
   "id": "d6d55aed",
   "metadata": {},
   "outputs": [
    {
     "data": {
      "text/plain": [
       "(465487, 22)"
      ]
     },
     "execution_count": 175,
     "metadata": {},
     "output_type": "execute_result"
    }
   ],
   "source": [
    "df_kmeans_v5v6.shape"
   ]
  },
  {
   "cell_type": "code",
   "execution_count": 177,
   "id": "25f4d89b",
   "metadata": {},
   "outputs": [],
   "source": [
    "v5v6['features'] = v5v6['features'].astype('str')"
   ]
  },
  {
   "cell_type": "code",
   "execution_count": 178,
   "id": "7752ce97",
   "metadata": {},
   "outputs": [
    {
     "data": {
      "text/plain": [
       "Departure                          8329\n",
       "Return                             8349\n",
       "Bike                               2052\n",
       "Departure station                   203\n",
       "Return station                      203\n",
       "Membership type                      22\n",
       "Covered distance (m)               9815\n",
       "Duration (sec.)                   12397\n",
       "Departure battery voltage (mV)      761\n",
       "Return battery voltage (mV)         793\n",
       "Departure temperature (C)            57\n",
       "Return temperature (C)               56\n",
       "Stopover duration (sec.)           3387\n",
       "Number of stopovers                  14\n",
       "dep_postal_code                     173\n",
       "dep_lat                             191\n",
       "dep_long                            191\n",
       "return_postal_code                  173\n",
       "return_lat                          191\n",
       "return_long                         191\n",
       "features                            191\n",
       "dtype: int64"
      ]
     },
     "execution_count": 178,
     "metadata": {},
     "output_type": "execute_result"
    }
   ],
   "source": [
    "v5v6.nunique()"
   ]
  },
  {
   "cell_type": "code",
   "execution_count": null,
   "id": "1c2b8474",
   "metadata": {},
   "outputs": [],
   "source": []
  },
  {
   "cell_type": "code",
   "execution_count": 56,
   "id": "c67fb9e8",
   "metadata": {},
   "outputs": [
    {
     "data": {
      "text/plain": [
       "array([ 2.25,  6.25, 12.25])"
      ]
     },
     "execution_count": 56,
     "metadata": {},
     "output_type": "execute_result"
    }
   ],
   "source": [
    "from scipy.special import boxcox,inv_boxcox\n",
    "inv_boxcox([1,3,5],0.5)"
   ]
  },
  {
   "cell_type": "code",
   "execution_count": 57,
   "id": "05445292",
   "metadata": {},
   "outputs": [
    {
     "ename": "NameError",
     "evalue": "name 'skew' is not defined",
     "output_type": "error",
     "traceback": [
      "\u001b[0;31m---------------------------------------------------------------------------\u001b[0m",
      "\u001b[0;31mNameError\u001b[0m                                 Traceback (most recent call last)",
      "\u001b[0;32m/var/folders/2n/082nnsp112q6r95ps5ymmcr40000gn/T/ipykernel_35168/909945219.py\u001b[0m in \u001b[0;36m<module>\u001b[0;34m\u001b[0m\n\u001b[0;32m----> 1\u001b[0;31m \u001b[0mskew\u001b[0m\u001b[0;34m(\u001b[0m\u001b[0;34m)\u001b[0m\u001b[0;34m\u001b[0m\u001b[0;34m\u001b[0m\u001b[0m\n\u001b[0m",
      "\u001b[0;31mNameError\u001b[0m: name 'skew' is not defined"
     ]
    }
   ],
   "source": [
    "skew()"
   ]
  },
  {
   "cell_type": "code",
   "execution_count": null,
   "id": "c0f674fd",
   "metadata": {},
   "outputs": [],
   "source": []
  }
 ],
 "metadata": {
  "kernelspec": {
   "display_name": "Python 3 (ipykernel)",
   "language": "python",
   "name": "python3"
  },
  "language_info": {
   "codemirror_mode": {
    "name": "ipython",
    "version": 3
   },
   "file_extension": ".py",
   "mimetype": "text/x-python",
   "name": "python",
   "nbconvert_exporter": "python",
   "pygments_lexer": "ipython3",
   "version": "3.8.12"
  }
 },
 "nbformat": 4,
 "nbformat_minor": 5
}
