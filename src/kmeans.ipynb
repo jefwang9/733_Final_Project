{
 "cells": [
  {
   "cell_type": "code",
   "execution_count": 1,
   "id": "87f10146",
   "metadata": {},
   "outputs": [],
   "source": [
    "import pandas as pd\n",
    "import os\n",
    "import seaborn as sns\n",
    "import numpy as np\n",
    "import matplotlib.pyplot as plt\n",
    "from IPython.display import display, Markdown\n",
    "def displaymd(mdstr):\n",
    "    display(Markdown(mdstr))"
   ]
  },
  {
   "cell_type": "code",
   "execution_count": 8,
   "id": "a66389ba",
   "metadata": {},
   "outputs": [
    {
     "data": {
      "text/plain": [
       "(254, 4)"
      ]
     },
     "execution_count": 8,
     "metadata": {},
     "output_type": "execute_result"
    }
   ],
   "source": [
    "geo_data = pd.read_csv('../data/geocodings.csv',index_col=0)\n",
    "geo_data.shape"
   ]
  },
  {
   "cell_type": "code",
   "execution_count": 7,
   "id": "d76af2b6",
   "metadata": {},
   "outputs": [
    {
     "data": {
      "text/html": [
       "<div>\n",
       "<style scoped>\n",
       "    .dataframe tbody tr th:only-of-type {\n",
       "        vertical-align: middle;\n",
       "    }\n",
       "\n",
       "    .dataframe tbody tr th {\n",
       "        vertical-align: top;\n",
       "    }\n",
       "\n",
       "    .dataframe thead th {\n",
       "        text-align: right;\n",
       "    }\n",
       "</style>\n",
       "<table border=\"1\" class=\"dataframe\">\n",
       "  <thead>\n",
       "    <tr style=\"text-align: right;\">\n",
       "      <th></th>\n",
       "      <th>Unnamed: 0</th>\n",
       "      <th>address</th>\n",
       "      <th>postal_code</th>\n",
       "      <th>lat</th>\n",
       "      <th>long</th>\n",
       "    </tr>\n",
       "  </thead>\n",
       "  <tbody>\n",
       "    <tr>\n",
       "      <th>0</th>\n",
       "      <td>0</td>\n",
       "      <td>0048 Comox &amp; Broughton</td>\n",
       "      <td>V6E4E1</td>\n",
       "      <td>49.285082</td>\n",
       "      <td>-123.134194</td>\n",
       "    </tr>\n",
       "    <tr>\n",
       "      <th>1</th>\n",
       "      <td>1</td>\n",
       "      <td>0002 Burrard Station</td>\n",
       "      <td>V6C0A4</td>\n",
       "      <td>49.285871</td>\n",
       "      <td>-123.121050</td>\n",
       "    </tr>\n",
       "    <tr>\n",
       "      <th>2</th>\n",
       "      <td>2</td>\n",
       "      <td>0093 Chilco &amp; Robson</td>\n",
       "      <td>V6G1E8</td>\n",
       "      <td>49.293257</td>\n",
       "      <td>-123.138563</td>\n",
       "    </tr>\n",
       "    <tr>\n",
       "      <th>3</th>\n",
       "      <td>3</td>\n",
       "      <td>0035 Coal Harbour Community Centre</td>\n",
       "      <td>V6C3S3</td>\n",
       "      <td>49.290419</td>\n",
       "      <td>-123.125810</td>\n",
       "    </tr>\n",
       "    <tr>\n",
       "      <th>4</th>\n",
       "      <td>4</td>\n",
       "      <td>0071 14th &amp; Granville</td>\n",
       "      <td>V6J2J4</td>\n",
       "      <td>49.259215</td>\n",
       "      <td>-123.142312</td>\n",
       "    </tr>\n",
       "  </tbody>\n",
       "</table>\n",
       "</div>"
      ],
      "text/plain": [
       "   Unnamed: 0                             address postal_code        lat  \\\n",
       "0           0              0048 Comox & Broughton      V6E4E1  49.285082   \n",
       "1           1                0002 Burrard Station      V6C0A4  49.285871   \n",
       "2           2                0093 Chilco & Robson      V6G1E8  49.293257   \n",
       "3           3  0035 Coal Harbour Community Centre      V6C3S3  49.290419   \n",
       "4           4               0071 14th & Granville      V6J2J4  49.259215   \n",
       "\n",
       "         long  \n",
       "0 -123.134194  \n",
       "1 -123.121050  \n",
       "2 -123.138563  \n",
       "3 -123.125810  \n",
       "4 -123.142312  "
      ]
     },
     "execution_count": 7,
     "metadata": {},
     "output_type": "execute_result"
    }
   ],
   "source": [
    "geo_data.head()"
   ]
  },
  {
   "cell_type": "code",
   "execution_count": 17,
   "id": "898a6af3",
   "metadata": {},
   "outputs": [
    {
     "data": {
      "text/plain": [
       "(572166, 14)"
      ]
     },
     "execution_count": 17,
     "metadata": {},
     "output_type": "execute_result"
    }
   ],
   "source": [
    "data_2020 = pd.read_csv('../data/Mobi_System_Data_2020.csv',compression='zip',index_col=0)\n",
    "data_2020.shape"
   ]
  },
  {
   "cell_type": "code",
   "execution_count": 13,
   "id": "95ed1db0",
   "metadata": {},
   "outputs": [
    {
     "data": {
      "text/html": [
       "<div>\n",
       "<style scoped>\n",
       "    .dataframe tbody tr th:only-of-type {\n",
       "        vertical-align: middle;\n",
       "    }\n",
       "\n",
       "    .dataframe tbody tr th {\n",
       "        vertical-align: top;\n",
       "    }\n",
       "\n",
       "    .dataframe thead th {\n",
       "        text-align: right;\n",
       "    }\n",
       "</style>\n",
       "<table border=\"1\" class=\"dataframe\">\n",
       "  <thead>\n",
       "    <tr style=\"text-align: right;\">\n",
       "      <th></th>\n",
       "      <th>address</th>\n",
       "      <th>dep_postal_code</th>\n",
       "      <th>dep_lat</th>\n",
       "      <th>dep_long</th>\n",
       "    </tr>\n",
       "  </thead>\n",
       "  <tbody>\n",
       "    <tr>\n",
       "      <th>0</th>\n",
       "      <td>0048 Comox &amp; Broughton</td>\n",
       "      <td>V6E4E1</td>\n",
       "      <td>49.285082</td>\n",
       "      <td>-123.134194</td>\n",
       "    </tr>\n",
       "    <tr>\n",
       "      <th>1</th>\n",
       "      <td>0002 Burrard Station</td>\n",
       "      <td>V6C0A4</td>\n",
       "      <td>49.285871</td>\n",
       "      <td>-123.121050</td>\n",
       "    </tr>\n",
       "    <tr>\n",
       "      <th>2</th>\n",
       "      <td>0093 Chilco &amp; Robson</td>\n",
       "      <td>V6G1E8</td>\n",
       "      <td>49.293257</td>\n",
       "      <td>-123.138563</td>\n",
       "    </tr>\n",
       "    <tr>\n",
       "      <th>3</th>\n",
       "      <td>0035 Coal Harbour Community Centre</td>\n",
       "      <td>V6C3S3</td>\n",
       "      <td>49.290419</td>\n",
       "      <td>-123.125810</td>\n",
       "    </tr>\n",
       "    <tr>\n",
       "      <th>4</th>\n",
       "      <td>0071 14th &amp; Granville</td>\n",
       "      <td>V6J2J4</td>\n",
       "      <td>49.259215</td>\n",
       "      <td>-123.142312</td>\n",
       "    </tr>\n",
       "  </tbody>\n",
       "</table>\n",
       "</div>"
      ],
      "text/plain": [
       "                              address dep_postal_code    dep_lat    dep_long\n",
       "0              0048 Comox & Broughton          V6E4E1  49.285082 -123.134194\n",
       "1                0002 Burrard Station          V6C0A4  49.285871 -123.121050\n",
       "2                0093 Chilco & Robson          V6G1E8  49.293257 -123.138563\n",
       "3  0035 Coal Harbour Community Centre          V6C3S3  49.290419 -123.125810\n",
       "4               0071 14th & Granville          V6J2J4  49.259215 -123.142312"
      ]
     },
     "execution_count": 13,
     "metadata": {},
     "output_type": "execute_result"
    }
   ],
   "source": [
    "geo_data.rename({'lat':'dep_lat','long':'dep_long','postal_code':'dep_postal_code'},axis=1).head()"
   ]
  },
  {
   "cell_type": "code",
   "execution_count": 18,
   "id": "dcf320e7",
   "metadata": {},
   "outputs": [
    {
     "data": {
      "text/plain": [
       "(571648, 20)"
      ]
     },
     "execution_count": 18,
     "metadata": {},
     "output_type": "execute_result"
    }
   ],
   "source": [
    "merge_2020 = data_2020.merge(geo_data.rename({'lat':'dep_lat','long':'dep_long','postal_code':'dep_postal_code'},axis=1),left_on='Departure station',right_on='address').drop('address',axis=1)\n",
    "merge_2020 = merge_2020.merge(geo_data.rename({'lat':'return_lat','long':'return_long','postal_code':'return_postal_code'},axis=1),left_on='Return station',right_on='address').drop('address',axis=1)\n",
    "merge_2020.shape"
   ]
  },
  {
   "cell_type": "code",
   "execution_count": 19,
   "id": "040cfb0d",
   "metadata": {},
   "outputs": [
    {
     "data": {
      "text/html": [
       "<div>\n",
       "<style scoped>\n",
       "    .dataframe tbody tr th:only-of-type {\n",
       "        vertical-align: middle;\n",
       "    }\n",
       "\n",
       "    .dataframe tbody tr th {\n",
       "        vertical-align: top;\n",
       "    }\n",
       "\n",
       "    .dataframe thead th {\n",
       "        text-align: right;\n",
       "    }\n",
       "</style>\n",
       "<table border=\"1\" class=\"dataframe\">\n",
       "  <thead>\n",
       "    <tr style=\"text-align: right;\">\n",
       "      <th></th>\n",
       "      <th>Departure</th>\n",
       "      <th>Return</th>\n",
       "      <th>Bike</th>\n",
       "      <th>Departure station</th>\n",
       "      <th>Return station</th>\n",
       "      <th>Membership type</th>\n",
       "      <th>Covered distance (m)</th>\n",
       "      <th>Duration (sec.)</th>\n",
       "      <th>Departure battery voltage (mV)</th>\n",
       "      <th>Return battery voltage (mV)</th>\n",
       "      <th>Departure temperature (C)</th>\n",
       "      <th>Return temperature (C)</th>\n",
       "      <th>Stopover duration (sec.)</th>\n",
       "      <th>Number of stopovers</th>\n",
       "      <th>dep_postal_code</th>\n",
       "      <th>dep_lat</th>\n",
       "      <th>dep_long</th>\n",
       "      <th>return_postal_code</th>\n",
       "      <th>return_lat</th>\n",
       "      <th>return_long</th>\n",
       "    </tr>\n",
       "  </thead>\n",
       "  <tbody>\n",
       "    <tr>\n",
       "      <th>0</th>\n",
       "      <td>2020-02-01 0:00</td>\n",
       "      <td>2020-02-01 0:00</td>\n",
       "      <td>522.0</td>\n",
       "      <td>0099 Vancouver Art Gallery - North Plaza</td>\n",
       "      <td>0196 Drake &amp; Hornby</td>\n",
       "      <td>365 Plus</td>\n",
       "      <td>994.0</td>\n",
       "      <td>323</td>\n",
       "      <td>3881</td>\n",
       "      <td>4001</td>\n",
       "      <td>12</td>\n",
       "      <td>13</td>\n",
       "      <td>0</td>\n",
       "      <td>0</td>\n",
       "      <td>V6Z2H7</td>\n",
       "      <td>49.283227</td>\n",
       "      <td>-123.120523</td>\n",
       "      <td>V6Z0C5</td>\n",
       "      <td>49.277213</td>\n",
       "      <td>-123.129625</td>\n",
       "    </tr>\n",
       "    <tr>\n",
       "      <th>1</th>\n",
       "      <td>2020-01-31 18:00</td>\n",
       "      <td>2020-01-31 18:00</td>\n",
       "      <td>1027.0</td>\n",
       "      <td>0099 Vancouver Art Gallery - North Plaza</td>\n",
       "      <td>0196 Drake &amp; Hornby</td>\n",
       "      <td>365 Day Founding Standard</td>\n",
       "      <td>982.0</td>\n",
       "      <td>338</td>\n",
       "      <td>3930</td>\n",
       "      <td>4048</td>\n",
       "      <td>13</td>\n",
       "      <td>14</td>\n",
       "      <td>0</td>\n",
       "      <td>0</td>\n",
       "      <td>V6Z2H7</td>\n",
       "      <td>49.283227</td>\n",
       "      <td>-123.120523</td>\n",
       "      <td>V6Z0C5</td>\n",
       "      <td>49.277213</td>\n",
       "      <td>-123.129625</td>\n",
       "    </tr>\n",
       "    <tr>\n",
       "      <th>2</th>\n",
       "      <td>2020-01-31 0:00</td>\n",
       "      <td>2020-01-31 0:00</td>\n",
       "      <td>1885.0</td>\n",
       "      <td>0099 Vancouver Art Gallery - North Plaza</td>\n",
       "      <td>0196 Drake &amp; Hornby</td>\n",
       "      <td>365 Plus</td>\n",
       "      <td>988.0</td>\n",
       "      <td>307</td>\n",
       "      <td>3942</td>\n",
       "      <td>4064</td>\n",
       "      <td>8</td>\n",
       "      <td>9</td>\n",
       "      <td>0</td>\n",
       "      <td>0</td>\n",
       "      <td>V6Z2H7</td>\n",
       "      <td>49.283227</td>\n",
       "      <td>-123.120523</td>\n",
       "      <td>V6Z0C5</td>\n",
       "      <td>49.277213</td>\n",
       "      <td>-123.129625</td>\n",
       "    </tr>\n",
       "    <tr>\n",
       "      <th>3</th>\n",
       "      <td>2020-01-30 17:00</td>\n",
       "      <td>2020-01-30 17:00</td>\n",
       "      <td>491.0</td>\n",
       "      <td>0099 Vancouver Art Gallery - North Plaza</td>\n",
       "      <td>0196 Drake &amp; Hornby</td>\n",
       "      <td>365 Corporate Standard</td>\n",
       "      <td>1051.0</td>\n",
       "      <td>332</td>\n",
       "      <td>4037</td>\n",
       "      <td>4121</td>\n",
       "      <td>11</td>\n",
       "      <td>13</td>\n",
       "      <td>0</td>\n",
       "      <td>0</td>\n",
       "      <td>V6Z2H7</td>\n",
       "      <td>49.283227</td>\n",
       "      <td>-123.120523</td>\n",
       "      <td>V6Z0C5</td>\n",
       "      <td>49.277213</td>\n",
       "      <td>-123.129625</td>\n",
       "    </tr>\n",
       "    <tr>\n",
       "      <th>4</th>\n",
       "      <td>2020-01-29 0:00</td>\n",
       "      <td>2020-01-29 0:00</td>\n",
       "      <td>1076.0</td>\n",
       "      <td>0099 Vancouver Art Gallery - North Plaza</td>\n",
       "      <td>0196 Drake &amp; Hornby</td>\n",
       "      <td>365 Plus</td>\n",
       "      <td>990.0</td>\n",
       "      <td>329</td>\n",
       "      <td>3653</td>\n",
       "      <td>3803</td>\n",
       "      <td>9</td>\n",
       "      <td>10</td>\n",
       "      <td>0</td>\n",
       "      <td>0</td>\n",
       "      <td>V6Z2H7</td>\n",
       "      <td>49.283227</td>\n",
       "      <td>-123.120523</td>\n",
       "      <td>V6Z0C5</td>\n",
       "      <td>49.277213</td>\n",
       "      <td>-123.129625</td>\n",
       "    </tr>\n",
       "  </tbody>\n",
       "</table>\n",
       "</div>"
      ],
      "text/plain": [
       "          Departure            Return    Bike  \\\n",
       "0   2020-02-01 0:00   2020-02-01 0:00   522.0   \n",
       "1  2020-01-31 18:00  2020-01-31 18:00  1027.0   \n",
       "2   2020-01-31 0:00   2020-01-31 0:00  1885.0   \n",
       "3  2020-01-30 17:00  2020-01-30 17:00   491.0   \n",
       "4   2020-01-29 0:00   2020-01-29 0:00  1076.0   \n",
       "\n",
       "                          Departure station       Return station  \\\n",
       "0  0099 Vancouver Art Gallery - North Plaza  0196 Drake & Hornby   \n",
       "1  0099 Vancouver Art Gallery - North Plaza  0196 Drake & Hornby   \n",
       "2  0099 Vancouver Art Gallery - North Plaza  0196 Drake & Hornby   \n",
       "3  0099 Vancouver Art Gallery - North Plaza  0196 Drake & Hornby   \n",
       "4  0099 Vancouver Art Gallery - North Plaza  0196 Drake & Hornby   \n",
       "\n",
       "             Membership type  Covered distance (m)  Duration (sec.)  \\\n",
       "0                   365 Plus                 994.0              323   \n",
       "1  365 Day Founding Standard                 982.0              338   \n",
       "2                   365 Plus                 988.0              307   \n",
       "3     365 Corporate Standard                1051.0              332   \n",
       "4                   365 Plus                 990.0              329   \n",
       "\n",
       "   Departure battery voltage (mV)  Return battery voltage (mV)  \\\n",
       "0                            3881                         4001   \n",
       "1                            3930                         4048   \n",
       "2                            3942                         4064   \n",
       "3                            4037                         4121   \n",
       "4                            3653                         3803   \n",
       "\n",
       "   Departure temperature (C)  Return temperature (C)  \\\n",
       "0                         12                      13   \n",
       "1                         13                      14   \n",
       "2                          8                       9   \n",
       "3                         11                      13   \n",
       "4                          9                      10   \n",
       "\n",
       "   Stopover duration (sec.)  Number of stopovers dep_postal_code    dep_lat  \\\n",
       "0                         0                    0          V6Z2H7  49.283227   \n",
       "1                         0                    0          V6Z2H7  49.283227   \n",
       "2                         0                    0          V6Z2H7  49.283227   \n",
       "3                         0                    0          V6Z2H7  49.283227   \n",
       "4                         0                    0          V6Z2H7  49.283227   \n",
       "\n",
       "     dep_long return_postal_code  return_lat  return_long  \n",
       "0 -123.120523             V6Z0C5   49.277213  -123.129625  \n",
       "1 -123.120523             V6Z0C5   49.277213  -123.129625  \n",
       "2 -123.120523             V6Z0C5   49.277213  -123.129625  \n",
       "3 -123.120523             V6Z0C5   49.277213  -123.129625  \n",
       "4 -123.120523             V6Z0C5   49.277213  -123.129625  "
      ]
     },
     "execution_count": 19,
     "metadata": {},
     "output_type": "execute_result"
    }
   ],
   "source": [
    "merge_2020.head()"
   ]
  },
  {
   "cell_type": "code",
   "execution_count": 20,
   "id": "2931abdd",
   "metadata": {},
   "outputs": [
    {
     "data": {
      "text/plain": [
       "Departure                          8435\n",
       "Return                             8440\n",
       "Bike                               2053\n",
       "Departure station                   221\n",
       "Return station                      221\n",
       "Membership type                      22\n",
       "Covered distance (m)              10040\n",
       "Duration (sec.)                   13180\n",
       "Departure battery voltage (mV)      772\n",
       "Return battery voltage (mV)         798\n",
       "Departure temperature (C)            57\n",
       "Return temperature (C)               57\n",
       "Stopover duration (sec.)           3631\n",
       "Number of stopovers                  14\n",
       "dep_postal_code                     191\n",
       "dep_lat                             209\n",
       "dep_long                            209\n",
       "return_postal_code                  191\n",
       "return_lat                          209\n",
       "return_long                         209\n",
       "dtype: int64"
      ]
     },
     "execution_count": 20,
     "metadata": {},
     "output_type": "execute_result"
    }
   ],
   "source": [
    "merge_2020.nunique()"
   ]
  },
  {
   "cell_type": "code",
   "execution_count": 21,
   "id": "a1eface5",
   "metadata": {},
   "outputs": [
    {
     "data": {
      "text/plain": [
       "Departure                          0\n",
       "Return                             0\n",
       "Bike                              43\n",
       "Departure station                  0\n",
       "Return station                     0\n",
       "Membership type                   33\n",
       "Covered distance (m)               0\n",
       "Duration (sec.)                    0\n",
       "Departure battery voltage (mV)     0\n",
       "Return battery voltage (mV)        0\n",
       "Departure temperature (C)          0\n",
       "Return temperature (C)             0\n",
       "Stopover duration (sec.)           0\n",
       "Number of stopovers                0\n",
       "dep_postal_code                    0\n",
       "dep_lat                            0\n",
       "dep_long                           0\n",
       "return_postal_code                 0\n",
       "return_lat                         0\n",
       "return_long                        0\n",
       "dtype: int64"
      ]
     },
     "execution_count": 21,
     "metadata": {},
     "output_type": "execute_result"
    }
   ],
   "source": [
    "merge_2020.isnull().sum()"
   ]
  },
  {
   "cell_type": "code",
   "execution_count": 22,
   "id": "f65f14b2",
   "metadata": {},
   "outputs": [
    {
     "data": {
      "text/plain": [
       "(571572, 20)"
      ]
     },
     "execution_count": 22,
     "metadata": {},
     "output_type": "execute_result"
    }
   ],
   "source": [
    "# drop Na\n",
    "merge_2020 = merge_2020.dropna()\n",
    "merge_2020.shape"
   ]
  },
  {
   "cell_type": "code",
   "execution_count": 24,
   "id": "177dc7e7",
   "metadata": {},
   "outputs": [
    {
     "data": {
      "text/plain": [
       "(363749, 20)"
      ]
     },
     "execution_count": 24,
     "metadata": {},
     "output_type": "execute_result"
    }
   ],
   "source": [
    "v6 = merge_2020[merge_2020['return_postal_code'].str.startswith('V6')]\n",
    "v6 = v6[v6['dep_postal_code'].str.startswith('V6')]\n",
    "v6.shape"
   ]
  },
  {
   "cell_type": "code",
   "execution_count": 25,
   "id": "be103c98",
   "metadata": {},
   "outputs": [
    {
     "data": {
      "text/plain": [
       "Departure                          8216\n",
       "Return                             8233\n",
       "Bike                               2052\n",
       "Departure station                   128\n",
       "Return station                      128\n",
       "Membership type                      22\n",
       "Covered distance (m)               9470\n",
       "Duration (sec.)                   11464\n",
       "Departure battery voltage (mV)      743\n",
       "Return battery voltage (mV)         776\n",
       "Departure temperature (C)            54\n",
       "Return temperature (C)               54\n",
       "Stopover duration (sec.)           3014\n",
       "Number of stopovers                  14\n",
       "dep_postal_code                     106\n",
       "dep_lat                             122\n",
       "dep_long                            122\n",
       "return_postal_code                  106\n",
       "return_lat                          122\n",
       "return_long                         122\n",
       "dtype: int64"
      ]
     },
     "execution_count": 25,
     "metadata": {},
     "output_type": "execute_result"
    }
   ],
   "source": [
    "v6.nunique()"
   ]
  },
  {
   "cell_type": "code",
   "execution_count": 31,
   "id": "126d033f",
   "metadata": {},
   "outputs": [
    {
     "data": {
      "text/plain": [
       "(49796, 20)"
      ]
     },
     "execution_count": 31,
     "metadata": {},
     "output_type": "execute_result"
    }
   ],
   "source": [
    "v5 = merge_2020[merge_2020['return_postal_code'].str.startswith('V5') or merge_2020['return_postal_code'].str.startswith('V6')]\n",
    "v5 = v5[v5['dep_postal_code'].str.startswith('V5')]\n",
    "v5.shape"
   ]
  },
  {
   "cell_type": "code",
   "execution_count": 37,
   "id": "01231388",
   "metadata": {},
   "outputs": [
    {
     "data": {
      "text/plain": [
       "(413545, 20)"
      ]
     },
     "execution_count": 37,
     "metadata": {},
     "output_type": "execute_result"
    }
   ],
   "source": [
    "v5v6 = v5.append(v6)\n",
    "v5v6.shape"
   ]
  },
  {
   "cell_type": "code",
   "execution_count": 39,
   "id": "4ce6d9c0",
   "metadata": {},
   "outputs": [
    {
     "data": {
      "text/plain": [
       "Departure                          8279\n",
       "Return                             8304\n",
       "Bike                               2052\n",
       "Departure station                   203\n",
       "Return station                      203\n",
       "Membership type                      22\n",
       "Covered distance (m)               9699\n",
       "Duration (sec.)                   12037\n",
       "Departure battery voltage (mV)      754\n",
       "Return battery voltage (mV)         790\n",
       "Departure temperature (C)            55\n",
       "Return temperature (C)               55\n",
       "Stopover duration (sec.)           3278\n",
       "Number of stopovers                  14\n",
       "dep_postal_code                     173\n",
       "dep_lat                             191\n",
       "dep_long                            191\n",
       "return_postal_code                  173\n",
       "return_lat                          191\n",
       "return_long                         191\n",
       "dtype: int64"
      ]
     },
     "execution_count": 39,
     "metadata": {},
     "output_type": "execute_result"
    }
   ],
   "source": [
    "v5v6.nunique()"
   ]
  },
  {
   "cell_type": "code",
   "execution_count": 53,
   "id": "80fc53ad",
   "metadata": {},
   "outputs": [
    {
     "data": {
      "image/png": "[encoded data removed]",
      "text/plain": [
       "<Figure size 432x288 with 1 Axes>"
      ]
     },
     "metadata": {
      "needs_background": "light"
     },
     "output_type": "display_data"
    }
   ],
   "source": [
    "# return station and departure station are the same basically\n",
    "plt.scatter(v5v6['return_long'], v5v6['return_lat'], c='g')\n",
    "#plt.scatter(v5v6['dep_long'], v5v6['dep_lat'], c='g',)\n",
    "plt.xlabel(\"LONG\")\n",
    "plt.ylabel(\"LAT\")\n",
    "plt.title('The Geo Info of Bike Station')\n",
    "plt.show()"
   ]
  },
  {
   "cell_type": "code",
   "execution_count": 27,
   "id": "3a96c00f",
   "metadata": {},
   "outputs": [],
   "source": [
    "from sklearn.cluster import KMeans\n",
    "from sklearn.preprocessing import StandardScaler"
   ]
  },
  {
   "cell_type": "code",
   "execution_count": 61,
   "id": "012b4106",
   "metadata": {},
   "outputs": [
    {
     "data": {
      "text/plain": [
       "(413545, 21)"
      ]
     },
     "execution_count": 61,
     "metadata": {},
     "output_type": "execute_result"
    }
   ],
   "source": [
    "v5v6['features'] = v5v6['return_long'].apply(lambda x : [x]) + v5v6['return_lat'].apply(lambda x : [x])\n",
    "v5v6.shape"
   ]
  },
  {
   "cell_type": "code",
   "execution_count": 62,
   "id": "628e4b6d",
   "metadata": {},
   "outputs": [],
   "source": [
    "scaler = StandardScaler()\n",
    "scaled_features = scaler.fit_transform(list(v5v6.features))"
   ]
  },
  {
   "cell_type": "code",
   "execution_count": 63,
   "id": "5c66bbb8",
   "metadata": {},
   "outputs": [],
   "source": [
    "X = list(v5v6['features'])\n",
    "kmeans = KMeans(n_clusters=3).fit(scaled_features)"
   ]
  },
  {
   "cell_type": "code",
   "execution_count": 64,
   "id": "43b15713",
   "metadata": {},
   "outputs": [],
   "source": [
    "df_kmeans_v5v6 = v5v6.copy()\n",
    "df_kmeans_v5v6['label'] = kmeans.labels_"
   ]
  },
  {
   "cell_type": "code",
   "execution_count": 65,
   "id": "3c199c80",
   "metadata": {},
   "outputs": [
    {
     "data": {
      "text/plain": [
       "2    181991\n",
       "0    134747\n",
       "1     96807\n",
       "Name: label, dtype: int64"
      ]
     },
     "execution_count": 65,
     "metadata": {},
     "output_type": "execute_result"
    }
   ],
   "source": [
    "df_kmeans_v5v6['label'].value_counts()"
   ]
  },
  {
   "cell_type": "code",
   "execution_count": 66,
   "id": "eaff6fc5",
   "metadata": {},
   "outputs": [
    {
     "data": {
      "image/png": "[encoded data removed]",
      "text/plain": [
       "<Figure size 432x288 with 1 Axes>"
      ]
     },
     "metadata": {
      "needs_background": "light"
     },
     "output_type": "display_data"
    }
   ],
   "source": [
    "sns.scatterplot(x='return_long', y='return_lat', hue='label', data=df_kmeans_v5v6)\n",
    "plt.xlabel(\"LONG\")\n",
    "plt.ylabel(\"LAT\")\n",
    "plt.title('3 Clusters with the Geo Info of Bike Station')\n",
    "plt.show()"
   ]
  },
  {
   "cell_type": "code",
   "execution_count": 57,
   "id": "403d2325",
   "metadata": {},
   "outputs": [
    {
     "data": {
      "text/plain": [
       "4    106760\n",
       "0    100514\n",
       "2     89487\n",
       "3     82711\n",
       "1     34073\n",
       "Name: label, dtype: int64"
      ]
     },
     "execution_count": 57,
     "metadata": {},
     "output_type": "execute_result"
    }
   ],
   "source": [
    "X = list(v5v6['features'])\n",
    "kmeans = KMeans(n_clusters=5).fit(scaled_features)\n",
    "df_kmeans_v5v6 = v5v6.copy()\n",
    "df_kmeans_v5v6['label'] = kmeans.labels_\n",
    "df_kmeans_v5v6['label'].value_counts()"
   ]
  },
  {
   "cell_type": "code",
   "execution_count": 58,
   "id": "cb018c80",
   "metadata": {},
   "outputs": [
    {
     "data": {
      "image/png": "[encoded data removed]",
      "text/plain": [
       "<Figure size 432x288 with 1 Axes>"
      ]
     },
     "metadata": {
      "needs_background": "light"
     },
     "output_type": "display_data"
    }
   ],
   "source": [
    "sns.scatterplot(x='return_long', y='return_lat', hue='label', data=df_kmeans_v5v6, palette=['green','orange','brown','dodgerblue','red'])\n",
    "plt.xlabel(\"LONG\")\n",
    "plt.ylabel(\"LAT\")\n",
    "plt.title('5 Clusters with the Geo Info of Bike Station')\n",
    "plt.show()"
   ]
  },
  {
   "cell_type": "code",
   "execution_count": 59,
   "id": "f889b698",
   "metadata": {},
   "outputs": [
    {
     "data": {
      "text/plain": [
       "0    81855\n",
       "6    78445\n",
       "1    72792\n",
       "5    55410\n",
       "2    50657\n",
       "7    27187\n",
       "3    25045\n",
       "4    22154\n",
       "Name: label, dtype: int64"
      ]
     },
     "execution_count": 59,
     "metadata": {},
     "output_type": "execute_result"
    }
   ],
   "source": [
    "X = list(v5v6['features'])\n",
    "kmeans = KMeans(n_clusters=8).fit(scaled_features)\n",
    "df_kmeans_v5v6 = v5v6.copy()\n",
    "df_kmeans_v5v6['label'] = kmeans.labels_\n",
    "df_kmeans_v5v6['label'].value_counts()"
   ]
  },
  {
   "cell_type": "code",
   "execution_count": 60,
   "id": "92604f01",
   "metadata": {},
   "outputs": [
    {
     "data": {
      "image/png": "[encoded data removed]",
      "text/plain": [
       "<Figure size 432x288 with 1 Axes>"
      ]
     },
     "metadata": {
      "needs_background": "light"
     },
     "output_type": "display_data"
    }
   ],
   "source": [
    "sns.scatterplot(x='return_long', y='return_lat', hue='label', data=df_kmeans_v5v6, \n",
    "                palette='RdYlBu')\n",
    "plt.xlabel(\"LONG\")\n",
    "plt.ylabel(\"LAT\")\n",
    "plt.title('8 Clusters with the Geo Info of Bike Station')\n",
    "plt.show()"
   ]
  },
  {
   "cell_type": "code",
   "execution_count": null,
   "id": "e153ec76",
   "metadata": {},
   "outputs": [],
   "source": []
  },
  {
   "cell_type": "markdown",
   "id": "b30d8337",
   "metadata": {},
   "source": [
    "## Choosing the appropriate number of K"
   ]
  },
  {
   "cell_type": "code",
   "execution_count": null,
   "id": "ecb84e41",
   "metadata": {},
   "outputs": [],
   "source": [
    "kmeans_kwargs = {\n",
    "\"init\": \"random\",\n",
    "\"n_init\": 10,\n",
    "\"max_iter\": 300,\n",
    "\"random_state\": 42,\n",
    "}\n",
    "\n",
    "# A list holds the SSE values for each k\n",
    "sse = []\n",
    "for k in range(1, 11):\n",
    "kmeans = KMeans(n_clusters=k, **kmeans_kwargs)\n",
    "kmeans.fit(scaled_features)\n",
    "sse.append(kmeans.inertia_)"
   ]
  },
  {
   "cell_type": "code",
   "execution_count": null,
   "id": "a68b7979",
   "metadata": {},
   "outputs": [],
   "source": []
  },
  {
   "cell_type": "code",
   "execution_count": null,
   "id": "1a7b7499",
   "metadata": {},
   "outputs": [],
   "source": []
  },
  {
   "cell_type": "code",
   "execution_count": null,
   "id": "c78bb3ec",
   "metadata": {},
   "outputs": [],
   "source": []
  },
  {
   "cell_type": "code",
   "execution_count": null,
   "id": "8d4654c8",
   "metadata": {},
   "outputs": [],
   "source": []
  },
  {
   "cell_type": "code",
   "execution_count": null,
   "id": "6874841d",
   "metadata": {},
   "outputs": [],
   "source": []
  },
  {
   "cell_type": "code",
   "execution_count": null,
   "id": "60851f0a",
   "metadata": {},
   "outputs": [],
   "source": []
  },
  {
   "cell_type": "code",
   "execution_count": null,
   "id": "0621f5a3",
   "metadata": {},
   "outputs": [],
   "source": []
  },
  {
   "cell_type": "code",
   "execution_count": null,
   "id": "84bcf236",
   "metadata": {},
   "outputs": [],
   "source": []
  },
  {
   "cell_type": "code",
   "execution_count": null,
   "id": "d6d55aed",
   "metadata": {},
   "outputs": [],
   "source": []
  },
  {
   "cell_type": "code",
   "execution_count": null,
   "id": "25f4d89b",
   "metadata": {},
   "outputs": [],
   "source": []
  },
  {
   "cell_type": "code",
   "execution_count": null,
   "id": "7752ce97",
   "metadata": {},
   "outputs": [],
   "source": []
  },
  {
   "cell_type": "code",
   "execution_count": null,
   "id": "1c2b8474",
   "metadata": {},
   "outputs": [],
   "source": []
  },
  {
   "cell_type": "code",
   "execution_count": null,
   "id": "c67fb9e8",
   "metadata": {},
   "outputs": [],
   "source": []
  },
  {
   "cell_type": "code",
   "execution_count": null,
   "id": "05445292",
   "metadata": {},
   "outputs": [],
   "source": []
  },
  {
   "cell_type": "code",
   "execution_count": null,
   "id": "c0f674fd",
   "metadata": {},
   "outputs": [],
   "source": []
  }
 ],
 "metadata": {
  "kernelspec": {
   "display_name": "Python 3 (ipykernel)",
   "language": "python",
   "name": "python3"
  },
  "language_info": {
   "codemirror_mode": {
    "name": "ipython",
    "version": 3
   },
   "file_extension": ".py",
   "mimetype": "text/x-python",
   "name": "python",
   "nbconvert_exporter": "python",
   "pygments_lexer": "ipython3",
   "version": "3.9.7"
  }
 },
 "nbformat": 4,
 "nbformat_minor": 5
}
