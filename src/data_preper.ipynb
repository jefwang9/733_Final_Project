{
 "cells": [
  {
   "cell_type": "code",
   "execution_count": 1,
   "id": "1e36d433",
   "metadata": {
    "scrolled": true
   },
   "outputs": [],
   "source": [
    "import pickle\n",
    "from geocoding_getter import geocoder\n",
    "import numpy as np\n",
    "import pandas as pd"
   ]
  },
  {
   "cell_type": "markdown",
   "id": "c5e18981",
   "metadata": {},
   "source": [
    "# Please don't simply run all code blocks; some will overwrite existing cached geocodings!! (Even though we have git to back us up)"
   ]
  },
  {
   "cell_type": "code",
   "execution_count": 2,
   "id": "069cfce8",
   "metadata": {
    "scrolled": true
   },
   "outputs": [],
   "source": [
    "geocodings = dict()"
   ]
  },
  {
   "cell_type": "code",
   "execution_count": null,
   "id": "d6771463",
   "metadata": {
    "scrolled": true
   },
   "outputs": [],
   "source": [
    "with open(\"../data/geocodings.pickle\", 'wb') as f:\n",
    "    pickle.dump(geocodings, f, protocol=pickle.HIGHEST_PROTOCOL)"
   ]
  },
  {
   "cell_type": "code",
   "execution_count": null,
   "id": "344213dd",
   "metadata": {
    "scrolled": true
   },
   "outputs": [],
   "source": [
    "with open(\"../data/geocodings.pickle\", 'rb') as f:\n",
    "    geocodings = pickle.load(f)"
   ]
  },
  {
   "cell_type": "code",
   "execution_count": 3,
   "id": "3bb194df",
   "metadata": {
    "scrolled": true
   },
   "outputs": [],
   "source": [
    "DATA_FOLDER = \"../data/raw_mobibikes_data/\"\n",
    "PREFIX = \"Mobi_System_Data_\"\n",
    "VERBOSE = True"
   ]
  },
  {
   "cell_type": "code",
   "execution_count": 4,
   "id": "27057905",
   "metadata": {
    "scrolled": true
   },
   "outputs": [],
   "source": [
    "test_file = \"2017.xlsx\"\n",
    "df = pd.read_excel(DATA_FOLDER + PREFIX + test_file)"
   ]
  },
  {
   "cell_type": "code",
   "execution_count": 5,
   "id": "360e5d5d",
   "metadata": {
    "scrolled": true
   },
   "outputs": [],
   "source": [
    "def get_geocoding(station):\n",
    "    if VERBOSE:\n",
    "        print(\"looking for ... \" + station)\n",
    "    \n",
    "    if station in geocodings:\n",
    "        return geocodings[station]\n",
    "    else:\n",
    "        lookup_res = geocoder(station)\n",
    "        geocodings[station] = lookup_res\n",
    "        \n",
    "        return lookup_res"
   ]
  },
  {
   "cell_type": "code",
   "execution_count": 6,
   "id": "b2abd12f",
   "metadata": {
    "scrolled": true
   },
   "outputs": [],
   "source": [
    "def apply_geocoding(row):\n",
    "    _type = [\"Departure\", \"Return\"]\n",
    "    \n",
    "    for t in _type:\n",
    "        station_name = row[f\"{t} station\"]\n",
    "        \n",
    "        if not isinstance(station_name, str):\n",
    "            values = (None, None, None)\n",
    "        else:\n",
    "            values = get_geocoding(station_name)\n",
    "        \n",
    "        tmp_series = pd.Series(data=values, \n",
    "                               index=[f\"{t} postal code\",\n",
    "                                      f\"{t} lat\",\n",
    "                                      f\"{t} long\"])\n",
    "        \n",
    "        row = row.append(tmp_series)\n",
    "\n",
    "    return row"
   ]
  },
  {
   "cell_type": "code",
   "execution_count": null,
   "id": "55069cd2",
   "metadata": {
    "scrolled": true
   },
   "outputs": [
    {
     "name": "stdout",
     "output_type": "stream",
     "text": [
      "looking for ... 0048 Comox & Broughton\n",
      "looking for ... 0002 Burrard Station\n",
      "looking for ... 0048 Comox & Broughton\n",
      "looking for ... 0048 Comox & Broughton\n",
      "looking for ... 0093 Chilco & Robson\n",
      "looking for ... 0035 Coal Harbour Community Centre\n",
      "looking for ... 0071 14th & Granville\n",
      "looking for ... 0211 14th & Alder\n",
      "looking for ... 0187 Bute & Davie\n",
      "looking for ... 0079 Nelson & Richards\n",
      "looking for ... 0114 Cypress & 14th\n",
      "looking for ... 0068 Cypress & Broadway\n",
      "looking for ... 0211 14th & Alder\n",
      "looking for ... 0071 14th & Granville\n",
      "looking for ... 0036 Bute & Robson\n",
      "looking for ... 0032 Comox & Denman\n",
      "looking for ... 0024 Hornby & Pender\n",
      "looking for ... 0037 Hornby & Nelson\n",
      "looking for ... 0099 Vancouver Art Gallery - North Plaza\n",
      "looking for ... 0032 Comox & Denman\n",
      "looking for ... 0024 Hornby & Pender\n",
      "looking for ... 0016 Pender & Burrard\n",
      "looking for ... 0024 Hornby & Pender\n",
      "looking for ... 0016 Pender & Burrard\n",
      "looking for ... 0024 Hornby & Pender\n",
      "looking for ... 0030 Abbott & Cordova\n",
      "looking for ... 0024 Hornby & Pender\n",
      "looking for ... 0030 Abbott & Cordova\n",
      "looking for ... 0187 Bute & Davie\n",
      "looking for ... 0025 Homer & Robson\n",
      "looking for ... 0024 Hornby & Pender\n",
      "looking for ... 0016 Pender & Burrard\n",
      "looking for ... 0024 Hornby & Pender\n",
      "looking for ... 0016 Pender & Burrard\n",
      "looking for ... 0024 Hornby & Pender\n",
      "looking for ... 0016 Pender & Burrard\n",
      "looking for ... 0024 Hornby & Pender\n",
      "looking for ... 0024 Hornby & Pender\n",
      "looking for ... 0024 Hornby & Pender\n",
      "looking for ... 0024 Hornby & Pender\n",
      "looking for ... 0024 Hornby & Pender\n",
      "looking for ... 0024 Hornby & Pender\n",
      "looking for ... 0009 Spyglass & Seawall\n",
      "looking for ... 0066 Anderson & 2nd\n",
      "looking for ... 0009 Spyglass & Seawall\n",
      "looking for ... 0066 Anderson & 2nd\n",
      "looking for ... 0009 Spyglass & Seawall\n",
      "looking for ... 0066 Anderson & 2nd\n",
      "looking for ... 35-0601 Olympic Village Station\n",
      "looking for ... 0108 1st & Chestnut\n",
      "looking for ... 0019 Robson & Hornby\n",
      "looking for ... 0027 Beatty & Nelson\n",
      "looking for ... 0087 Broughton & Burnaby\n",
      "looking for ... 0108 1st & Chestnut\n",
      "looking for ... 0198 6th & Main\n",
      "looking for ... 0001 10th & Cambie\n",
      "looking for ... 0053 Keefer & Abbott\n",
      "looking for ... 0027 Beatty & Nelson\n",
      "looking for ... 0204 York & Yew\n",
      "looking for ... 0076 Cypress & 4th\n",
      "looking for ... 0159 Vine & 4th\n",
      "looking for ... 0071 14th & Granville\n",
      "looking for ... 0204 York & Yew\n",
      "looking for ... 0076 Cypress & 4th\n",
      "looking for ... 0037 Hornby & Nelson\n",
      "looking for ... 0196 Drake & Hornby\n"
     ]
    }
   ],
   "source": [
    "geocoded_df = df.apply(apply_geocoding, axis=1)"
   ]
  },
  {
   "cell_type": "code",
   "execution_count": null,
   "id": "4e556934",
   "metadata": {},
   "outputs": [],
   "source": [
    "geocoded_df.to_csv(\"../tmp_2017_geocoded.csv\")"
   ]
  },
  {
   "cell_type": "code",
   "execution_count": null,
   "id": "c2b323ca",
   "metadata": {
    "scrolled": true
   },
   "outputs": [],
   "source": [
    "# Check script\n",
    "for k, v in geocodings.items():\n",
    "    if len(v[0]) != 6:\n",
    "        print(k, v)"
   ]
  }
 ],
 "metadata": {
  "kernelspec": {
   "display_name": "Python 3 (ipykernel)",
   "language": "python",
   "name": "python3"
  },
  "language_info": {
   "codemirror_mode": {
    "name": "ipython",
    "version": 3
   },
   "file_extension": ".py",
   "mimetype": "text/x-python",
   "name": "python",
   "nbconvert_exporter": "python",
   "pygments_lexer": "ipython3",
   "version": "3.9.9"
  }
 },
 "nbformat": 4,
 "nbformat_minor": 5
}
