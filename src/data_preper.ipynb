{
 "cells": [
  {
   "cell_type": "code",
   "execution_count": 1,
   "id": "19a99758",
   "metadata": {
    "scrolled": true
   },
   "outputs": [],
   "source": [
    "import pickle\n",
    "from geocoding_getter import *\n",
    "import numpy as np\n",
    "import pandas as pd"
   ]
  },
  {
   "cell_type": "markdown",
   "id": "a2767ce2",
   "metadata": {},
   "source": [
    "# Please don't simply run all code blocks; some will overwrite existing cached geocodings!! (Even though we have git to back us up)"
   ]
  },
  {
   "cell_type": "code",
   "execution_count": null,
   "id": "6d18429a",
   "metadata": {
    "scrolled": true
   },
   "outputs": [],
   "source": [
    "geocodings = dict()"
   ]
  },
  {
   "cell_type": "code",
   "execution_count": null,
   "id": "a8371f31",
   "metadata": {
    "scrolled": true
   },
   "outputs": [],
   "source": [
    "with open(\"../data/geocodings.pickle\", 'wb') as f:\n",
    "    pickle.dump(geocodings, f, protocol=pickle.HIGHEST_PROTOCOL)"
   ]
  },
  {
   "cell_type": "code",
   "execution_count": 2,
   "id": "d91523a1",
   "metadata": {
    "scrolled": true
   },
   "outputs": [],
   "source": [
    "with open(\"../data/geocodings.pickle\", 'rb') as f:\n",
    "    geocodings = pickle.load(f)"
   ]
  },
  {
   "cell_type": "code",
   "execution_count": 3,
   "id": "cf35435f",
   "metadata": {
    "scrolled": true
   },
   "outputs": [],
   "source": [
    "DATA_FOLDER = \"../data/raw_mobibikes_data/\"\n",
    "PREFIX = \"Mobi_System_Data_\"\n",
    "VERBOSE = False"
   ]
  },
  {
   "cell_type": "code",
   "execution_count": 4,
   "id": "ec7cd6b1",
   "metadata": {
    "scrolled": true
   },
   "outputs": [],
   "source": [
    "test_file = \"2017.xlsx\"\n",
    "df = pd.read_excel(DATA_FOLDER + PREFIX + test_file)"
   ]
  },
  {
   "cell_type": "code",
   "execution_count": 5,
   "id": "002bd175",
   "metadata": {
    "scrolled": true
   },
   "outputs": [],
   "source": [
    "def get_geocoding(station):\n",
    "    if VERBOSE:\n",
    "        print(\"looking for ... \" + station)\n",
    "    \n",
    "    if station in geocodings:\n",
    "        return geocodings[station]\n",
    "    else:\n",
    "        try:\n",
    "            lookup_res = geocoder(station)\n",
    "        except NotFound:\n",
    "            try:\n",
    "                # Make one more attempt without the station's id\n",
    "                lookup_res = geocoder(station.split(' ', 1))\n",
    "            except NotFound:\n",
    "                lookup_res = (None, None, None)\n",
    "                \n",
    "        geocodings[station] = lookup_res\n",
    "        \n",
    "        return lookup_res"
   ]
  },
  {
   "cell_type": "code",
   "execution_count": 6,
   "id": "df48fbec",
   "metadata": {
    "scrolled": true
   },
   "outputs": [],
   "source": [
    "def apply_geocoding(row):\n",
    "    _type = [\"Departure\", \"Return\"]\n",
    "    \n",
    "    for t in _type:\n",
    "        station_name = row[f\"{t} station\"]\n",
    "        \n",
    "        # Equivalent of comparing it with np.nan, check if NaN is passed in\n",
    "        if not isinstance(station_name, str):\n",
    "            values = (None, None, None)\n",
    "        else:\n",
    "            values = get_geocoding(station_name)\n",
    "        \n",
    "        tmp_series = pd.Series(data=values, \n",
    "                               index=[f\"{t} postal code\",\n",
    "                                      f\"{t} lat\",\n",
    "                                      f\"{t} long\"])\n",
    "        \n",
    "        row = row.append(tmp_series)\n",
    "\n",
    "    return row"
   ]
  },
  {
   "cell_type": "code",
   "execution_count": 7,
   "id": "b02ce61b",
   "metadata": {
    "scrolled": true
   },
   "outputs": [],
   "source": [
    "geocoded_df = df.apply(apply_geocoding, axis=1)"
   ]
  },
  {
   "cell_type": "code",
   "execution_count": 8,
   "id": "46473330",
   "metadata": {},
   "outputs": [
    {
     "data": {
      "text/plain": [
       "133"
      ]
     },
     "execution_count": 8,
     "metadata": {},
     "output_type": "execute_result"
    }
   ],
   "source": [
    "len(geocodings)"
   ]
  },
  {
   "cell_type": "code",
   "execution_count": 11,
   "id": "7dd88827",
   "metadata": {},
   "outputs": [],
   "source": [
    "geocoded_df.to_csv(\"../tmp_2017_geocoded.csv\", compression=\"zip\")"
   ]
  },
  {
   "cell_type": "code",
   "execution_count": null,
   "id": "4d262e9d",
   "metadata": {
    "scrolled": false
   },
   "outputs": [],
   "source": [
    "# Check script\n",
    "for k, v in geocodings.items():\n",
    "    if not v[0] or len(v[0]) != 6:\n",
    "        print(k, v)"
   ]
  }
 ],
 "metadata": {
  "kernelspec": {
   "display_name": "Python 3 (ipykernel)",
   "language": "python",
   "name": "python3"
  },
  "language_info": {
   "codemirror_mode": {
    "name": "ipython",
    "version": 3
   },
   "file_extension": ".py",
   "mimetype": "text/x-python",
   "name": "python",
   "nbconvert_exporter": "python",
   "pygments_lexer": "ipython3",
   "version": "3.9.9"
  }
 },
 "nbformat": 4,
 "nbformat_minor": 5
}
