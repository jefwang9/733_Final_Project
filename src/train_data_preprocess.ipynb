{
 "cells": [
  {
   "cell_type": "code",
   "execution_count": 133,
   "metadata": {},
   "outputs": [],
   "source": [
    "import pandas as pd\n",
    "from pandas import DataFrame\n",
    "import matplotlib.pyplot as plt\n",
    "import seaborn as sns\n",
    "from torch import nn\n",
    "import torch\n",
    "import numpy as np\n",
    "from torch.autograd import Variable \n",
    "from sys import *\n",
    "from subprocess import *\n",
    "import os"
   ]
  },
  {
   "cell_type": "code",
   "execution_count": 134,
   "metadata": {},
   "outputs": [
    {
     "name": "stdout",
     "output_type": "stream",
     "text": [
      "Index(['Unnamed: 0', 'Departure', 'Return', 'Bike', 'Departure station',\n",
      "       'Return station', 'Membership type', 'Covered distance (m)',\n",
      "       'Duration (sec.)', 'Departure battery voltage (mV)',\n",
      "       'Return battery voltage (mV)', 'Departure temperature (C)',\n",
      "       'Return temperature (C)', 'Stopover duration (sec.)',\n",
      "       'Number of stopovers', 'postal_code_x', 'Departure lat',\n",
      "       'Departure long', 'postal_code_y', 'Return lat', 'Return long'],\n",
      "      dtype='object')\n"
     ]
    }
   ],
   "source": [
    "mobi_data = pd.read_csv(\"../data/Mobi_System_Data_2020.csv\", compression='zip').dropna()\n",
    "geo_data = pd.read_csv('../data/geocodings.csv',index_col=0)\n",
    "data = mobi_data.merge(geo_data.rename({'lat':'Departure lat','long':'Departure long'},axis=1),left_on='Departure station',right_on='address').drop('address',axis=1)\n",
    "data = data.merge(geo_data.rename({'lat':'Return lat','long':'Return long'},axis=1),left_on='Return station',right_on='address').drop('address',axis=1)\n",
    "data.shape\n",
    "# data = data.loc[data[\"Departure postal code\"].str.startswith(\"V6\")]\n",
    "print(data.columns)\n",
    "data[\"time\"] = pd.to_datetime(data[\"Departure\"], format=\"%Y-%m-%d %H:%M:%S\")\n",
    "data[\"hour\"] = data[\"time\"].dt.hour\n",
    "data[\"day\"] = data[\"time\"].dt.day\n",
    "data[\"month\"] = data[\"time\"].dt.month\n",
    "data[\"year\"] = data[\"time\"].dt.year\n",
    "data[\"temperature\"] = data[\"Departure temperature (C)\"] + data['Return temperature (C)'] / 2\n",
    "stations = pd.read_csv(\"../data/stations.csv\")\n",
    "max_lat, min_lat = stations[\"lat\"].max(), stations[\"lat\"].min()\n",
    "max_long, min_long = stations[\"long\"].max(), stations[\"long\"].min()"
   ]
  },
  {
   "cell_type": "code",
   "execution_count": 135,
   "metadata": {},
   "outputs": [],
   "source": [
    "import datetime\n",
    "def day_of_week(x):\n",
    "    times = str(x).split('-')\n",
    "    y = int(times[0])\n",
    "    m = int(times[1])\n",
    "    d = int(times[2].split(' ')[0])\n",
    "    return datetime.datetime(y, m, d).weekday()+1"
   ]
  },
  {
   "cell_type": "code",
   "execution_count": 136,
   "metadata": {},
   "outputs": [],
   "source": [
    "data['day_of_week'] = data['Departure'].apply(day_of_week)"
   ]
  },
  {
   "cell_type": "code",
   "execution_count": 137,
   "metadata": {},
   "outputs": [],
   "source": [
    "def generate_time_df(start_time, peroid):\n",
    "    predict_data = pd.DataFrame(data={\n",
    "        \"month\": [], \n",
    "        \"day\": [], \n",
    "        \"hour\": [], \n",
    "        \"lat\": [],\n",
    "        \"long\": [],\n",
    "        \"parks\": [],\n",
    "        \"stops\": [],\n",
    "        \"population\": [],\n",
    "        \"station\": []})\n",
    "    for row in stations.iterrows():\n",
    "        time = pd.date_range(start_time, periods=peroid, freq='H')\n",
    "\n",
    "        station_data = pd.DataFrame(data={\"time\": time})\n",
    "        station_data[\"hour\"] = station_data[\"time\"].dt.hour\n",
    "        station_data[\"day\"] = station_data[\"time\"].dt.dayofweek\n",
    "        station_data[\"month\"] = station_data[\"time\"].dt.month\n",
    "        station_data[\"lat\"] = (row[1][\"lat\"] - min_lat) / (max_lat - min_lat)\n",
    "        station_data[\"long\"] = (row[1][\"long\"] - min_long) / (max_long - min_long)\n",
    "        station_data[\"station\"] = row[1][\"station\"]\n",
    "        station_data[\"parks\"] = row[1][\"parks\"]\n",
    "        station_data[\"stops\"] = row[1][\"stops\"]\n",
    "        station_data[\"population\"] = row[1][\"population\"]\n",
    "        station_data[\"bike_ways\"] = row[1][\"bike_ways\"]\n",
    "        station_data = station_data.drop(columns=[\"time\"])\n",
    "        \n",
    "        predict_data = pd.concat([predict_data, station_data])\n",
    "    \n",
    "    return predict_data"
   ]
  },
  {
   "cell_type": "code",
   "execution_count": 138,
   "metadata": {},
   "outputs": [],
   "source": [
    "def hour_transf(x):\n",
    "    if x >= 6 and x < 12:\n",
    "        return 'Morning'\n",
    "    elif x >= 12 and x < 18:\n",
    "        return 'Afternoon'\n",
    "    elif x >= 18 and x < 24:\n",
    "        return 'Evening'\n",
    "    else:\n",
    "        return 'Wee'"
   ]
  },
  {
   "cell_type": "code",
   "execution_count": 139,
   "metadata": {},
   "outputs": [],
   "source": [
    "data['period'] = data['hour'].apply(hour_transf)"
   ]
  },
  {
   "cell_type": "code",
   "execution_count": 140,
   "metadata": {},
   "outputs": [
    {
     "data": {
      "text/plain": [
       "Afternoon    265529\n",
       "Evening      181508\n",
       "Morning      111384\n",
       "Wee           13151\n",
       "Name: period, dtype: int64"
      ]
     },
     "execution_count": 140,
     "metadata": {},
     "output_type": "execute_result"
    }
   ],
   "source": [
    "data['period'].value_counts()"
   ]
  },
  {
   "cell_type": "code",
   "execution_count": 141,
   "metadata": {},
   "outputs": [],
   "source": [
    "#features_departure = [\"month\", \"day\", \"hour\", \"lat\", \"long\", \"parks\", \"stops\", \"population\", \"bike_ways\"]\n",
    "counts_data_departure = data.groupby([\"month\", \"day_of_week\", \"period\", \"Departure lat\", \"Departure long\", \"Departure station\"]).size().reset_index(name='counts_departure')\n",
    "counts_data_departure = counts_data_departure.rename(columns={\"Departure lat\": \"lat\", \"Departure long\": \"long\", \"Departure station\": \"station\"})\n",
    "temp = data.groupby([\"month\", \"day_of_week\", \"period\", \"Departure lat\", \"Departure long\", \"Departure station\"])[\"temperature\"].mean().reset_index(name=\"temperature\")\n",
    "counts_data_departure[\"temperature\"] = temp[\"temperature\"]\n",
    "\n",
    "counts_data_return = data.groupby([\"month\", \"day_of_week\", \"period\", \"Return lat\", \"Return long\", \"Return station\"]).size().reset_index(name='counts_return')\n",
    "counts_data_return = counts_data_return.rename(columns={\"Return lat\": \"lat\", \"Return long\": \"long\", \"Return station\": \"station\"})"
   ]
  },
  {
   "cell_type": "code",
   "execution_count": 142,
   "metadata": {},
   "outputs": [
    {
     "name": "stdout",
     "output_type": "stream",
     "text": [
      "(52510, 8) (51832, 7)\n"
     ]
    }
   ],
   "source": [
    "print(counts_data_departure.shape, counts_data_return.shape)"
   ]
  },
  {
   "cell_type": "code",
   "execution_count": 143,
   "metadata": {},
   "outputs": [],
   "source": [
    "merge_data = counts_data_return.merge(counts_data_departure[[\"month\", \"day_of_week\", \"period\", \"temperature\", \"station\", \"lat\", \"long\", \"counts_departure\"]], how=\"right\", on=[\"month\", \"day_of_week\", \"period\", \"station\", \"lat\", \"long\"])\n",
    "merge_data.shape\n",
    "merge_data[\"counts_return\"] = merge_data[\"counts_return\"].fillna(0)"
   ]
  },
  {
   "cell_type": "code",
   "execution_count": 144,
   "metadata": {},
   "outputs": [
    {
     "data": {
      "text/html": [
       "<div>\n",
       "<style scoped>\n",
       "    .dataframe tbody tr th:only-of-type {\n",
       "        vertical-align: middle;\n",
       "    }\n",
       "\n",
       "    .dataframe tbody tr th {\n",
       "        vertical-align: top;\n",
       "    }\n",
       "\n",
       "    .dataframe thead th {\n",
       "        text-align: right;\n",
       "    }\n",
       "</style>\n",
       "<table border=\"1\" class=\"dataframe\">\n",
       "  <thead>\n",
       "    <tr style=\"text-align: right;\">\n",
       "      <th></th>\n",
       "      <th>month</th>\n",
       "      <th>day_of_week</th>\n",
       "      <th>period</th>\n",
       "      <th>lat</th>\n",
       "      <th>long</th>\n",
       "      <th>station</th>\n",
       "      <th>counts_return</th>\n",
       "      <th>temperature</th>\n",
       "      <th>counts_departure</th>\n",
       "    </tr>\n",
       "  </thead>\n",
       "  <tbody>\n",
       "    <tr>\n",
       "      <th>0</th>\n",
       "      <td>1</td>\n",
       "      <td>1</td>\n",
       "      <td>Afternoon</td>\n",
       "      <td>43.390667</td>\n",
       "      <td>-79.763537</td>\n",
       "      <td>0981 Workshop - Service Complete</td>\n",
       "      <td>0.0</td>\n",
       "      <td>30.000000</td>\n",
       "      <td>2</td>\n",
       "    </tr>\n",
       "    <tr>\n",
       "      <th>1</th>\n",
       "      <td>1</td>\n",
       "      <td>1</td>\n",
       "      <td>Afternoon</td>\n",
       "      <td>44.231878</td>\n",
       "      <td>-76.485435</td>\n",
       "      <td>0215 Princess &amp; Union</td>\n",
       "      <td>5.0</td>\n",
       "      <td>14.750000</td>\n",
       "      <td>2</td>\n",
       "    </tr>\n",
       "    <tr>\n",
       "      <th>2</th>\n",
       "      <td>1</td>\n",
       "      <td>1</td>\n",
       "      <td>Afternoon</td>\n",
       "      <td>44.821573</td>\n",
       "      <td>-64.237719</td>\n",
       "      <td>0281 Windsor &amp; 14th</td>\n",
       "      <td>2.0</td>\n",
       "      <td>15.000000</td>\n",
       "      <td>1</td>\n",
       "    </tr>\n",
       "    <tr>\n",
       "      <th>3</th>\n",
       "      <td>1</td>\n",
       "      <td>1</td>\n",
       "      <td>Afternoon</td>\n",
       "      <td>45.514375</td>\n",
       "      <td>-73.811420</td>\n",
       "      <td>0177 Quebec &amp; 1st</td>\n",
       "      <td>17.0</td>\n",
       "      <td>12.071429</td>\n",
       "      <td>7</td>\n",
       "    </tr>\n",
       "    <tr>\n",
       "      <th>4</th>\n",
       "      <td>1</td>\n",
       "      <td>1</td>\n",
       "      <td>Afternoon</td>\n",
       "      <td>49.140196</td>\n",
       "      <td>-122.313343</td>\n",
       "      <td>0192 7th &amp;  Alder</td>\n",
       "      <td>4.0</td>\n",
       "      <td>15.300000</td>\n",
       "      <td>5</td>\n",
       "    </tr>\n",
       "  </tbody>\n",
       "</table>\n",
       "</div>"
      ],
      "text/plain": [
       "   month  day_of_week     period        lat        long  \\\n",
       "0      1            1  Afternoon  43.390667  -79.763537   \n",
       "1      1            1  Afternoon  44.231878  -76.485435   \n",
       "2      1            1  Afternoon  44.821573  -64.237719   \n",
       "3      1            1  Afternoon  45.514375  -73.811420   \n",
       "4      1            1  Afternoon  49.140196 -122.313343   \n",
       "\n",
       "                            station  counts_return  temperature  \\\n",
       "0  0981 Workshop - Service Complete            0.0    30.000000   \n",
       "1             0215 Princess & Union            5.0    14.750000   \n",
       "2               0281 Windsor & 14th            2.0    15.000000   \n",
       "3                 0177 Quebec & 1st           17.0    12.071429   \n",
       "4                 0192 7th &  Alder            4.0    15.300000   \n",
       "\n",
       "   counts_departure  \n",
       "0                 2  \n",
       "1                 2  \n",
       "2                 1  \n",
       "3                 7  \n",
       "4                 5  "
      ]
     },
     "execution_count": 144,
     "metadata": {},
     "output_type": "execute_result"
    }
   ],
   "source": [
    "merge_data.head()"
   ]
  },
  {
   "cell_type": "code",
   "execution_count": 145,
   "metadata": {},
   "outputs": [],
   "source": [
    "def label_cal(x):\n",
    "    if x['counts_return'] == 0 and x['counts_departure'] == 0:\n",
    "        return 0\n",
    "    elif x['counts_return'] == 0 and x['counts_departure'] >= 5:\n",
    "        return 2\n",
    "    elif x['counts_return'] == 0 and x['counts_departure'] < 5:\n",
    "        return 0\n",
    "    elif x['counts_departure'] == 0 and x['counts_return'] >= 5:\n",
    "        return 1\n",
    "    elif x['counts_departure'] == 0 and x['counts_return'] < 5:\n",
    "        return 0\n",
    "    elif x['counts_return'] / x['counts_departure'] > 2 and x['counts_return'] - x['counts_departure'] >= 5:\n",
    "        return 1\n",
    "    elif x['counts_departure'] / x['counts_return'] > 2 and x['counts_departure'] - x['counts_return'] >= 5:\n",
    "        return 2\n",
    "    else:\n",
    "        return 0"
   ]
  },
  {
   "cell_type": "code",
   "execution_count": 146,
   "metadata": {},
   "outputs": [
    {
     "data": {
      "text/plain": [
       "month               0\n",
       "day_of_week         0\n",
       "period              0\n",
       "lat                 0\n",
       "long                0\n",
       "station             0\n",
       "counts_return       0\n",
       "temperature         0\n",
       "counts_departure    0\n",
       "dtype: int64"
      ]
     },
     "execution_count": 146,
     "metadata": {},
     "output_type": "execute_result"
    }
   ],
   "source": [
    "merge_data.isnull().sum()"
   ]
  },
  {
   "cell_type": "code",
   "execution_count": 147,
   "metadata": {},
   "outputs": [],
   "source": [
    "merge_data['label'] = merge_data.apply(label_cal,axis=1)"
   ]
  },
  {
   "cell_type": "code",
   "execution_count": 148,
   "metadata": {},
   "outputs": [
    {
     "data": {
      "text/plain": [
       "0    43510\n",
       "2     5230\n",
       "1     3770\n",
       "Name: label, dtype: int64"
      ]
     },
     "execution_count": 148,
     "metadata": {},
     "output_type": "execute_result"
    }
   ],
   "source": [
    "merge_data['label'].value_counts()"
   ]
  },
  {
   "cell_type": "code",
   "execution_count": 149,
   "metadata": {},
   "outputs": [
    {
     "data": {
      "text/html": [
       "<div>\n",
       "<style scoped>\n",
       "    .dataframe tbody tr th:only-of-type {\n",
       "        vertical-align: middle;\n",
       "    }\n",
       "\n",
       "    .dataframe tbody tr th {\n",
       "        vertical-align: top;\n",
       "    }\n",
       "\n",
       "    .dataframe thead th {\n",
       "        text-align: right;\n",
       "    }\n",
       "</style>\n",
       "<table border=\"1\" class=\"dataframe\">\n",
       "  <thead>\n",
       "    <tr style=\"text-align: right;\">\n",
       "      <th></th>\n",
       "      <th>month</th>\n",
       "      <th>day_of_week</th>\n",
       "      <th>period</th>\n",
       "      <th>lat</th>\n",
       "      <th>long</th>\n",
       "      <th>station</th>\n",
       "      <th>counts_return</th>\n",
       "      <th>temperature</th>\n",
       "      <th>counts_departure</th>\n",
       "      <th>label</th>\n",
       "    </tr>\n",
       "  </thead>\n",
       "  <tbody>\n",
       "    <tr>\n",
       "      <th>0</th>\n",
       "      <td>1</td>\n",
       "      <td>1</td>\n",
       "      <td>Afternoon</td>\n",
       "      <td>43.390667</td>\n",
       "      <td>-79.763537</td>\n",
       "      <td>0981 Workshop - Service Complete</td>\n",
       "      <td>0.0</td>\n",
       "      <td>30.000000</td>\n",
       "      <td>2</td>\n",
       "      <td>0</td>\n",
       "    </tr>\n",
       "    <tr>\n",
       "      <th>1</th>\n",
       "      <td>1</td>\n",
       "      <td>1</td>\n",
       "      <td>Afternoon</td>\n",
       "      <td>44.231878</td>\n",
       "      <td>-76.485435</td>\n",
       "      <td>0215 Princess &amp; Union</td>\n",
       "      <td>5.0</td>\n",
       "      <td>14.750000</td>\n",
       "      <td>2</td>\n",
       "      <td>0</td>\n",
       "    </tr>\n",
       "    <tr>\n",
       "      <th>2</th>\n",
       "      <td>1</td>\n",
       "      <td>1</td>\n",
       "      <td>Afternoon</td>\n",
       "      <td>44.821573</td>\n",
       "      <td>-64.237719</td>\n",
       "      <td>0281 Windsor &amp; 14th</td>\n",
       "      <td>2.0</td>\n",
       "      <td>15.000000</td>\n",
       "      <td>1</td>\n",
       "      <td>0</td>\n",
       "    </tr>\n",
       "    <tr>\n",
       "      <th>3</th>\n",
       "      <td>1</td>\n",
       "      <td>1</td>\n",
       "      <td>Afternoon</td>\n",
       "      <td>45.514375</td>\n",
       "      <td>-73.811420</td>\n",
       "      <td>0177 Quebec &amp; 1st</td>\n",
       "      <td>17.0</td>\n",
       "      <td>12.071429</td>\n",
       "      <td>7</td>\n",
       "      <td>1</td>\n",
       "    </tr>\n",
       "    <tr>\n",
       "      <th>4</th>\n",
       "      <td>1</td>\n",
       "      <td>1</td>\n",
       "      <td>Afternoon</td>\n",
       "      <td>49.140196</td>\n",
       "      <td>-122.313343</td>\n",
       "      <td>0192 7th &amp;  Alder</td>\n",
       "      <td>4.0</td>\n",
       "      <td>15.300000</td>\n",
       "      <td>5</td>\n",
       "      <td>0</td>\n",
       "    </tr>\n",
       "  </tbody>\n",
       "</table>\n",
       "</div>"
      ],
      "text/plain": [
       "   month  day_of_week     period        lat        long  \\\n",
       "0      1            1  Afternoon  43.390667  -79.763537   \n",
       "1      1            1  Afternoon  44.231878  -76.485435   \n",
       "2      1            1  Afternoon  44.821573  -64.237719   \n",
       "3      1            1  Afternoon  45.514375  -73.811420   \n",
       "4      1            1  Afternoon  49.140196 -122.313343   \n",
       "\n",
       "                            station  counts_return  temperature  \\\n",
       "0  0981 Workshop - Service Complete            0.0    30.000000   \n",
       "1             0215 Princess & Union            5.0    14.750000   \n",
       "2               0281 Windsor & 14th            2.0    15.000000   \n",
       "3                 0177 Quebec & 1st           17.0    12.071429   \n",
       "4                 0192 7th &  Alder            4.0    15.300000   \n",
       "\n",
       "   counts_departure  label  \n",
       "0                 2      0  \n",
       "1                 2      0  \n",
       "2                 1      0  \n",
       "3                 7      1  \n",
       "4                 5      0  "
      ]
     },
     "execution_count": 149,
     "metadata": {},
     "output_type": "execute_result"
    }
   ],
   "source": [
    "merge_data.head()"
   ]
  },
  {
   "cell_type": "code",
   "execution_count": 150,
   "metadata": {},
   "outputs": [],
   "source": [
    "departure_time_df = generate_time_df('2020-01-01', 8760)"
   ]
  },
  {
   "cell_type": "code",
   "execution_count": 151,
   "metadata": {},
   "outputs": [],
   "source": [
    "departure_time_df['period'] = departure_time_df['hour'].apply(hour_transf)"
   ]
  },
  {
   "cell_type": "code",
   "execution_count": 152,
   "metadata": {},
   "outputs": [],
   "source": [
    "departure_time_df['day_of_week'] = departure_time_df['day'] + 1"
   ]
  },
  {
   "cell_type": "code",
   "execution_count": 153,
   "metadata": {},
   "outputs": [
    {
     "data": {
      "text/plain": [
       "(52510, 14)"
      ]
     },
     "execution_count": 153,
     "metadata": {},
     "output_type": "execute_result"
    }
   ],
   "source": [
    "train_data = departure_time_df[[\"month\", \"day_of_week\", \"period\", \"station\", \"bike_ways\",\"parks\",\"stops\",\"population\"]].drop_duplicates().merge(merge_data, how=\"right\", on=[\"month\", \"day_of_week\", \"period\", \"station\"])\n",
    "#train_data[\"counts\"] = train_data[\"counts\"].fillna(0)\n",
    "train_data.shape"
   ]
  },
  {
   "cell_type": "code",
   "execution_count": 154,
   "metadata": {},
   "outputs": [
    {
     "data": {
      "text/plain": [
       "month                  0\n",
       "day_of_week            0\n",
       "period                 0\n",
       "station                0\n",
       "bike_ways           1995\n",
       "parks               1995\n",
       "stops               1995\n",
       "population          1995\n",
       "lat                    0\n",
       "long                   0\n",
       "counts_return          0\n",
       "temperature            0\n",
       "counts_departure       0\n",
       "label                  0\n",
       "dtype: int64"
      ]
     },
     "execution_count": 154,
     "metadata": {},
     "output_type": "execute_result"
    }
   ],
   "source": [
    "train_data.isnull().sum()"
   ]
  },
  {
   "cell_type": "code",
   "execution_count": 155,
   "metadata": {},
   "outputs": [],
   "source": [
    "train_data.dropna().to_csv('data_2020_merged_xgbClassify.csv')"
   ]
  },
  {
   "cell_type": "code",
   "execution_count": 156,
   "metadata": {},
   "outputs": [
    {
     "name": "stdout",
     "output_type": "stream",
     "text": [
      "Index(['Unnamed: 0', 'Departure', 'Return', 'Bike', 'Departure station',\n",
      "       'Return station', 'Membership type', 'Covered distance (m)',\n",
      "       'Duration (sec.)', 'Departure battery voltage (mV)',\n",
      "       'Return battery voltage (mV)', 'Departure temperature (C)',\n",
      "       'Return temperature (C)', 'Stopover duration (sec.)',\n",
      "       'Number of stopovers', 'postal_code_x', 'Departure lat',\n",
      "       'Departure long', 'postal_code_y', 'Return lat', 'Return long'],\n",
      "      dtype='object')\n"
     ]
    },
    {
     "data": {
      "text/plain": [
       "(30439, 9)"
      ]
     },
     "execution_count": 156,
     "metadata": {},
     "output_type": "execute_result"
    }
   ],
   "source": [
    "mobi_data = pd.read_csv(\"../data/Mobi_System_Data_2021.csv\", compression='zip').dropna()\n",
    "geo_data = pd.read_csv('../data/geocodings.csv',index_col=0)\n",
    "data = mobi_data.merge(geo_data.rename({'lat':'Departure lat','long':'Departure long'},axis=1),left_on='Departure station',right_on='address').drop('address',axis=1)\n",
    "data = data.merge(geo_data.rename({'lat':'Return lat','long':'Return long'},axis=1),left_on='Return station',right_on='address').drop('address',axis=1)\n",
    "data.shape\n",
    "# data = data.loc[data[\"Departure postal code\"].str.startswith(\"V6\")]\n",
    "print(data.columns)\n",
    "data[\"time\"] = pd.to_datetime(data[\"Departure\"], format=\"%Y-%m-%d %H:%M:%S\")\n",
    "data[\"hour\"] = data[\"time\"].dt.hour\n",
    "data[\"day\"] = data[\"time\"].dt.dayofweek\n",
    "data[\"month\"] = data[\"time\"].dt.month\n",
    "data[\"year\"] = data[\"time\"].dt.year\n",
    "data[\"temperature\"] = data[\"Departure temperature (C)\"] + data['Return temperature (C)'] / 2\n",
    "stations = pd.read_csv(\"../data/stations.csv\")\n",
    "max_lat, min_lat = stations[\"lat\"].max(), stations[\"lat\"].min()\n",
    "max_long, min_long = stations[\"long\"].max(), stations[\"long\"].min()\n",
    "\n",
    "data['day_of_week'] = data['Departure'].apply(day_of_week)\n",
    "\n",
    "data['period'] = data['hour'].apply(hour_transf)\n",
    "\n",
    "#features_departure = [\"month\", \"day\", \"hour\", \"lat\", \"long\", \"parks\", \"stops\", \"population\", \"bike_ways\"]\n",
    "counts_data_departure = data.groupby([\"month\", \"day_of_week\", \"period\", \"Departure lat\", \"Departure long\", \"Departure station\"]).size().reset_index(name='counts_departure')\n",
    "counts_data_departure = counts_data_departure.rename(columns={\"Departure lat\": \"lat\", \"Departure long\": \"long\", \"Departure station\": \"station\"})\n",
    "temp = data.groupby([\"month\", \"day_of_week\", \"period\", \"Departure lat\", \"Departure long\", \"Departure station\"])[\"temperature\"].mean().reset_index(name=\"temperature\")\n",
    "counts_data_departure[\"temperature\"] = temp[\"temperature\"]\n",
    "\n",
    "counts_data_return = data.groupby([\"month\", \"day_of_week\", \"period\", \"Return lat\", \"Return long\", \"Return station\"]).size().reset_index(name='counts_return')\n",
    "counts_data_return = counts_data_return.rename(columns={\"Return lat\": \"lat\", \"Return long\": \"long\", \"Return station\": \"station\"})\n",
    "\n",
    "data_2021 = counts_data_return.merge(counts_data_departure[[\"month\", \"day_of_week\", \"period\", \"temperature\", \"station\", \"lat\", \"long\", \"counts_departure\"]], how=\"right\", on=[\"month\", \"day_of_week\", \"period\", \"station\", \"lat\", \"long\"])\n",
    "data_2021.shape\n",
    "data_2021[\"counts_return\"] = data_2021[\"counts_return\"].fillna(0)\n",
    "data_2021.shape"
   ]
  },
  {
   "cell_type": "code",
   "execution_count": 157,
   "metadata": {},
   "outputs": [],
   "source": [
    "data_2021['label'] = data_2021.apply(label_cal,axis=1)"
   ]
  },
  {
   "cell_type": "code",
   "execution_count": 158,
   "metadata": {},
   "outputs": [
    {
     "data": {
      "text/plain": [
       "(30439, 14)"
      ]
     },
     "execution_count": 158,
     "metadata": {},
     "output_type": "execute_result"
    }
   ],
   "source": [
    "data_2021 = departure_time_df[[\"month\", \"day_of_week\", \"period\", \"station\", \"bike_ways\",\"parks\",\"stops\",\"population\"]].drop_duplicates().merge(data_2021, how=\"right\", on=[\"month\", \"day_of_week\", \"period\", \"station\"])\n",
    "#train_data[\"counts\"] = train_data[\"counts\"].fillna(0)\n",
    "data_2021.shape"
   ]
  },
  {
   "cell_type": "code",
   "execution_count": 159,
   "metadata": {},
   "outputs": [
    {
     "data": {
      "text/plain": [
       "month                  0\n",
       "day_of_week            0\n",
       "period                 0\n",
       "station                0\n",
       "bike_ways           1638\n",
       "parks               1638\n",
       "stops               1638\n",
       "population          1638\n",
       "lat                    0\n",
       "long                   0\n",
       "counts_return          0\n",
       "temperature            0\n",
       "counts_departure       0\n",
       "label                  0\n",
       "dtype: int64"
      ]
     },
     "execution_count": 159,
     "metadata": {},
     "output_type": "execute_result"
    }
   ],
   "source": [
    "data_2021.isnull().sum()"
   ]
  },
  {
   "cell_type": "code",
   "execution_count": 160,
   "metadata": {},
   "outputs": [],
   "source": [
    "data_2021 = data_2021.dropna()"
   ]
  },
  {
   "cell_type": "code",
   "execution_count": 161,
   "metadata": {},
   "outputs": [],
   "source": [
    "dummy_periods = pd.get_dummies(data_2021['period'])\n",
    "df = pd.merge(\n",
    "    left=data_2021,\n",
    "    right=dummy_periods,\n",
    "    left_index=True,\n",
    "    right_index=True,\n",
    ")\n",
    "df = df.drop(['station','period','counts_return','counts_departure'], axis=1)"
   ]
  },
  {
   "cell_type": "code",
   "execution_count": 163,
   "metadata": {},
   "outputs": [
    {
     "name": "stdout",
     "output_type": "stream",
     "text": [
      "Index(['month', 'day_of_week', 'bike_ways', 'parks', 'stops', 'population',\n",
      "       'lat', 'long', 'temperature', 'label', 'Afternoon', 'Evening',\n",
      "       'Morning', 'Wee'],\n",
      "      dtype='object')\n"
     ]
    }
   ],
   "source": [
    "test_data_jan = df[df.month==1]\n",
    "print(test_data_jan.columns)\n",
    "test_data_jan.to_csv('202101_test.csv')"
   ]
  }
 ],
 "metadata": {
  "interpreter": {
   "hash": "957bddfe8fd335a1fe8264488f6b65de04e4bb5a6f224d9a47cb9560e47cf926"
  },
  "kernelspec": {
   "display_name": "Python 3.7.11 ('cmpt733')",
   "language": "python",
   "name": "python3"
  },
  "language_info": {
   "codemirror_mode": {
    "name": "ipython",
    "version": 3
   },
   "file_extension": ".py",
   "mimetype": "text/x-python",
   "name": "python",
   "nbconvert_exporter": "python",
   "pygments_lexer": "ipython3",
   "version": "3.7.11"
  },
  "orig_nbformat": 4
 },
 "nbformat": 4,
 "nbformat_minor": 2
}
