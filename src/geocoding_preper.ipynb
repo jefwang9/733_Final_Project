{
 "cells": [
  {
   "cell_type": "code",
   "execution_count": 1,
   "id": "19a99758",
   "metadata": {
    "scrolled": true
   },
   "outputs": [],
   "source": [
    "import pickle\n",
    "from geocoding_getter import *\n",
    "import numpy as np\n",
    "import pandas as pd"
   ]
  },
  {
   "cell_type": "markdown",
   "id": "a2767ce2",
   "metadata": {},
   "source": [
    "# Please don't simply run all code blocks; some will overwrite existing cached geocodings!! (Even though we have git to back us up)"
   ]
  },
  {
   "cell_type": "code",
   "execution_count": null,
   "id": "6d18429a",
   "metadata": {
    "scrolled": true
   },
   "outputs": [],
   "source": [
    "geocodings = dict()"
   ]
  },
  {
   "cell_type": "code",
   "execution_count": 94,
   "id": "a8371f31",
   "metadata": {
    "scrolled": true
   },
   "outputs": [],
   "source": [
    "with open(\"../data/tmp/geocodings.pickle\", 'wb') as f:\n",
    "    pickle.dump(geocodings, f, protocol=pickle.HIGHEST_PROTOCOL)"
   ]
  },
  {
   "cell_type": "code",
   "execution_count": 2,
   "id": "d91523a1",
   "metadata": {
    "scrolled": true
   },
   "outputs": [],
   "source": [
    "with open(\"../data/tmp/geocodings.pickle\", 'rb') as f:\n",
    "    geocodings = pickle.load(f)"
   ]
  },
  {
   "cell_type": "code",
   "execution_count": 20,
   "id": "cf35435f",
   "metadata": {
    "scrolled": true
   },
   "outputs": [],
   "source": [
    "DATA_FOLDER = \"../data/\"\n",
    "PREFIX = \"Mobi_System_Data_\"\n",
    "VERBOSE = False"
   ]
  },
  {
   "cell_type": "code",
   "execution_count": 67,
   "id": "ec7cd6b1",
   "metadata": {
    "scrolled": true
   },
   "outputs": [
    {
     "name": "stdout",
     "output_type": "stream",
     "text": [
      "Processing year 2017 ...\n",
      "Processing year 2018 ...\n",
      "***NotFound*** 0994 station for tests\n",
      "***NotFound*** station for tests\n",
      "***NotFound*** 0999 Bike Production\n",
      "***NotFound*** Bike Production\n",
      "***NotFound*** 0997 HQ Workshop\n",
      "***NotFound*** HQ Workshop\n",
      "***NotFound*** 222-0999.4 Smoove_test_4\n",
      "***NotFound*** Smoove_test_4\n",
      "***NotFound*** 223-0999.5 Smoove_test_5\n",
      "***NotFound*** Smoove_test_5\n",
      "Processing year 2019 ...\n",
      "***NotFound*** 0991 HQ Workshop\n",
      "***NotFound*** HQ Workshop\n",
      "***NotFound*** 1000 Temporary Event: Granville Island Bike Valet\n",
      "***NotFound*** Temporary Event: Granville Island Bike Valet\n",
      "***NotFound*** 1000 Fireworks Mobi Bike Valet (brought to you by BEST/Translink)\n",
      "***NotFound*** Fireworks Mobi Bike Valet (brought to you by BEST/Translink)\n",
      "***NotFound*** 0980 Workshop - Balancer Bike Check In\n",
      "***NotFound*** Workshop - Balancer Bike Check In\n",
      "***NotFound*** 9999 Smoove_atelier\n",
      "***NotFound*** Smoove_atelier\n",
      "***NotFound*** 0982 Workshop - Bike Testing\n",
      "***NotFound*** Workshop - Bike Testing\n",
      "***NotFound*** 0994 Workshop - Testing\n",
      "***NotFound*** Workshop - Testing\n",
      "Processing year 2020 ...\n",
      "Processing year 2021 ...\n",
      "***NotFound*** 0998 Workshop Smoove\n",
      "***NotFound*** Workshop Smoove\n",
      "***NotFound*** 0189 Granville Island\n"
     ]
    }
   ],
   "source": [
    "years = [2017, 2018, 2019, 2020, 2021]\n",
    "\n",
    "for y in years:\n",
    "    df = pd.read_csv(DATA_FOLDER + PREFIX + str(y) + \".csv\", \n",
    "                    compression=\"zip\")\n",
    "    \n",
    "    print(\"Processing year \" + str(y) + \" ...\")\n",
    "        \n",
    "    _ = df.apply(process_geocoding, axis=1)"
   ]
  },
  {
   "cell_type": "code",
   "execution_count": 60,
   "id": "a1f409f6",
   "metadata": {},
   "outputs": [],
   "source": [
    "def process_geocoding(row):\n",
    "    _type = [\"Departure\", \"Return\"]\n",
    "    \n",
    "    for t in _type:\n",
    "        station_name = row[f\"{t} station\"]\n",
    "        \n",
    "        if isinstance(station_name, str):\n",
    "            get_geocoding(station_name)\n",
    "    \n",
    "    return"
   ]
  },
  {
   "cell_type": "code",
   "execution_count": 83,
   "id": "002bd175",
   "metadata": {
    "scrolled": true
   },
   "outputs": [],
   "source": [
    "def get_geocoding(station):\n",
    "    if VERBOSE:\n",
    "        print(\"looking for ... \" + station)\n",
    "    \n",
    "    if station in geocodings:\n",
    "        return geocodings[station]\n",
    "    else:\n",
    "        try:\n",
    "            lookup_res = geocoder(station)\n",
    "        except NotFound:\n",
    "            try:\n",
    "                # Make one more attempt without the station's id\n",
    "                _split = station.split(' ', 1)\n",
    "                lookup_res = geocoder(_split[1])\n",
    "            except NotFound:\n",
    "                lookup_res = (None, None, None)\n",
    "\n",
    "        geocodings[station] = lookup_res\n",
    "        \n",
    "        return lookup_res"
   ]
  },
  {
   "cell_type": "code",
   "execution_count": 5,
   "id": "df48fbec",
   "metadata": {
    "scrolled": true
   },
   "outputs": [],
   "source": [
    "def apply_geocoding(row):\n",
    "    _type = [\"Departure\", \"Return\"]\n",
    "    \n",
    "    for t in _type:\n",
    "        station_name = row[f\"{t} station\"]\n",
    "        \n",
    "        # Equivalent of comparing it with np.nan, check if NaN is passed in\n",
    "        if not isinstance(station_name, str):\n",
    "            values = (None, None, None)\n",
    "        else:\n",
    "            values = get_geocoding(station_name)\n",
    "        \n",
    "        tmp_series = pd.Series(data=values, \n",
    "                               index=[f\"{t} postal code\",\n",
    "                                      f\"{t} lat\",\n",
    "                                      f\"{t} long\"])\n",
    "        \n",
    "        row = row.append(tmp_series)\n",
    "\n",
    "    return row"
   ]
  },
  {
   "cell_type": "code",
   "execution_count": null,
   "id": "b02ce61b",
   "metadata": {
    "scrolled": true
   },
   "outputs": [],
   "source": [
    "geocoded_df = df.apply(apply_geocoding, axis=1)"
   ]
  },
  {
   "cell_type": "code",
   "execution_count": 93,
   "id": "46473330",
   "metadata": {},
   "outputs": [
    {
     "data": {
      "text/plain": [
       "254"
      ]
     },
     "execution_count": 93,
     "metadata": {},
     "output_type": "execute_result"
    }
   ],
   "source": [
    "len(geocodings)"
   ]
  },
  {
   "cell_type": "code",
   "execution_count": null,
   "id": "7dd88827",
   "metadata": {},
   "outputs": [],
   "source": [
    "geocoded_df.to_csv(\"../tmp_2017_geocoded.csv\", compression=\"zip\")"
   ]
  },
  {
   "cell_type": "code",
   "execution_count": 87,
   "id": "70bd9e1c",
   "metadata": {},
   "outputs": [],
   "source": [
    "to_pop = []"
   ]
  },
  {
   "cell_type": "code",
   "execution_count": 88,
   "id": "4d262e9d",
   "metadata": {
    "scrolled": false
   },
   "outputs": [],
   "source": [
    "# Check script\n",
    "for k, v in geocodings.items():\n",
    "#     if not v[0] or len(v[0]) != 6:\n",
    "    if not v[-1]:\n",
    "        to_pop.append(k)"
   ]
  },
  {
   "cell_type": "code",
   "execution_count": 92,
   "id": "97ad8911",
   "metadata": {},
   "outputs": [],
   "source": [
    "for s in to_pop:\n",
    "    geocodings.pop(s)"
   ]
  },
  {
   "cell_type": "code",
   "execution_count": 91,
   "id": "1a24b4fe",
   "metadata": {},
   "outputs": [],
   "source": [
    "with open(\"../data/not_found_stations.txt\", 'w') as f:\n",
    "    for item in to_pop:\n",
    "        f.write(\"%s\\n\" % item)"
   ]
  },
  {
   "cell_type": "code",
   "execution_count": 102,
   "id": "34d9711e",
   "metadata": {},
   "outputs": [],
   "source": [
    "items = [[k, v[0], v[1], v[2]] for k, v in geocodings.items()]\n",
    "geocodings_df = pd.DataFrame(items)\n",
    "geocodings_df.rename(columns={0: \"address\", 1: \"postal_code\", 2: \"lat\", 3: \"long\"}, \n",
    "                     inplace=True)"
   ]
  },
  {
   "cell_type": "code",
   "execution_count": 105,
   "id": "6ed4aa6c",
   "metadata": {},
   "outputs": [],
   "source": [
    "geocodings_df.to_csv(\"../data/geocodings.csv\")"
   ]
  }
 ],
 "metadata": {
  "kernelspec": {
   "display_name": "Python 3 (ipykernel)",
   "language": "python",
   "name": "python3"
  },
  "language_info": {
   "codemirror_mode": {
    "name": "ipython",
    "version": 3
   },
   "file_extension": ".py",
   "mimetype": "text/x-python",
   "name": "python",
   "nbconvert_exporter": "python",
   "pygments_lexer": "ipython3",
   "version": "3.9.9"
  }
 },
 "nbformat": 4,
 "nbformat_minor": 5
}
