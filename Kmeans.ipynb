{
 "cells": [
  {
   "cell_type": "code",
   "execution_count": 50,
   "id": "87f10146",
   "metadata": {},
   "outputs": [],
   "source": [
    "import pandas as pd\n",
    "import os\n",
    "import seaborn as sns\n",
    "import numpy as np\n",
    "import matplotlib.pyplot as plt\n",
    "from IPython.display import display, Markdown\n",
    "def displaymd(mdstr):\n",
    "    display(Markdown(mdstr))"
   ]
  },
  {
   "cell_type": "code",
   "execution_count": 17,
   "id": "805b942b",
   "metadata": {},
   "outputs": [],
   "source": [
    "file_dir = \"733_Final_Project/data/raw_mobibikes_data/Mobi_System_Data_2020/\"  # file directory\n",
    "all_csv_list = os.listdir(file_dir)\n",
    "for single_csv in all_csv_list:\n",
    "    single_data_frame = pd.read_csv(os.path.join(file_dir, single_csv))\n",
    "    if single_csv == all_csv_list[0]:\n",
    "        bike_data = single_data_frame\n",
    "    else:  # concatenate all csv to a single dataframe, ingore index\n",
    "        bike_data = pd.concat([bike_data, single_data_frame], ignore_index=True)"
   ]
  },
  {
   "cell_type": "code",
   "execution_count": 18,
   "id": "cb709e26",
   "metadata": {},
   "outputs": [
    {
     "data": {
      "text/html": [
       "<div>\n",
       "<style scoped>\n",
       "    .dataframe tbody tr th:only-of-type {\n",
       "        vertical-align: middle;\n",
       "    }\n",
       "\n",
       "    .dataframe tbody tr th {\n",
       "        vertical-align: top;\n",
       "    }\n",
       "\n",
       "    .dataframe thead th {\n",
       "        text-align: right;\n",
       "    }\n",
       "</style>\n",
       "<table border=\"1\" class=\"dataframe\">\n",
       "  <thead>\n",
       "    <tr style=\"text-align: right;\">\n",
       "      <th></th>\n",
       "      <th>Departure</th>\n",
       "      <th>Return</th>\n",
       "      <th>Bike</th>\n",
       "      <th>Departure station</th>\n",
       "      <th>Return station</th>\n",
       "      <th>Membership type</th>\n",
       "      <th>Covered distance (m)</th>\n",
       "      <th>Duration (sec.)</th>\n",
       "      <th>Departure battery voltage (mV)</th>\n",
       "      <th>Return battery voltage (mV)</th>\n",
       "      <th>Departure temperature (C)</th>\n",
       "      <th>Return temperature (C)</th>\n",
       "      <th>Stopover duration (sec.)</th>\n",
       "      <th>Number of bike stopovers</th>\n",
       "      <th>Number of stopovers</th>\n",
       "    </tr>\n",
       "  </thead>\n",
       "  <tbody>\n",
       "    <tr>\n",
       "      <th>0</th>\n",
       "      <td>2020-04-01 0:00</td>\n",
       "      <td>2020-04-01 0:00</td>\n",
       "      <td>1654.0</td>\n",
       "      <td>0088 Harwood &amp; Bute</td>\n",
       "      <td>0207 Alberni &amp; Jervis</td>\n",
       "      <td>365 Day Pass Plus SALE</td>\n",
       "      <td>1176.0</td>\n",
       "      <td>294</td>\n",
       "      <td>3831</td>\n",
       "      <td>3964</td>\n",
       "      <td>8</td>\n",
       "      <td>10</td>\n",
       "      <td>0</td>\n",
       "      <td>0.0</td>\n",
       "      <td>NaN</td>\n",
       "    </tr>\n",
       "    <tr>\n",
       "      <th>1</th>\n",
       "      <td>2020-03-31 23:00</td>\n",
       "      <td>2020-04-01 0:00</td>\n",
       "      <td>988.0</td>\n",
       "      <td>0009 Spyglass &amp; Seawall</td>\n",
       "      <td>0173 1st &amp; Columbia</td>\n",
       "      <td>365 Corporate Standard</td>\n",
       "      <td>588.0</td>\n",
       "      <td>187</td>\n",
       "      <td>3919</td>\n",
       "      <td>4001</td>\n",
       "      <td>7</td>\n",
       "      <td>8</td>\n",
       "      <td>0</td>\n",
       "      <td>0.0</td>\n",
       "      <td>NaN</td>\n",
       "    </tr>\n",
       "    <tr>\n",
       "      <th>2</th>\n",
       "      <td>2020-03-31 23:00</td>\n",
       "      <td>2020-03-31 23:00</td>\n",
       "      <td>1925.0</td>\n",
       "      <td>0011 Ontario &amp; Seawall</td>\n",
       "      <td>0010 Stamp's Landing</td>\n",
       "      <td>365 Corporate Standard</td>\n",
       "      <td>1366.0</td>\n",
       "      <td>355</td>\n",
       "      <td>3856</td>\n",
       "      <td>4032</td>\n",
       "      <td>6</td>\n",
       "      <td>6</td>\n",
       "      <td>0</td>\n",
       "      <td>0.0</td>\n",
       "      <td>NaN</td>\n",
       "    </tr>\n",
       "    <tr>\n",
       "      <th>3</th>\n",
       "      <td>2020-03-31 23:00</td>\n",
       "      <td>2020-03-31 23:00</td>\n",
       "      <td>1537.0</td>\n",
       "      <td>0159 Vine &amp; 4th</td>\n",
       "      <td>0187 Bute &amp; Davie</td>\n",
       "      <td>365 Day Pass Standard SALE</td>\n",
       "      <td>3299.0</td>\n",
       "      <td>1064</td>\n",
       "      <td>3934</td>\n",
       "      <td>4079</td>\n",
       "      <td>7</td>\n",
       "      <td>8</td>\n",
       "      <td>0</td>\n",
       "      <td>0.0</td>\n",
       "      <td>NaN</td>\n",
       "    </tr>\n",
       "    <tr>\n",
       "      <th>4</th>\n",
       "      <td>2020-03-31 22:00</td>\n",
       "      <td>2020-03-31 22:00</td>\n",
       "      <td>1991.0</td>\n",
       "      <td>0070 10th &amp; Granville</td>\n",
       "      <td>0068 Cypress &amp; Broadway</td>\n",
       "      <td>365 Plus</td>\n",
       "      <td>782.0</td>\n",
       "      <td>256</td>\n",
       "      <td>3848</td>\n",
       "      <td>4000</td>\n",
       "      <td>7</td>\n",
       "      <td>6</td>\n",
       "      <td>0</td>\n",
       "      <td>0.0</td>\n",
       "      <td>NaN</td>\n",
       "    </tr>\n",
       "  </tbody>\n",
       "</table>\n",
       "</div>"
      ],
      "text/plain": [
       "          Departure            Return    Bike        Departure station  \\\n",
       "0   2020-04-01 0:00   2020-04-01 0:00  1654.0      0088 Harwood & Bute   \n",
       "1  2020-03-31 23:00   2020-04-01 0:00   988.0  0009 Spyglass & Seawall   \n",
       "2  2020-03-31 23:00  2020-03-31 23:00  1925.0   0011 Ontario & Seawall   \n",
       "3  2020-03-31 23:00  2020-03-31 23:00  1537.0          0159 Vine & 4th   \n",
       "4  2020-03-31 22:00  2020-03-31 22:00  1991.0    0070 10th & Granville   \n",
       "\n",
       "            Return station             Membership type  Covered distance (m)  \\\n",
       "0    0207 Alberni & Jervis      365 Day Pass Plus SALE                1176.0   \n",
       "1      0173 1st & Columbia      365 Corporate Standard                 588.0   \n",
       "2     0010 Stamp's Landing      365 Corporate Standard                1366.0   \n",
       "3        0187 Bute & Davie  365 Day Pass Standard SALE                3299.0   \n",
       "4  0068 Cypress & Broadway                    365 Plus                 782.0   \n",
       "\n",
       "   Duration (sec.)  Departure battery voltage (mV)  \\\n",
       "0              294                            3831   \n",
       "1              187                            3919   \n",
       "2              355                            3856   \n",
       "3             1064                            3934   \n",
       "4              256                            3848   \n",
       "\n",
       "   Return battery voltage (mV)  Departure temperature (C)  \\\n",
       "0                         3964                          8   \n",
       "1                         4001                          7   \n",
       "2                         4032                          6   \n",
       "3                         4079                          7   \n",
       "4                         4000                          7   \n",
       "\n",
       "   Return temperature (C)  Stopover duration (sec.)  Number of bike stopovers  \\\n",
       "0                      10                         0                       0.0   \n",
       "1                       8                         0                       0.0   \n",
       "2                       6                         0                       0.0   \n",
       "3                       8                         0                       0.0   \n",
       "4                       6                         0                       0.0   \n",
       "\n",
       "   Number of stopovers  \n",
       "0                  NaN  \n",
       "1                  NaN  \n",
       "2                  NaN  \n",
       "3                  NaN  \n",
       "4                  NaN  "
      ]
     },
     "execution_count": 18,
     "metadata": {},
     "output_type": "execute_result"
    }
   ],
   "source": [
    "bike_data.head()"
   ]
  },
  {
   "cell_type": "code",
   "execution_count": 19,
   "id": "8e48935a",
   "metadata": {},
   "outputs": [
    {
     "data": {
      "text/plain": [
       "(572166, 15)"
      ]
     },
     "execution_count": 19,
     "metadata": {},
     "output_type": "execute_result"
    }
   ],
   "source": [
    "all_data_frame.shape"
   ]
  },
  {
   "cell_type": "code",
   "execution_count": 20,
   "id": "f482108f",
   "metadata": {},
   "outputs": [],
   "source": [
    "gps_data = pd.read_pickle('733_Final_Project/data/geocodings.pickle')"
   ]
  },
  {
   "cell_type": "code",
   "execution_count": 23,
   "id": "8beed2e8",
   "metadata": {},
   "outputs": [
    {
     "data": {
      "text/plain": [
       "133"
      ]
     },
     "execution_count": 23,
     "metadata": {},
     "output_type": "execute_result"
    }
   ],
   "source": [
    "len(gps_data)"
   ]
  },
  {
   "cell_type": "code",
   "execution_count": 24,
   "id": "0fc5665e",
   "metadata": {},
   "outputs": [
    {
     "data": {
      "text/plain": [
       "Departure                          8435\n",
       "Return                             8440\n",
       "Bike                               2054\n",
       "Departure station                   225\n",
       "Return station                      225\n",
       "Membership type                      22\n",
       "Covered distance (m)              10052\n",
       "Duration (sec.)                   13293\n",
       "Departure battery voltage (mV)      778\n",
       "Return battery voltage (mV)         799\n",
       "Departure temperature (C)            57\n",
       "Return temperature (C)               57\n",
       "Stopover duration (sec.)           3667\n",
       "Number of bike stopovers             13\n",
       "Number of stopovers                  14\n",
       "dtype: int64"
      ]
     },
     "execution_count": 24,
     "metadata": {},
     "output_type": "execute_result"
    }
   ],
   "source": [
    "all_data_frame.nunique()"
   ]
  },
  {
   "cell_type": "code",
   "execution_count": 151,
   "id": "75f817ec",
   "metadata": {},
   "outputs": [
    {
     "data": {
      "text/plain": [
       "(573706, 20)"
      ]
     },
     "execution_count": 151,
     "metadata": {},
     "output_type": "execute_result"
    }
   ],
   "source": [
    "data_2017 = pd.read_csv('733_Final_Project/tmp_2017_geocoded.csv',  compression='zip', index_col=0)\n",
    "data_2017.shape"
   ]
  },
  {
   "cell_type": "code",
   "execution_count": 152,
   "id": "318fed8d",
   "metadata": {},
   "outputs": [
    {
     "data": {
      "text/plain": [
       "Departure                          8476\n",
       "Return                             8474\n",
       "Bike                               1371\n",
       "Departure station                   132\n",
       "Return station                      133\n",
       "Membership type                      15\n",
       "Covered distance (m)              10080\n",
       "Duration (sec.)                   12900\n",
       "Departure battery voltage (mV)      680\n",
       "Return battery voltage (mV)         729\n",
       "Departure temperature (°C)           52\n",
       "Return temperature (°C)              50\n",
       "Stopover duration (sec.)           4014\n",
       "Number of stopovers                  14\n",
       "Departure postal code               117\n",
       "Departure lat                       131\n",
       "Departure long                      131\n",
       "Return postal code                  118\n",
       "Return lat                          132\n",
       "Return long                         132\n",
       "dtype: int64"
      ]
     },
     "execution_count": 152,
     "metadata": {},
     "output_type": "execute_result"
    }
   ],
   "source": [
    "data_2017.nunique()"
   ]
  },
  {
   "cell_type": "code",
   "execution_count": 47,
   "id": "a1eface5",
   "metadata": {},
   "outputs": [
    {
     "data": {
      "text/plain": [
       "Departure                           0\n",
       "Return                              3\n",
       "Bike                               65\n",
       "Departure station                   1\n",
       "Return station                     18\n",
       "Membership type                    89\n",
       "Covered distance (m)                0\n",
       "Duration (sec.)                     0\n",
       "Departure battery voltage (mV)      0\n",
       "Return battery voltage (mV)         0\n",
       "Departure temperature (°C)          0\n",
       "Return temperature (°C)             0\n",
       "Stopover duration (sec.)            0\n",
       "Number of stopovers                 0\n",
       "Departure postal code             279\n",
       "Departure lat                     279\n",
       "Departure long                    279\n",
       "Return postal code                345\n",
       "Return lat                        345\n",
       "Return long                       345\n",
       "dtype: int64"
      ]
     },
     "execution_count": 47,
     "metadata": {},
     "output_type": "execute_result"
    }
   ],
   "source": [
    "data_2017.isnull().sum()"
   ]
  },
  {
   "cell_type": "code",
   "execution_count": 153,
   "id": "f65f14b2",
   "metadata": {},
   "outputs": [
    {
     "data": {
      "text/plain": [
       "(573059, 20)"
      ]
     },
     "execution_count": 153,
     "metadata": {},
     "output_type": "execute_result"
    }
   ],
   "source": [
    "# drop Na\n",
    "data_2017 = data_2017.dropna()\n",
    "data_2017.shape"
   ]
  },
  {
   "cell_type": "code",
   "execution_count": 154,
   "id": "13784d6b",
   "metadata": {},
   "outputs": [
    {
     "data": {
      "text/plain": [
       "-123.104207    14984\n",
       "-123.136972    14893\n",
       "-123.137820    14496\n",
       "-123.142139    13550\n",
       "-123.150433    13524\n",
       "               ...  \n",
       "-123.126006       68\n",
       "-79.491336        43\n",
       "-123.098794       30\n",
       "-123.145782       16\n",
       "-123.124670        1\n",
       "Name: Return long, Length: 132, dtype: int64"
      ]
     },
     "execution_count": 154,
     "metadata": {},
     "output_type": "execute_result"
    }
   ],
   "source": [
    "data_2017['Return long'].value_counts()"
   ]
  },
  {
   "cell_type": "code",
   "execution_count": 155,
   "id": "177dc7e7",
   "metadata": {},
   "outputs": [
    {
     "data": {
      "text/plain": [
       "(413872, 20)"
      ]
     },
     "execution_count": 155,
     "metadata": {},
     "output_type": "execute_result"
    }
   ],
   "source": [
    "v6 = data_2017[data_2017['Return postal code'].str.startswith('V6')]\n",
    "v6 = v6[v6['Departure postal code'].str.startswith('V6')]\n",
    "v6.shape"
   ]
  },
  {
   "cell_type": "code",
   "execution_count": 156,
   "id": "be103c98",
   "metadata": {},
   "outputs": [
    {
     "data": {
      "text/plain": [
       "Departure                          8318\n",
       "Return                             8306\n",
       "Bike                               1365\n",
       "Departure station                   100\n",
       "Return station                      101\n",
       "Membership type                      15\n",
       "Covered distance (m)               9703\n",
       "Duration (sec.)                   11766\n",
       "Departure battery voltage (mV)      660\n",
       "Return battery voltage (mV)         707\n",
       "Departure temperature (°C)           52\n",
       "Return temperature (°C)              49\n",
       "Stopover duration (sec.)           3450\n",
       "Number of stopovers                  14\n",
       "Departure postal code                87\n",
       "Departure lat                       100\n",
       "Departure long                      100\n",
       "Return postal code                   88\n",
       "Return lat                          101\n",
       "Return long                         101\n",
       "dtype: int64"
      ]
     },
     "execution_count": 156,
     "metadata": {},
     "output_type": "execute_result"
    }
   ],
   "source": [
    "v6.nunique()"
   ]
  },
  {
   "cell_type": "code",
   "execution_count": 157,
   "id": "eb68f77b",
   "metadata": {},
   "outputs": [
    {
     "data": {
      "image/png": "[encoded data removed]",
      "text/plain": [
       "<Figure size 432x288 with 1 Axes>"
      ]
     },
     "metadata": {
      "needs_background": "light"
     },
     "output_type": "display_data"
    }
   ],
   "source": [
    "plt.scatter(v6['Return long'], v6['Return lat'], c='g')\n",
    "plt.scatter(v6['Departure long'], v6['Departure lat'], c='g',)\n",
    "plt.xlabel(\"LONG\")\n",
    "plt.ylabel(\"LAT\")\n",
    "plt.title('The Geo Info of Bike Station(V6)')\n",
    "plt.show()"
   ]
  },
  {
   "cell_type": "code",
   "execution_count": 96,
   "id": "3a96c00f",
   "metadata": {},
   "outputs": [],
   "source": [
    "from sklearn.cluster import KMeans\n",
    "from sklearn.preprocessing import StandardScaler"
   ]
  },
  {
   "cell_type": "code",
   "execution_count": 158,
   "id": "012b4106",
   "metadata": {},
   "outputs": [
    {
     "data": {
      "text/plain": [
       "(413872, 21)"
      ]
     },
     "execution_count": 158,
     "metadata": {},
     "output_type": "execute_result"
    }
   ],
   "source": [
    "v6['features'] = v6['Return long'].apply(lambda x : [x]) + v6['Return lat'].apply(lambda x : [x])\n",
    "v6.shape"
   ]
  },
  {
   "cell_type": "code",
   "execution_count": 159,
   "id": "628e4b6d",
   "metadata": {},
   "outputs": [],
   "source": [
    "scaler = StandardScaler()\n",
    "scaled_features = scaler.fit_transform(list(v6.features))"
   ]
  },
  {
   "cell_type": "code",
   "execution_count": 160,
   "id": "5c66bbb8",
   "metadata": {},
   "outputs": [],
   "source": [
    "X = list(v6['features'])\n",
    "kmeans = KMeans(n_clusters=3).fit(scaled_features)"
   ]
  },
  {
   "cell_type": "code",
   "execution_count": 161,
   "id": "43b15713",
   "metadata": {},
   "outputs": [],
   "source": [
    "df_kmeans_v6 = v6.copy()\n",
    "df_kmeans_v6['label'] = kmeans.labels_"
   ]
  },
  {
   "cell_type": "code",
   "execution_count": 162,
   "id": "3c199c80",
   "metadata": {},
   "outputs": [
    {
     "data": {
      "text/plain": [
       "1    186864\n",
       "0    157514\n",
       "2     69494\n",
       "Name: label, dtype: int64"
      ]
     },
     "execution_count": 162,
     "metadata": {},
     "output_type": "execute_result"
    }
   ],
   "source": [
    "df_kmeans_v6['label'].value_counts()"
   ]
  },
  {
   "cell_type": "code",
   "execution_count": 163,
   "id": "eaff6fc5",
   "metadata": {},
   "outputs": [
    {
     "data": {
      "image/png": "[encoded data removed]",
      "text/plain": [
       "<Figure size 432x288 with 1 Axes>"
      ]
     },
     "metadata": {
      "needs_background": "light"
     },
     "output_type": "display_data"
    }
   ],
   "source": [
    "sns.scatterplot(x='Return long', y='Return lat', hue='label', data=df_kmeans_v6)\n",
    "plt.xlabel(\"LONG\")\n",
    "plt.ylabel(\"LAT\")\n",
    "plt.title('3 Clusters with the Geo Info of Bike Station(V6)')\n",
    "plt.show()"
   ]
  },
  {
   "cell_type": "code",
   "execution_count": 164,
   "id": "403d2325",
   "metadata": {},
   "outputs": [
    {
     "data": {
      "text/plain": [
       "1    106209\n",
       "4     94016\n",
       "0     91560\n",
       "3     69408\n",
       "2     52679\n",
       "Name: label, dtype: int64"
      ]
     },
     "execution_count": 164,
     "metadata": {},
     "output_type": "execute_result"
    }
   ],
   "source": [
    "X = list(v6['features'])\n",
    "kmeans = KMeans(n_clusters=5).fit(scaled_features)\n",
    "df_kmeans_v6 = v6.copy()\n",
    "df_kmeans_v6['label'] = kmeans.labels_\n",
    "df_kmeans_v6['label'].value_counts()"
   ]
  },
  {
   "cell_type": "code",
   "execution_count": 165,
   "id": "cb018c80",
   "metadata": {},
   "outputs": [
    {
     "data": {
      "image/png": "[encoded data removed]",
      "text/plain": [
       "<Figure size 432x288 with 1 Axes>"
      ]
     },
     "metadata": {
      "needs_background": "light"
     },
     "output_type": "display_data"
    }
   ],
   "source": [
    "sns.scatterplot(x='Return long', y='Return lat', hue='label', data=df_kmeans_v6, palette=['green','orange','brown','dodgerblue','red'])\n",
    "plt.xlabel(\"LONG\")\n",
    "plt.ylabel(\"LAT\")\n",
    "plt.title('5 Clusters with the Geo Info of Bike Station(V6)')\n",
    "plt.show()"
   ]
  },
  {
   "cell_type": "code",
   "execution_count": 166,
   "id": "f889b698",
   "metadata": {},
   "outputs": [
    {
     "data": {
      "text/plain": [
       "4    77825\n",
       "7    71025\n",
       "1    65877\n",
       "6    51441\n",
       "3    50051\n",
       "0    48638\n",
       "2    25836\n",
       "5    23179\n",
       "Name: label, dtype: int64"
      ]
     },
     "execution_count": 166,
     "metadata": {},
     "output_type": "execute_result"
    }
   ],
   "source": [
    "X = list(v6['features'])\n",
    "kmeans = KMeans(n_clusters=8).fit(scaled_features)\n",
    "df_kmeans_v6 = v6.copy()\n",
    "df_kmeans_v6['label'] = kmeans.labels_\n",
    "df_kmeans_v6['label'].value_counts()"
   ]
  },
  {
   "cell_type": "code",
   "execution_count": 167,
   "id": "92604f01",
   "metadata": {},
   "outputs": [
    {
     "data": {
      "image/png": "[encoded data removed]",
      "text/plain": [
       "<Figure size 432x288 with 1 Axes>"
      ]
     },
     "metadata": {
      "needs_background": "light"
     },
     "output_type": "display_data"
    }
   ],
   "source": [
    "sns.scatterplot(x='Return long', y='Return lat', hue='label', data=df_kmeans_v6, \n",
    "                palette='RdYlBu')\n",
    "plt.xlabel(\"LONG\")\n",
    "plt.ylabel(\"LAT\")\n",
    "plt.title('8 Clusters with the Geo Info of Bike Station(V6)')\n",
    "plt.show()"
   ]
  },
  {
   "cell_type": "code",
   "execution_count": null,
   "id": "e153ec76",
   "metadata": {},
   "outputs": [],
   "source": []
  },
  {
   "cell_type": "code",
   "execution_count": null,
   "id": "d3777d50",
   "metadata": {},
   "outputs": [],
   "source": []
  },
  {
   "cell_type": "code",
   "execution_count": null,
   "id": "ecb84e41",
   "metadata": {},
   "outputs": [],
   "source": []
  },
  {
   "cell_type": "code",
   "execution_count": null,
   "id": "a68b7979",
   "metadata": {},
   "outputs": [],
   "source": []
  },
  {
   "cell_type": "code",
   "execution_count": null,
   "id": "1a7b7499",
   "metadata": {},
   "outputs": [],
   "source": []
  },
  {
   "cell_type": "code",
   "execution_count": null,
   "id": "c78bb3ec",
   "metadata": {},
   "outputs": [],
   "source": []
  },
  {
   "cell_type": "code",
   "execution_count": null,
   "id": "8d4654c8",
   "metadata": {},
   "outputs": [],
   "source": []
  },
  {
   "cell_type": "code",
   "execution_count": null,
   "id": "6874841d",
   "metadata": {},
   "outputs": [],
   "source": []
  },
  {
   "cell_type": "code",
   "execution_count": null,
   "id": "60851f0a",
   "metadata": {},
   "outputs": [],
   "source": []
  },
  {
   "cell_type": "code",
   "execution_count": null,
   "id": "0621f5a3",
   "metadata": {},
   "outputs": [],
   "source": []
  },
  {
   "cell_type": "code",
   "execution_count": null,
   "id": "84bcf236",
   "metadata": {},
   "outputs": [],
   "source": []
  },
  {
   "cell_type": "code",
   "execution_count": null,
   "id": "d6d55aed",
   "metadata": {},
   "outputs": [],
   "source": []
  },
  {
   "cell_type": "code",
   "execution_count": null,
   "id": "25f4d89b",
   "metadata": {},
   "outputs": [],
   "source": []
  },
  {
   "cell_type": "code",
   "execution_count": null,
   "id": "7752ce97",
   "metadata": {},
   "outputs": [],
   "source": []
  },
  {
   "cell_type": "code",
   "execution_count": null,
   "id": "1c2b8474",
   "metadata": {},
   "outputs": [],
   "source": []
  },
  {
   "cell_type": "code",
   "execution_count": null,
   "id": "c67fb9e8",
   "metadata": {},
   "outputs": [],
   "source": []
  },
  {
   "cell_type": "code",
   "execution_count": null,
   "id": "05445292",
   "metadata": {},
   "outputs": [],
   "source": []
  },
  {
   "cell_type": "code",
   "execution_count": null,
   "id": "c0f674fd",
   "metadata": {},
   "outputs": [],
   "source": []
  }
 ],
 "metadata": {
  "kernelspec": {
   "display_name": "Python 3 (ipykernel)",
   "language": "python",
   "name": "python3"
  },
  "language_info": {
   "codemirror_mode": {
    "name": "ipython",
    "version": 3
   },
   "file_extension": ".py",
   "mimetype": "text/x-python",
   "name": "python",
   "nbconvert_exporter": "python",
   "pygments_lexer": "ipython3",
   "version": "3.9.7"
  }
 },
 "nbformat": 4,
 "nbformat_minor": 5
}
